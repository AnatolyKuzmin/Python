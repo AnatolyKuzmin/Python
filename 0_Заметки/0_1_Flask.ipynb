{
 "cells": [
  {
   "cell_type": "markdown",
   "id": "434463d3-eb46-4953-95e2-73471c3ccba3",
   "metadata": {},
   "source": [
    "### Введение во Flask"
   ]
  },
  {
   "cell_type": "markdown",
   "id": "2f2b2ca4-7d94-4089-8a85-d2db40af918d",
   "metadata": {},
   "source": [
    "**Flask** — это микрофреймворк на Python для разработки веб-приложений."
   ]
  },
  {
   "cell_type": "raw",
   "id": "06fdaa75-08c2-4e38-9bd5-26a819d8619a",
   "metadata": {},
   "source": [
    "# Установка Flask\n",
    "pip install flask"
   ]
  },
  {
   "cell_type": "raw",
   "id": "47821f40-d062-48f6-9521-3faf9030f522",
   "metadata": {
    "vscode": {
     "languageId": "raw"
    }
   },
   "source": [
    "# python app.py\n",
    "from flask import Flask\n",
    "\n",
    "app = Flask(__name__)\n",
    "\n",
    "@app.route('/')\n",
    "def home():\n",
    "    return \"Привет, это главная страница!\"\n",
    "\n",
    "if __name__ == '__main__':\n",
    "    app.run(debug=True)"
   ]
  },
  {
   "cell_type": "code",
   "execution_count": null,
   "id": "3b1780c7-841a-4ce4-839a-bc5b9a82c98d",
   "metadata": {},
   "outputs": [],
   "source": []
  }
 ],
 "metadata": {
  "kernelspec": {
   "display_name": "Python 3 (ipykernel)",
   "language": "python",
   "name": "python3"
  },
  "language_info": {
   "codemirror_mode": {
    "name": "ipython",
    "version": 3
   },
   "file_extension": ".py",
   "mimetype": "text/x-python",
   "name": "python",
   "nbconvert_exporter": "python",
   "pygments_lexer": "ipython3",
   "version": "3.12.4"
  }
 },
 "nbformat": 4,
 "nbformat_minor": 5
}
