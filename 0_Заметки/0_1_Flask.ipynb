{
 "cells": [
  {
   "cell_type": "markdown",
   "id": "434463d3-eb46-4953-95e2-73471c3ccba3",
   "metadata": {},
   "source": [
    "### Введение во Flask"
   ]
  },
  {
   "cell_type": "markdown",
   "id": "2f2b2ca4-7d94-4089-8a85-d2db40af918d",
   "metadata": {},
   "source": [
    "**Flask** — это микрофреймворк на Python для разработки веб-приложений."
   ]
  },
  {
   "cell_type": "markdown",
   "id": "06fdaa75-08c2-4e38-9bd5-26a819d8619a",
   "metadata": {},
   "source": [
    "Установка Flask  \n",
    "```pip install flask```"
   ]
  },
  {
   "cell_type": "markdown",
   "id": "47821f40-d062-48f6-9521-3faf9030f522",
   "metadata": {
    "vscode": {
     "languageId": "raw"
    }
   },
   "source": [
    "python app.py\n",
    "\n",
    "```from flask import Flask```\n",
    "\n",
    "```app = Flask(__name__)```\n",
    "\n",
    "```@app.route('/')```  \n",
    "```def home():```  \n",
    "    ```return \"Привет, это главная страница!\"```  \n",
    "\n",
    "```if __name__ == '__main__':```  \n",
    "    ```app.run(debug=True)```\n",
    "\n",
    "- импорт класса **Flask**\n",
    "- создание экземпляра приложения с именем **app**\n",
    "- декораторсвязывает URL с функцией ***home***\n",
    "- запуск сервера в режиме отладки"
   ]
  },
  {
   "cell_type": "markdown",
   "id": "a5b7a68d",
   "metadata": {},
   "source": [
    "[Пример](https://github.com/AnatolyKuzmin/Python/tree/main/0_Заметки)"
   ]
  },
  {
   "cell_type": "markdown",
   "id": "3b1780c7-841a-4ce4-839a-bc5b9a82c98d",
   "metadata": {},
   "source": [
    "Шаблоны в Flask (Jinja2).\n",
    "\n",
    "Jinja2 — это мощный движок шаблонов для Python, который позволяет создавать HTML-страницы с динамическим содержимым."
   ]
  },
  {
   "cell_type": "markdown",
   "id": "e76ac7f2",
   "metadata": {},
   "source": [
    "WTForms — это библиотека для создания и обработки веб-форм в Python.\n",
    "\n",
    "```pip install flask-wtf```"
   ]
  },
  {
   "cell_type": "markdown",
   "id": "5338a1aa",
   "metadata": {},
   "source": [
    "[Пример](https://github.com/AnatolyKuzmin/Python/tree/main/0_Заметки/flask_WTF_project)"
   ]
  },
  {
   "cell_type": "markdown",
   "id": "3be498a2",
   "metadata": {},
   "source": [
    "### Работа с базами данных (SQLite) в Flask"
   ]
  },
  {
   "cell_type": "markdown",
   "id": "c8ce5921",
   "metadata": {},
   "source": [
    "**SQLite** — это легковесная реляционная база данных, которая идеально подходит для небольших приложений и прототипов.\n",
    "\n",
    "Установка  \n",
    "```pip install flask-sqlalchemy```"
   ]
  },
  {
   "cell_type": "markdown",
   "id": "895ebe83",
   "metadata": {},
   "source": [
    "[Пример](https://github.com/AnatolyKuzmin/Python/tree/main/0_Заметки/flask_SQL_project)"
   ]
  },
  {
   "cell_type": "markdown",
   "id": "6be935a8",
   "metadata": {},
   "source": [
    "#### REST API: создание простого API на Flask"
   ]
  },
  {
   "cell_type": "markdown",
   "id": "4885ce1e",
   "metadata": {},
   "source": [
    "(Representational State Transfer) — это архитектурный стиль, который используется для создания веб-сервисов."
   ]
  },
  {
   "cell_type": "markdown",
   "id": "daa85de5",
   "metadata": {},
   "source": []
  }
 ],
 "metadata": {
  "kernelspec": {
   "display_name": "Python 3 (ipykernel)",
   "language": "python",
   "name": "python3"
  },
  "language_info": {
   "codemirror_mode": {
    "name": "ipython",
    "version": 3
   },
   "file_extension": ".py",
   "mimetype": "text/x-python",
   "name": "python",
   "nbconvert_exporter": "python",
   "pygments_lexer": "ipython3",
   "version": "3.12.4"
  }
 },
 "nbformat": 4,
 "nbformat_minor": 5
}
