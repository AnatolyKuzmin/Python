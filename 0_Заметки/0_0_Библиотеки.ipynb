{
 "cells": [
  {
   "cell_type": "markdown",
   "metadata": {
    "jp-MarkdownHeadingCollapsed": true
   },
   "source": [
    "### Библиотека NumPy"
   ]
  },
  {
   "cell_type": "markdown",
   "metadata": {},
   "source": [
    "Библиотека для работы с многомерными массивами и матрицами в Python.  \n",
    "**NumPy**(Numerical Python) — это библиотека с открытым исходным кодом, которая обеспечивает поддержку больших многомерных массивов и матриц, а также предоставляет множество математических функций для их обработки. Основным объектом NumPy является массив (ndarray), который позволяет эффективно хранить и обрабатывать данные."
   ]
  },
  {
   "cell_type": "raw",
   "metadata": {},
   "source": [
    "# Установка NumPy\n",
    "pip install numpy"
   ]
  },
  {
   "cell_type": "code",
   "execution_count": 5,
   "metadata": {},
   "outputs": [
    {
     "name": "stdout",
     "output_type": "stream",
     "text": [
      "[1 2 3 4 5]\n",
      "[1 2 3 4 5]\n",
      "\n",
      "[[1 2 3]\n",
      " [4 5 6]]\n"
     ]
    }
   ],
   "source": [
    "# Создание массива\n",
    "import numpy as np\n",
    "\n",
    "# Создание одномерного массива\n",
    "array_1d = np.array([1, 2, 3, 4, 5])\n",
    "print(array_1d)\n",
    "\n",
    "print()\n",
    "\n",
    "# Создание двумерного массива\n",
    "array_2d = np.array([[1, 2, 3], [4, 5, 6]])\n",
    "print(array_2d)\n"
   ]
  },
  {
   "cell_type": "code",
   "execution_count": 7,
   "metadata": {},
   "outputs": [
    {
     "name": "stdout",
     "output_type": "stream",
     "text": [
      "Размерность: 2\n",
      "Форма: (2, 3)\n",
      "Количество элементов: 6\n",
      "Тип объекта: int32\n"
     ]
    }
   ],
   "source": [
    "# ndarray.ndim: число измерений массива.\n",
    "print(f\"Размерность: {array_2d.ndim}\")\n",
    "\n",
    "# ndarray.shape: размеры массива.\n",
    "print(f\"Форма: {array_2d.shape}\") \n",
    "\n",
    "# ndarray.size: общее количество элементов в массиве.\n",
    "print(f\"Количество элементов: {array_2d.size}\")\n",
    "\n",
    "# ndarray.dtype: тип данных элементов массива.\n",
    "print(f\"Тип объекта: {array_2d.dtype}\")"
   ]
  },
  {
   "cell_type": "code",
   "execution_count": 9,
   "metadata": {},
   "outputs": [
    {
     "name": "stdout",
     "output_type": "stream",
     "text": [
      "1\n",
      "6\n",
      "[2 5]\n"
     ]
    }
   ],
   "source": [
    "# Доступ к элементам массива осуществляется с помощью индексов.\n",
    "print(array_1d[0])\n",
    "print(array_2d[1, 2])\n",
    "print(array_2d[:, 1])"
   ]
  },
  {
   "cell_type": "code",
   "execution_count": 11,
   "metadata": {},
   "outputs": [
    {
     "name": "stdout",
     "output_type": "stream",
     "text": [
      "[5 7 9]\n",
      "[ 4 10 18]\n"
     ]
    }
   ],
   "source": [
    "# арифметические операции над массивами.\n",
    "a = np.array([1, 2, 3])\n",
    "b = np.array([4, 5, 6])\n",
    "\n",
    "print(a + b)\n",
    "print(a * b)"
   ]
  },
  {
   "cell_type": "code",
   "execution_count": 21,
   "metadata": {},
   "outputs": [
    {
     "name": "stdout",
     "output_type": "stream",
     "text": [
      "[[0. 0. 0.]\n",
      " [0. 0. 0.]\n",
      " [0. 0. 0.]]\n",
      "\n",
      "[[1. 1. 1. 1.]\n",
      " [1. 1. 1. 1.]]\n",
      "\n",
      "[[1. 0. 0.]\n",
      " [0. 1. 0.]\n",
      " [0. 0. 1.]]\n"
     ]
    }
   ],
   "source": [
    "# функции для создания массивов заполненных нулями или единицами.\n",
    "# Массив размером 3x3, заполненный нулями\n",
    "zeros_array = np.zeros((3, 3))\n",
    "\n",
    "# Массив размером 2x4, заполненный единицами\n",
    "ones_array = np.ones((2, 4))\n",
    "\n",
    "# Единичная матрица размером 3x3\n",
    "eye_array = np.eye(3)\n",
    "\n",
    "print(zeros_array, ones_array, eye_array, sep=\"\\n\\n\")"
   ]
  },
  {
   "cell_type": "code",
   "execution_count": 23,
   "metadata": {},
   "outputs": [
    {
     "name": "stdout",
     "output_type": "stream",
     "text": [
      "3.0\n",
      "3.0\n",
      "1.4142135623730951\n"
     ]
    }
   ],
   "source": [
    "# агрегатные функции для вычисления статистических показателей\n",
    "data = np.array([1, 2, 3, 4, 5])\n",
    "\n",
    "# Среднее значение: Вывод: 3.0\n",
    "print(np.mean(data))\n",
    "# Медиана: Вывод: 3.0\n",
    "print(np.median(data))\n",
    "# Стандартное отклонение: Вывод: ~1.41421356\n",
    "print(np.std(data))"
   ]
  },
  {
   "cell_type": "code",
   "execution_count": 27,
   "metadata": {},
   "outputs": [
    {
     "name": "stdout",
     "output_type": "stream",
     "text": [
      "[[19 22]\n",
      " [43 50]]\n",
      "[[19 22]\n",
      " [43 50]]\n"
     ]
    }
   ],
   "source": [
    "# умножения матриц используется функция np.dot() или оператор @.\n",
    "matrix_a = np.array([[1, 2], [3, 4]])\n",
    "matrix_b = np.array([[5, 6], [7, 8]])\n",
    "\n",
    "# Умножение матриц\n",
    "result = np.dot(matrix_a, matrix_b)\n",
    "# Альтернативный способ\n",
    "result_alt = matrix_a @ matrix_b\n",
    "\n",
    "print(result)\n",
    "print(result_alt)"
   ]
  },
  {
   "cell_type": "markdown",
   "metadata": {},
   "source": [
    "### Библиотека Pandas"
   ]
  },
  {
   "cell_type": "markdown",
   "metadata": {},
   "source": [
    "**Pandas** — это библиотека с открытым исходным кодом, предназначенная для обработки и анализа данных. Она предоставляет две основные структуры данных:  \n",
    "- **Series:** одномерный массив, который может хранить данные любого типа и имеет метки (индексы).\n",
    "- **DataFrame:** двумерная таблица, состоящая из строк и столбцов, где каждый столбец представляет собой объект Series."
   ]
  },
  {
   "cell_type": "raw",
   "metadata": {},
   "source": [
    "# Установка Pandas\n",
    "pip install pandas"
   ]
  },
  {
   "cell_type": "code",
   "execution_count": 5,
   "metadata": {},
   "outputs": [],
   "source": [
    "import pandas as pd"
   ]
  },
  {
   "cell_type": "code",
   "execution_count": 7,
   "metadata": {},
   "outputs": [
    {
     "name": "stdout",
     "output_type": "stream",
     "text": [
      "      Name  Age         City\n",
      "0    Alice   25     New York\n",
      "1      Bob   30  Los Angeles\n",
      "2  Charlie   35      Chicago\n"
     ]
    }
   ],
   "source": [
    "# Создание DataFrame из словаря\n",
    "data = {\n",
    "    'Name': ['Alice', 'Bob', 'Charlie'],\n",
    "    'Age': [25, 30, 35],\n",
    "    'City': ['New York', 'Los Angeles', 'Chicago']\n",
    "}\n",
    "\n",
    "df = pd.DataFrame(data)\n",
    "print(df)"
   ]
  },
  {
   "cell_type": "code",
   "execution_count": 9,
   "metadata": {},
   "outputs": [
    {
     "name": "stdout",
     "output_type": "stream",
     "text": [
      "      Name  Age         City\n",
      "0    Alice   25     New York\n",
      "1      Bob   30  Los Angeles\n",
      "2  Charlie   35      Chicago\n"
     ]
    }
   ],
   "source": [
    "# Создание DataFrame из списка\n",
    "data = [\n",
    "    ['Alice', 25, 'New York'],\n",
    "    ['Bob', 30, 'Los Angeles'],\n",
    "    ['Charlie', 35, 'Chicago']\n",
    "]\n",
    "\n",
    "df = pd.DataFrame(data, columns=['Name', 'Age', 'City'])\n",
    "print(df)"
   ]
  },
  {
   "cell_type": "code",
   "execution_count": 11,
   "metadata": {},
   "outputs": [
    {
     "name": "stdout",
     "output_type": "stream",
     "text": [
      "      Name  Age         City  Salary\n",
      "0    Alice   25     New York   70000\n",
      "1      Bob   30  Los Angeles   80000\n",
      "2  Charlie   35      Chicago   90000\n"
     ]
    }
   ],
   "source": [
    "# Добавление нового столбца:\n",
    "df['Salary'] = [70000, 80000, 90000]\n",
    "print(df)"
   ]
  },
  {
   "cell_type": "code",
   "execution_count": 13,
   "metadata": {},
   "outputs": [
    {
     "name": "stdout",
     "output_type": "stream",
     "text": [
      "      Name  Age  Salary\n",
      "0    Alice   25   70000\n",
      "1      Bob   30   80000\n",
      "2  Charlie   35   90000\n"
     ]
    }
   ],
   "source": [
    "# Удаление столбца\n",
    "df.drop(columns=['City'], inplace=True)\n",
    "print(df)"
   ]
  },
  {
   "cell_type": "code",
   "execution_count": 15,
   "metadata": {},
   "outputs": [
    {
     "name": "stdout",
     "output_type": "stream",
     "text": [
      "      Name  Age  Salary\n",
      "2  Charlie   35   90000\n"
     ]
    }
   ],
   "source": [
    "# Фильтрация данных\n",
    "filtered_df = df[df['Age'] > 30]\n",
    "print(filtered_df)"
   ]
  },
  {
   "cell_type": "code",
   "execution_count": 17,
   "metadata": {},
   "outputs": [
    {
     "name": "stdout",
     "output_type": "stream",
     "text": [
      "      Name  Age  Salary\n",
      "0    Alice   26   70000\n",
      "1      Bob   30   80000\n",
      "2  Charlie   35   90000\n"
     ]
    }
   ],
   "source": [
    "# Изменение значений\n",
    "df.loc[0, 'Age'] = 26  # Изменение возраста для первой строки\n",
    "print(df)"
   ]
  },
  {
   "cell_type": "code",
   "execution_count": 19,
   "metadata": {},
   "outputs": [
    {
     "name": "stdout",
     "output_type": "stream",
     "text": [
      "      Name  Age  Salary\n",
      "2  Charlie   35   90000\n",
      "1      Bob   30   80000\n",
      "0    Alice   26   70000\n"
     ]
    }
   ],
   "source": [
    "# Сортировка данных\n",
    "sorted_df = df.sort_values(by='Salary', ascending=False)\n",
    "print(sorted_df)"
   ]
  },
  {
   "cell_type": "code",
   "execution_count": null,
   "metadata": {},
   "outputs": [],
   "source": []
  }
 ],
 "metadata": {
  "kernelspec": {
   "display_name": "Python 3 (ipykernel)",
   "language": "python",
   "name": "python3"
  },
  "language_info": {
   "codemirror_mode": {
    "name": "ipython",
    "version": 3
   },
   "file_extension": ".py",
   "mimetype": "text/x-python",
   "name": "python",
   "nbconvert_exporter": "python",
   "pygments_lexer": "ipython3",
   "version": "3.12.4"
  }
 },
 "nbformat": 4,
 "nbformat_minor": 4
}
