{
 "cells": [
  {
   "cell_type": "markdown",
   "id": "5017c9c5-e384-474c-aebd-65d2c28a5497",
   "metadata": {},
   "source": [
    "# Тестирование в Python — unittest и pytest"
   ]
  },
  {
   "cell_type": "markdown",
   "id": "b02855c7-cddb-4ffb-bfb3-87544d764a1d",
   "metadata": {},
   "source": [
    "Тестирование — это процесс проверки программы на соответствие заданным требованиям и ожидаемому поведению. Оно включает в себя написание специальных программ (тестов), которые проверяют функциональность кода."
   ]
  },
  {
   "cell_type": "markdown",
   "id": "a6b146f5-2768-4d88-bc7e-337590626f3d",
   "metadata": {},
   "source": [
    "## Библиотека unittest"
   ]
  },
  {
   "cell_type": "markdown",
   "id": "38d5d639-723f-48f4-93aa-8e0d4feae395",
   "metadata": {},
   "source": [
    "unittest - это встроеная бибилиотека Python для тестирования."
   ]
  },
  {
   "cell_type": "markdown",
   "id": "f7ffa4b1-e799-4e31-8f0c-f4a9c16a6f4b",
   "metadata": {},
   "source": [
    "## Библиотека pytest"
   ]
  },
  {
   "cell_type": "markdown",
   "id": "0778a9c4-7519-4ce2-9078-9be67502c44b",
   "metadata": {},
   "source": [
    "pytest — это популярная библиотека для тестирования, которая предлагает более простой и гибкий способ написания тестов по сравнению с unittest."
   ]
  },
  {
   "cell_type": "markdown",
   "id": "042ea612-49e6-4594-a917-502c0b59344b",
   "metadata": {},
   "source": [
    "### Основные концепции тестирования"
   ]
  },
  {
   "cell_type": "markdown",
   "id": "fbc01aa1-afd3-4327-93fe-c3b0a343ba94",
   "metadata": {},
   "source": [
    "- Юнит-тесты проверяют отдельные функции или методы.\n",
    "- Интеграционные тесты проверяют взаимодествие между несколькими компонентами.\n",
    "- Фикстуры - это повторное использование функции, которые настраивают и очищают тестовую среду.\n",
    "- Параметризированные тесты позволяют запускать один и тот же тест с разными наборами данных."
   ]
  },
  {
   "cell_type": "markdown",
   "id": "647c26da-9d28-45de-a66c-39ac76b7abc2",
   "metadata": {},
   "source": [
    "## Модульное тестирование"
   ]
  },
  {
   "cell_type": "markdown",
   "id": "7c7958b9-c0dc-4c83-bc46-ce94e0f3c108",
   "metadata": {},
   "source": [
    "создание тестов для функций и классов  \n",
    "В этом занятии мы рассмотрим, как писать модульные тесты для функций и классов в Python с помощью библиотеки unittest. Модульное тестирование — это важная часть разработки программного обеспечения, которая помогает убедиться, что каждая часть вашего кода работает правильно."
   ]
  },
  {
   "cell_type": "code",
   "execution_count": null,
   "id": "8ebb0c9c-e887-44da-b7af-ad99f1c3bbf2",
   "metadata": {},
   "outputs": [],
   "source": []
  }
 ],
 "metadata": {
  "kernelspec": {
   "display_name": "Python 3 (ipykernel)",
   "language": "python",
   "name": "python3"
  },
  "language_info": {
   "codemirror_mode": {
    "name": "ipython",
    "version": 3
   },
   "file_extension": ".py",
   "mimetype": "text/x-python",
   "name": "python",
   "nbconvert_exporter": "python",
   "pygments_lexer": "ipython3",
   "version": "3.12.4"
  }
 },
 "nbformat": 4,
 "nbformat_minor": 5
}
