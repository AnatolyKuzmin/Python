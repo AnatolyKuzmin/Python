{
 "cells": [
  {
   "cell_type": "markdown",
   "id": "04c545bb-eb30-4f2b-a32b-654d360a9784",
   "metadata": {},
   "source": [
    "### 1.2.1. Классы и объекты, магичиские методы (\\_\\_init__, \\_\\_str__, \\_\\_repr__)"
   ]
  },
  {
   "cell_type": "markdown",
   "id": "5acd058d-0c5a-4de6-b787-bd2737074497",
   "metadata": {},
   "source": [
    "Класс — это шаблон для создания объектов. Он определяет свойства (атрибуты) и поведение (методы) объектов.\n",
    "\n",
    "Объект - это экземпляр класса. Каждый объект имеет свои собственные значения атрибутов"
   ]
  },
  {
   "cell_type": "code",
   "execution_count": 3,
   "id": "a13d6a73-81dc-44cf-aeb3-067828223336",
   "metadata": {},
   "outputs": [
    {
     "name": "stdout",
     "output_type": "stream",
     "text": [
      "Бобик говорит Гав!\n"
     ]
    }
   ],
   "source": [
    "# Создадим простой класс\n",
    "class Dog:\n",
    "    def __init__(self, name, age):\n",
    "        self.name = name\n",
    "        self.age = age\n",
    "\n",
    "    def bark(self):\n",
    "        return f\"{self.name} говорит Гав!\"\n",
    "\n",
    "# Создание объекта\n",
    "my_dog = Dog(\"Бобик\", 3)\n",
    "print(my_dog.bark())"
   ]
  },
  {
   "cell_type": "markdown",
   "id": "b0564b4a-336f-42f6-b2ec-6b2d6b673bfe",
   "metadata": {},
   "source": [
    "**Магические методы** позволяют определять поведение объектов в различных ситуациях, таких как создание объекта, его строковое представление, арифметические операции и т.д."
   ]
  },
  {
   "cell_type": "markdown",
   "id": "95bfbe00-547c-4e4e-a670-acd17d761d42",
   "metadata": {},
   "source": [
    ">Метод \\_\\_init__ называется конструктором. Он автоматически вызывается при создании нового объекта и используется для инициализации атрибутов.\n",
    "\n",
    ">Метод \\_\\_str__ возвращает строковое представление объекта. Он вызывается функциями print() и str().\n",
    "\n",
    ">Метод \\_\\_repr__ возвращает однозначное строковое представление объекта, которое может быть использовано для воссоздания объекта. "
   ]
  },
  {
   "cell_type": "markdown",
   "id": "7c4ccc1c-6dfe-4b4f-aa9d-e01ed9c526f3",
   "metadata": {},
   "source": [
    "#### Практика"
   ]
  },
  {
   "cell_type": "code",
   "execution_count": 7,
   "id": "1c015ea4-9feb-49ec-984f-25fd380b332e",
   "metadata": {},
   "outputs": [
    {
     "name": "stdout",
     "output_type": "stream",
     "text": [
      "'1984' by George Orwell, 1949\n",
      "Book(title=1984, author=George Orwell, year=1949)\n"
     ]
    }
   ],
   "source": [
    "# создание класса Book\n",
    "class Book:\n",
    "    def __init__(self, title, author, year):\n",
    "        self.title = title\n",
    "        self.author = author\n",
    "        self.year = year\n",
    "\n",
    "    def __str__(self):\n",
    "        return f\"'{self.title}' by {self.author}, {self.year}\"\n",
    "\n",
    "    def __repr__(self):\n",
    "        return f\"Book(title={self.title}, author={self.author}, year={self.year})\"\n",
    "\n",
    "# Пример использования\n",
    "book = Book(\"1984\", \"George Orwell\", 1949)\n",
    "print(book)\n",
    "print(repr(book))"
   ]
  },
  {
   "cell_type": "code",
   "execution_count": 8,
   "id": "4ed42ff7-a606-4f1c-b09e-f90506a0e81f",
   "metadata": {},
   "outputs": [
    {
     "name": "stdout",
     "output_type": "stream",
     "text": [
      "Депозит на 500 выполнен. Новый баланс: 1500\n",
      "Снятие 200 выполнено. Новый баланс: 1300\n",
      "Владелец счета: Иван Иванов, Баланс: 1300\n"
     ]
    }
   ],
   "source": [
    "# создание класса BankAccount\n",
    "class BankAccount:\n",
    "    def __init__(self, owner, balance=0):\n",
    "        self.owner = owner\n",
    "        self.balance = balance\n",
    "\n",
    "    def deposit(self, amount):\n",
    "        self.balance += amount\n",
    "        return f\"Депозит на {amount} выполнен. Новый баланс: {self.balance}\"\n",
    "\n",
    "    def withdraw(self, amount):\n",
    "        if amount > self.balance:\n",
    "            return \"Недостаточно средств на счете\"\n",
    "        self.balance -= amount\n",
    "        return f\"Снятие {amount} выполнено. Новый баланс: {self.balance}\"\n",
    "\n",
    "    def __str__(self):\n",
    "        return f\"Владелец счета: {self.owner}, Баланс: {self.balance}\"\n",
    "\n",
    "# Пример использования\n",
    "account = BankAccount(\"Иван Иванов\", 1000)\n",
    "print(account.deposit(500))\n",
    "print(account.withdraw(200))\n",
    "print(account)"
   ]
  },
  {
   "cell_type": "code",
   "execution_count": 9,
   "id": "438cb0be-606d-4038-8a10-0284f3199c0a",
   "metadata": {},
   "outputs": [
    {
     "name": "stdout",
     "output_type": "stream",
     "text": [
      "Vector(6, 8)\n",
      "Vector(-2, -2)\n"
     ]
    }
   ],
   "source": [
    "# создание класса Vector\n",
    "class Vector:\n",
    "    def __init__(self, x, y):\n",
    "        self.x = x\n",
    "        self.y = y\n",
    "\n",
    "    def __add__(self, other):\n",
    "        return Vector(self.x + other.x, self.y + other.y)\n",
    "\n",
    "    def __sub__(self, other):\n",
    "        return Vector(self.x - other.x, self.y - other.y)\n",
    "\n",
    "    def __str__(self):\n",
    "        return f\"Vector({self.x}, {self.y})\"\n",
    "\n",
    "# Пример использования\n",
    "v1 = Vector(2, 3)\n",
    "v2 = Vector(4, 5)\n",
    "print(v1 + v2)\n",
    "print(v1 - v2)"
   ]
  },
  {
   "cell_type": "code",
   "execution_count": 10,
   "id": "921bd660-039f-4a19-b6d2-2d1347342acc",
   "metadata": {},
   "outputs": [
    {
     "name": "stdout",
     "output_type": "stream",
     "text": [
      "Средний балл студента Иван: 4.0\n"
     ]
    }
   ],
   "source": [
    "# создание класса Student\n",
    "class Student:\n",
    "    def __init__(self, name, age):\n",
    "        self.name = name\n",
    "        self.age = age\n",
    "        self.grades = []\n",
    "\n",
    "    def add_grade(self, grade):\n",
    "        self.grades.append(grade)\n",
    "\n",
    "    def average_grade(self):\n",
    "        if not self.grades:\n",
    "            return 0\n",
    "        return sum(self.grades) / len(self.grades)\n",
    "\n",
    "# Пример использования:\n",
    "student = Student(\"Иван\", 20)\n",
    "student.add_grade(4)\n",
    "student.add_grade(5)\n",
    "student.add_grade(3)\n",
    "print(f\"Средний балл студента {student.name}: {student.average_grade()}\")"
   ]
  },
  {
   "cell_type": "code",
   "execution_count": 11,
   "id": "e2bc3964-de72-4015-9dc5-8ea36a8bf130",
   "metadata": {},
   "outputs": [
    {
     "name": "stdout",
     "output_type": "stream",
     "text": [
      "Баланс счета Иван: 700\n",
      "Баланс счета Мария: 800\n"
     ]
    }
   ],
   "source": [
    "# Расширение класса BankAccount\n",
    "class BankAccount:\n",
    "    def __init__(self, owner, balance=0):\n",
    "        self.owner = owner\n",
    "        self.balance = balance\n",
    "\n",
    "    def deposit(self, amount):\n",
    "        self.balance += amount\n",
    "\n",
    "    def withdraw(self, amount):\n",
    "        if amount > self.balance:\n",
    "            raise ValueError(\"Недостаточно средств на счете\")\n",
    "        self.balance -= amount\n",
    "\n",
    "    def transfer(self, target_account, amount):\n",
    "        if amount > self.balance:\n",
    "            raise ValueError(\"Недостаточно средств на счете\")\n",
    "        self.withdraw(amount)\n",
    "        target_account.deposit(amount)\n",
    "\n",
    "# Пример использования:\n",
    "account1 = BankAccount(\"Иван\", 1000)\n",
    "account2 = BankAccount(\"Мария\", 500)\n",
    "\n",
    "account1.transfer(account2, 300)\n",
    "print(f\"Баланс счета {account1.owner}: {account1.balance}\")\n",
    "print(f\"Баланс счета {account2.owner}: {account2.balance}\")"
   ]
  },
  {
   "cell_type": "code",
   "execution_count": 12,
   "id": "57f780d6-9f01-49b7-831a-8a5037ef34e3",
   "metadata": {},
   "outputs": [
    {
     "name": "stdout",
     "output_type": "stream",
     "text": [
      "Матрица 1:\n",
      "1 2\n",
      "3 4\n",
      "Матрица 2:\n",
      "5 6\n",
      "7 8\n",
      "Сумма матриц:\n",
      "6 8\n",
      "10 12\n",
      "Разность матриц:\n",
      "-4 -4\n",
      "-4 -4\n"
     ]
    }
   ],
   "source": [
    "# создание класса Matrix\n",
    "class Matrix:\n",
    "    def __init__(self, rows, cols, data=None):\n",
    "        self.rows = rows\n",
    "        self.cols = cols\n",
    "        # если матрицы не имеют одинаковые размеры, исключение ValueError\n",
    "        if data:\n",
    "            if len(data) != rows or any(len(row) != cols for row in data):\n",
    "                raise ValueError(\"Неверные размеры данных для матрицы\")\n",
    "            self.data = data\n",
    "        else:\n",
    "            self.data = [[0 for _ in range(cols)] for _ in range(rows)]\n",
    "\n",
    "    # сложение матриц\n",
    "    def __add__(self, other):\n",
    "        if self.rows != other.rows or self.cols != other.cols:\n",
    "            raise ValueError(\"Матрицы должны быть одного размера для сложения\")\n",
    "        result = Matrix(self.rows, self.cols)\n",
    "        for i in range(self.rows):\n",
    "            for j in range(self.cols):\n",
    "                result.data[i][j] = self.data[i][j] + other.data[i][j]\n",
    "        return result\n",
    "\n",
    "    # вычитание матриц\n",
    "    def __sub__(self, other):\n",
    "        if self.rows != other.rows or self.cols != other.cols:\n",
    "            raise ValueError(\"Матрицы должны быть одного размера для вычитания\")\n",
    "        result = Matrix(self.rows, self.cols)\n",
    "        for i in range(self.rows):\n",
    "            for j in range(self.cols):\n",
    "                result.data[i][j] = self.data[i][j] - other.data[i][j]\n",
    "        return result\n",
    "\n",
    "    def __str__(self):\n",
    "        return '\\n'.join([' '.join(map(str, row)) for row in self.data])\n",
    "\n",
    "# Пример использования:\n",
    "matrix1 = Matrix(2, 2, [[1, 2], [3, 4]])\n",
    "matrix2 = Matrix(2, 2, [[5, 6], [7, 8]])\n",
    "\n",
    "print(\"Матрица 1:\")\n",
    "print(matrix1)\n",
    "\n",
    "print(\"Матрица 2:\")\n",
    "print(matrix2)\n",
    "\n",
    "print(\"Сумма матриц:\")\n",
    "print(matrix1 + matrix2)\n",
    "\n",
    "print(\"Разность матриц:\")\n",
    "print(matrix1 - matrix2)"
   ]
  }
 ],
 "metadata": {
  "kernelspec": {
   "display_name": "Python 3 (ipykernel)",
   "language": "python",
   "name": "python3"
  },
  "language_info": {
   "codemirror_mode": {
    "name": "ipython",
    "version": 3
   },
   "file_extension": ".py",
   "mimetype": "text/x-python",
   "name": "python",
   "nbconvert_exporter": "python",
   "pygments_lexer": "ipython3",
   "version": "3.12.4"
  }
 },
 "nbformat": 4,
 "nbformat_minor": 5
}
