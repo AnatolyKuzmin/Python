{
 "cells": [
  {
   "cell_type": "markdown",
   "id": "04c545bb-eb30-4f2b-a32b-654d360a9784",
   "metadata": {
    "jp-MarkdownHeadingCollapsed": true
   },
   "source": [
    "### 1.2.1. Классы и объекты, магичиские методы (\\_\\_init__, \\_\\_str__, \\_\\_repr__)"
   ]
  },
  {
   "cell_type": "markdown",
   "id": "5acd058d-0c5a-4de6-b787-bd2737074497",
   "metadata": {},
   "source": [
    "Класс — это шаблон для создания объектов. Он определяет свойства (атрибуты) и поведение (методы) объектов.\n",
    "\n",
    "Объект - это экземпляр класса. Каждый объект имеет свои собственные значения атрибутов"
   ]
  },
  {
   "cell_type": "code",
   "execution_count": 3,
   "id": "a13d6a73-81dc-44cf-aeb3-067828223336",
   "metadata": {},
   "outputs": [
    {
     "name": "stdout",
     "output_type": "stream",
     "text": [
      "Бобик говорит Гав!\n"
     ]
    }
   ],
   "source": [
    "# Создадим простой класс\n",
    "class Dog:\n",
    "    def __init__(self, name, age):\n",
    "        self.name = name\n",
    "        self.age = age\n",
    "\n",
    "    def bark(self):\n",
    "        return f\"{self.name} говорит Гав!\"\n",
    "\n",
    "# Создание объекта\n",
    "my_dog = Dog(\"Бобик\", 3)\n",
    "print(my_dog.bark())"
   ]
  },
  {
   "cell_type": "markdown",
   "id": "b0564b4a-336f-42f6-b2ec-6b2d6b673bfe",
   "metadata": {},
   "source": [
    "**Магические методы** позволяют определять поведение объектов в различных ситуациях, таких как создание объекта, его строковое представление, арифметические операции и т.д."
   ]
  },
  {
   "cell_type": "markdown",
   "id": "95bfbe00-547c-4e4e-a670-acd17d761d42",
   "metadata": {},
   "source": [
    ">Метод \\_\\_init__ называется конструктором. Он автоматически вызывается при создании нового объекта и используется для инициализации атрибутов.\n",
    "\n",
    ">Метод \\_\\_str__ возвращает строковое представление объекта. Он вызывается функциями print() и str().\n",
    "\n",
    ">Метод \\_\\_repr__ возвращает однозначное строковое представление объекта, которое может быть использовано для воссоздания объекта. "
   ]
  },
  {
   "cell_type": "markdown",
   "id": "7c4ccc1c-6dfe-4b4f-aa9d-e01ed9c526f3",
   "metadata": {
    "jp-MarkdownHeadingCollapsed": true
   },
   "source": [
    "#### Практика"
   ]
  },
  {
   "cell_type": "code",
   "execution_count": 7,
   "id": "1c015ea4-9feb-49ec-984f-25fd380b332e",
   "metadata": {},
   "outputs": [
    {
     "name": "stdout",
     "output_type": "stream",
     "text": [
      "'1984' by George Orwell, 1949\n",
      "Book(title=1984, author=George Orwell, year=1949)\n"
     ]
    }
   ],
   "source": [
    "# создание класса Book\n",
    "class Book:\n",
    "    def __init__(self, title, author, year):\n",
    "        self.title = title\n",
    "        self.author = author\n",
    "        self.year = year\n",
    "\n",
    "    def __str__(self):\n",
    "        return f\"'{self.title}' by {self.author}, {self.year}\"\n",
    "\n",
    "    def __repr__(self):\n",
    "        return f\"Book(title={self.title}, author={self.author}, year={self.year})\"\n",
    "\n",
    "# Пример использования\n",
    "book = Book(\"1984\", \"George Orwell\", 1949)\n",
    "print(book)\n",
    "print(repr(book))"
   ]
  },
  {
   "cell_type": "code",
   "execution_count": 8,
   "id": "4ed42ff7-a606-4f1c-b09e-f90506a0e81f",
   "metadata": {},
   "outputs": [
    {
     "name": "stdout",
     "output_type": "stream",
     "text": [
      "Депозит на 500 выполнен. Новый баланс: 1500\n",
      "Снятие 200 выполнено. Новый баланс: 1300\n",
      "Владелец счета: Иван Иванов, Баланс: 1300\n"
     ]
    }
   ],
   "source": [
    "# создание класса BankAccount\n",
    "class BankAccount:\n",
    "    def __init__(self, owner, balance=0):\n",
    "        self.owner = owner\n",
    "        self.balance = balance\n",
    "\n",
    "    def deposit(self, amount):\n",
    "        self.balance += amount\n",
    "        return f\"Депозит на {amount} выполнен. Новый баланс: {self.balance}\"\n",
    "\n",
    "    def withdraw(self, amount):\n",
    "        if amount > self.balance:\n",
    "            return \"Недостаточно средств на счете\"\n",
    "        self.balance -= amount\n",
    "        return f\"Снятие {amount} выполнено. Новый баланс: {self.balance}\"\n",
    "\n",
    "    def __str__(self):\n",
    "        return f\"Владелец счета: {self.owner}, Баланс: {self.balance}\"\n",
    "\n",
    "# Пример использования\n",
    "account = BankAccount(\"Иван Иванов\", 1000)\n",
    "print(account.deposit(500))\n",
    "print(account.withdraw(200))\n",
    "print(account)"
   ]
  },
  {
   "cell_type": "code",
   "execution_count": 9,
   "id": "438cb0be-606d-4038-8a10-0284f3199c0a",
   "metadata": {},
   "outputs": [
    {
     "name": "stdout",
     "output_type": "stream",
     "text": [
      "Vector(6, 8)\n",
      "Vector(-2, -2)\n"
     ]
    }
   ],
   "source": [
    "# создание класса Vector\n",
    "class Vector:\n",
    "    def __init__(self, x, y):\n",
    "        self.x = x\n",
    "        self.y = y\n",
    "\n",
    "    def __add__(self, other):\n",
    "        return Vector(self.x + other.x, self.y + other.y)\n",
    "\n",
    "    def __sub__(self, other):\n",
    "        return Vector(self.x - other.x, self.y - other.y)\n",
    "\n",
    "    def __str__(self):\n",
    "        return f\"Vector({self.x}, {self.y})\"\n",
    "\n",
    "# Пример использования\n",
    "v1 = Vector(2, 3)\n",
    "v2 = Vector(4, 5)\n",
    "print(v1 + v2)\n",
    "print(v1 - v2)"
   ]
  },
  {
   "cell_type": "code",
   "execution_count": 10,
   "id": "921bd660-039f-4a19-b6d2-2d1347342acc",
   "metadata": {},
   "outputs": [
    {
     "name": "stdout",
     "output_type": "stream",
     "text": [
      "Средний балл студента Иван: 4.0\n"
     ]
    }
   ],
   "source": [
    "# создание класса Student\n",
    "class Student:\n",
    "    def __init__(self, name, age):\n",
    "        self.name = name\n",
    "        self.age = age\n",
    "        self.grades = []\n",
    "\n",
    "    def add_grade(self, grade):\n",
    "        self.grades.append(grade)\n",
    "\n",
    "    def average_grade(self):\n",
    "        if not self.grades:\n",
    "            return 0\n",
    "        return sum(self.grades) / len(self.grades)\n",
    "\n",
    "# Пример использования:\n",
    "student = Student(\"Иван\", 20)\n",
    "student.add_grade(4)\n",
    "student.add_grade(5)\n",
    "student.add_grade(3)\n",
    "print(f\"Средний балл студента {student.name}: {student.average_grade()}\")"
   ]
  },
  {
   "cell_type": "code",
   "execution_count": 11,
   "id": "e2bc3964-de72-4015-9dc5-8ea36a8bf130",
   "metadata": {},
   "outputs": [
    {
     "name": "stdout",
     "output_type": "stream",
     "text": [
      "Баланс счета Иван: 700\n",
      "Баланс счета Мария: 800\n"
     ]
    }
   ],
   "source": [
    "# Расширение класса BankAccount\n",
    "class BankAccount:\n",
    "    def __init__(self, owner, balance=0):\n",
    "        self.owner = owner\n",
    "        self.balance = balance\n",
    "\n",
    "    def deposit(self, amount):\n",
    "        self.balance += amount\n",
    "\n",
    "    def withdraw(self, amount):\n",
    "        if amount > self.balance:\n",
    "            raise ValueError(\"Недостаточно средств на счете\")\n",
    "        self.balance -= amount\n",
    "\n",
    "    def transfer(self, target_account, amount):\n",
    "        if amount > self.balance:\n",
    "            raise ValueError(\"Недостаточно средств на счете\")\n",
    "        self.withdraw(amount)\n",
    "        target_account.deposit(amount)\n",
    "\n",
    "# Пример использования:\n",
    "account1 = BankAccount(\"Иван\", 1000)\n",
    "account2 = BankAccount(\"Мария\", 500)\n",
    "\n",
    "account1.transfer(account2, 300)\n",
    "print(f\"Баланс счета {account1.owner}: {account1.balance}\")\n",
    "print(f\"Баланс счета {account2.owner}: {account2.balance}\")"
   ]
  },
  {
   "cell_type": "code",
   "execution_count": 12,
   "id": "57f780d6-9f01-49b7-831a-8a5037ef34e3",
   "metadata": {},
   "outputs": [
    {
     "name": "stdout",
     "output_type": "stream",
     "text": [
      "Матрица 1:\n",
      "1 2\n",
      "3 4\n",
      "Матрица 2:\n",
      "5 6\n",
      "7 8\n",
      "Сумма матриц:\n",
      "6 8\n",
      "10 12\n",
      "Разность матриц:\n",
      "-4 -4\n",
      "-4 -4\n"
     ]
    }
   ],
   "source": [
    "# создание класса Matrix\n",
    "class Matrix:\n",
    "    def __init__(self, rows, cols, data=None):\n",
    "        self.rows = rows\n",
    "        self.cols = cols\n",
    "        # если матрицы не имеют одинаковые размеры, исключение ValueError\n",
    "        if data:\n",
    "            if len(data) != rows or any(len(row) != cols for row in data):\n",
    "                raise ValueError(\"Неверные размеры данных для матрицы\")\n",
    "            self.data = data\n",
    "        else:\n",
    "            self.data = [[0 for _ in range(cols)] for _ in range(rows)]\n",
    "\n",
    "    # сложение матриц\n",
    "    def __add__(self, other):\n",
    "        if self.rows != other.rows or self.cols != other.cols:\n",
    "            raise ValueError(\"Матрицы должны быть одного размера для сложения\")\n",
    "        result = Matrix(self.rows, self.cols)\n",
    "        for i in range(self.rows):\n",
    "            for j in range(self.cols):\n",
    "                result.data[i][j] = self.data[i][j] + other.data[i][j]\n",
    "        return result\n",
    "\n",
    "    # вычитание матриц\n",
    "    def __sub__(self, other):\n",
    "        if self.rows != other.rows or self.cols != other.cols:\n",
    "            raise ValueError(\"Матрицы должны быть одного размера для вычитания\")\n",
    "        result = Matrix(self.rows, self.cols)\n",
    "        for i in range(self.rows):\n",
    "            for j in range(self.cols):\n",
    "                result.data[i][j] = self.data[i][j] - other.data[i][j]\n",
    "        return result\n",
    "\n",
    "    def __str__(self):\n",
    "        return '\\n'.join([' '.join(map(str, row)) for row in self.data])\n",
    "\n",
    "# Пример использования:\n",
    "matrix1 = Matrix(2, 2, [[1, 2], [3, 4]])\n",
    "matrix2 = Matrix(2, 2, [[5, 6], [7, 8]])\n",
    "\n",
    "print(\"Матрица 1:\")\n",
    "print(matrix1)\n",
    "\n",
    "print(\"Матрица 2:\")\n",
    "print(matrix2)\n",
    "\n",
    "print(\"Сумма матриц:\")\n",
    "print(matrix1 + matrix2)\n",
    "\n",
    "print(\"Разность матриц:\")\n",
    "print(matrix1 - matrix2)"
   ]
  },
  {
   "cell_type": "markdown",
   "id": "64dac9e6-2bae-4850-9052-16227fcb8c6e",
   "metadata": {
    "jp-MarkdownHeadingCollapsed": true
   },
   "source": [
    "### 1.2.2. Наследование и полиморфизм."
   ]
  },
  {
   "cell_type": "markdown",
   "id": "5b71eb5c-e431-4169-ad09-ebe0c827b473",
   "metadata": {},
   "source": [
    "**Наследование** позволяет создавать новый класс на основе существующего"
   ]
  },
  {
   "cell_type": "code",
   "execution_count": 11,
   "id": "9fccc875-f271-48ff-a663-b161c8b54792",
   "metadata": {},
   "outputs": [
    {
     "name": "stdout",
     "output_type": "stream",
     "text": [
      "Животное издает звук\n",
      "Шарик говорит Гав!\n"
     ]
    }
   ],
   "source": [
    "# Создадим класс Animal (родительский) и класс Dog (дочерний), который наследует Animal.\n",
    "class Animal:\n",
    "    def __init__(self, name):\n",
    "        self.name = name\n",
    "\n",
    "    def speak(self):\n",
    "        return f\"{self.name} издает звук\"\n",
    "\n",
    "class Dog(Animal):\n",
    "    def speak(self):\n",
    "        return f\"{self.name} говорит Гав!\"\n",
    "\n",
    "animal = Animal(\"Животное\")\n",
    "dog = Dog(\"Шарик\")\n",
    "\n",
    "print(animal.speak(), dog.speak(), sep=\"\\n\")"
   ]
  },
  {
   "cell_type": "markdown",
   "id": "d77c1b46-3e49-45d8-b39e-e4ec97bd1898",
   "metadata": {},
   "source": [
    "**Полиморфизм** позволяет объектам разных классов использовать методы с одинаковыми именами, но разной реализацией"
   ]
  },
  {
   "cell_type": "code",
   "execution_count": 18,
   "id": "35b4afed-6458-4f14-8295-a46fa793530d",
   "metadata": {},
   "outputs": [
    {
     "name": "stdout",
     "output_type": "stream",
     "text": [
      "Бобик говорит Гав!\n",
      "Мурзик говорит Мяу!\n",
      "Кеша говорит Чирик!\n"
     ]
    }
   ],
   "source": [
    "# Создадим несколько классов с методом speak и используем их в одном контексте.\n",
    "class Cat(Animal):\n",
    "    def speak(self):\n",
    "        return f\"{self.name} говорит Мяу!\"\n",
    "\n",
    "class Bird(Animal):\n",
    "    def speak(self):\n",
    "        return f\"{self.name} говорит Чирик!\"\n",
    "\n",
    "animals = [Dog(\"Бобик\"), Cat(\"Мурзик\"), Bird(\"Кеша\")]\n",
    "\n",
    "for animal in animals:\n",
    "    print(animal.speak())"
   ]
  },
  {
   "cell_type": "markdown",
   "id": "0badcc2d-3ffa-4bc9-ad0c-77ed9fb893d9",
   "metadata": {},
   "source": [
    "#### Практика"
   ]
  },
  {
   "cell_type": "code",
   "execution_count": 23,
   "id": "ab146995-0c8c-421f-b760-57db9d2546fb",
   "metadata": {},
   "outputs": [
    {
     "name": "stdout",
     "output_type": "stream",
     "text": [
      "Автомобиль: Toyota Corolla\n",
      "Велосипед: Trek Marlin\n"
     ]
    }
   ],
   "source": [
    "# класс Vehicle (транспортное средство) и дочерние классы Car и Bicycle\n",
    "class Vehicle:\n",
    "    def __init__(self, brand, model):\n",
    "        self.brand = brand\n",
    "        self.model = model\n",
    "\n",
    "    def description(self):\n",
    "        return f\"{self.brand} {self.model}\"\n",
    "\n",
    "class Car(Vehicle):\n",
    "    def description(self):\n",
    "        return f\"Автомобиль: {self.brand} {self.model}\"\n",
    "\n",
    "class Bicycle(Vehicle):\n",
    "    def description(self):\n",
    "        return f\"Велосипед: {self.brand} {self.model}\"\n",
    "\n",
    "car = Car(\"Toyota\", \"Corolla\")\n",
    "bicycle = Bicycle(\"Trek\", \"Marlin\")\n",
    "\n",
    "print(car.description(), bicycle.description(), sep=\"\\n\")"
   ]
  },
  {
   "cell_type": "code",
   "execution_count": 29,
   "id": "caf6ec12-1b0f-41fb-8e6c-ab2b2c178245",
   "metadata": {},
   "outputs": [
    {
     "name": "stdout",
     "output_type": "stream",
     "text": [
      "Площадь фигуры: 78.53981633974483\n",
      "Площадь фигуры: 24\n"
     ]
    }
   ],
   "source": [
    "# класс Shape (фигура) и дочерние классы Circle и Rectangle\n",
    "import math\n",
    "\n",
    "class Shape:\n",
    "    def area(self):\n",
    "        pass\n",
    "\n",
    "class Circle(Shape):\n",
    "    def __init__(self, radius):\n",
    "        self.radius = radius\n",
    "\n",
    "    def area(self):\n",
    "        return math.pi * self.radius ** 2\n",
    "\n",
    "class Rectangle(Shape):\n",
    "    def __init__(self, width, height):\n",
    "        self.width = width\n",
    "        self.height = height\n",
    "\n",
    "    def area(self):\n",
    "        return self.width * self.height\n",
    "\n",
    "shapes = [Circle(5), Rectangle(4, 6)]\n",
    "\n",
    "for shape in shapes:\n",
    "    print(f\"Площадь фигуры: {shape.area()}\")"
   ]
  },
  {
   "cell_type": "code",
   "execution_count": 37,
   "id": "4d22a695-47a9-4519-b9b8-e25098c48c77",
   "metadata": {},
   "outputs": [
    {
     "name": "stdout",
     "output_type": "stream",
     "text": [
      "Иван Иванов, 30 лет, Должность: Разработчик, Зарплата: 100000\n"
     ]
    }
   ],
   "source": [
    "# классы Person и Employee, где Employee наследует от Person и добавляет атрибуты, связанные с работой\n",
    "class Person:\n",
    "    def __init__(self, name, age):\n",
    "        self.name = name\n",
    "        self.age = age\n",
    "\n",
    "    def description(self):\n",
    "        return f\"{self.name}, {self.age} лет\"\n",
    "\n",
    "class Employee(Person):\n",
    "    def __init__(self, name, age, position, salary):\n",
    "        super().__init__(name, age)\n",
    "        self.position = position\n",
    "        self.salary = salary\n",
    "\n",
    "    def description(self):\n",
    "        return f\"{super().description()}, Должность: {self.position}, Зарплата: {self.salary}\"\n",
    "\n",
    "employee = Employee(\"Иван Иванов\", 30, \"Разработчик\", 100000)\n",
    "print(employee.description())"
   ]
  },
  {
   "cell_type": "markdown",
   "id": "2ce25181-6f3c-4dbb-a150-d82e45e1aa16",
   "metadata": {
    "jp-MarkdownHeadingCollapsed": true
   },
   "source": [
    "### 1.2.3. Инкапсуляция и свойства (@property)."
   ]
  },
  {
   "cell_type": "markdown",
   "id": "cfe5766e-ccb9-4ba9-8062-8452ed564210",
   "metadata": {},
   "source": [
    "**Инкапсуляция** позволяет скрывать внутренние детали реализации класса и предоставлять контролируемый доступ к данным через методы.  \n",
    "Приватные атрибуты и методы обозначаются с помощью двойного подчеркивания ( __ )."
   ]
  },
  {
   "cell_type": "code",
   "execution_count": 43,
   "id": "207d1225-8a20-4f1c-aab4-804de436c41d",
   "metadata": {},
   "outputs": [
    {
     "name": "stdout",
     "output_type": "stream",
     "text": [
      "1500\n"
     ]
    },
    {
     "ename": "AttributeError",
     "evalue": "'BankAccount' object has no attribute '__balance'",
     "output_type": "error",
     "traceback": [
      "\u001b[1;31m---------------------------------------------------------------------------\u001b[0m",
      "\u001b[1;31mAttributeError\u001b[0m                            Traceback (most recent call last)",
      "Cell \u001b[1;32mIn[43], line 17\u001b[0m\n\u001b[0;32m     15\u001b[0m account\u001b[38;5;241m.\u001b[39mdeposit(\u001b[38;5;241m500\u001b[39m)\n\u001b[0;32m     16\u001b[0m \u001b[38;5;28mprint\u001b[39m(account\u001b[38;5;241m.\u001b[39mget_balance())  \u001b[38;5;66;03m# Доступ через метод\u001b[39;00m\n\u001b[1;32m---> 17\u001b[0m \u001b[38;5;28mprint\u001b[39m(account\u001b[38;5;241m.\u001b[39m__balance)\n",
      "\u001b[1;31mAttributeError\u001b[0m: 'BankAccount' object has no attribute '__balance'"
     ]
    }
   ],
   "source": [
    "class BankAccount:\n",
    "    def __init__(self, owner, balance):\n",
    "        self.owner = owner\n",
    "        self.__balance = balance  # Приватный атрибут\n",
    "\n",
    "    def deposit(self, amount):\n",
    "        if amount > 0:\n",
    "            self.__balance += amount\n",
    "\n",
    "    def get_balance(self):\n",
    "        return self.__balance\n",
    "\n",
    "# Пример использования\n",
    "account = BankAccount(\"Иван Иванов\", 1000)\n",
    "account.deposit(500)\n",
    "print(account.get_balance())  # Доступ через метод\n",
    "print(account.__balance)      # Ошибка: атрибут недоступен"
   ]
  },
  {
   "cell_type": "markdown",
   "id": "58a3ed08-a630-4ae4-8e7b-e7c17f03e36c",
   "metadata": {},
   "source": [
    "**Свойства (@property)** позволяют управлять доступом к атрибутам класса, добавляя логику при чтении, записи или удалении атрибута."
   ]
  },
  {
   "cell_type": "code",
   "execution_count": 46,
   "id": "01203644-dd77-403f-93f1-0363c19ad144",
   "metadata": {},
   "outputs": [
    {
     "name": "stdout",
     "output_type": "stream",
     "text": [
      "Температура в Цельсиях: 25\n",
      "Температура в Фаренгейтах: 77.0\n",
      "Новая температура в Цельсиях: 30\n"
     ]
    }
   ],
   "source": [
    "# класс Temperature, который будет хранить температуру в градусах Цельсия и предоставлять доступ к ней через свойство\n",
    "class Temperature:\n",
    "    def __init__(self, celsius):\n",
    "        self.celsius = celsius\n",
    "\n",
    "    @property\n",
    "    def celsius(self):\n",
    "        return self._celsius\n",
    "\n",
    "    @celsius.setter\n",
    "    def celsius(self, value):\n",
    "        if value < -273.15:\n",
    "            raise ValueError(\"Температура не может быть ниже -273.15°C\")\n",
    "        self._celsius = value\n",
    "\n",
    "    @property\n",
    "    def fahrenheit(self):\n",
    "        return self._celsius * 9/5 + 32\n",
    "\n",
    "# Пример использования\n",
    "temp = Temperature(25)\n",
    "print(f\"Температура в Цельсиях: {temp.celsius}\")\n",
    "print(f\"Температура в Фаренгейтах: {temp.fahrenheit}\")\n",
    "\n",
    "temp.celsius = 30\n",
    "print(f\"Новая температура в Цельсиях: {temp.celsius}\")"
   ]
  },
  {
   "cell_type": "markdown",
   "id": "9ccb4550-c7a4-41f6-bddb-a949572cba1e",
   "metadata": {
    "jp-MarkdownHeadingCollapsed": true
   },
   "source": [
    "#### Практика"
   ]
  },
  {
   "cell_type": "code",
   "execution_count": 15,
   "id": "b73f9a00-400f-4928-a68f-7e91d8b18d6f",
   "metadata": {},
   "outputs": [
    {
     "name": "stdout",
     "output_type": "stream",
     "text": [
      "Иванов Иван, возраст: 30\n",
      "Иванов Иван, новый возраст: 35\n"
     ]
    }
   ],
   "source": [
    "# класса Person с инкапсуляцией\n",
    "class Person:\n",
    "    def __init__(self, name, age):\n",
    "        self.name = name\n",
    "        self.__age = age  # Приватный атрибут\n",
    "\n",
    "    @property\n",
    "    def age(self):\n",
    "        return self.__age\n",
    "\n",
    "    @age.setter\n",
    "    def age(self, value):\n",
    "        if value < 0:\n",
    "            raise ValueError(\"Возраст не может быть отрицательным\")\n",
    "        if value == 0:\n",
    "            raise ValueError(\"Возраст не может быть нулевым\")\n",
    "        self.__age = value\n",
    "\n",
    "# Пример использования\n",
    "person = Person(\"Иванов Иван\", 30)\n",
    "print(f\"{person.name}, возраст: {person.age}\")\n",
    "\n",
    "person.age = 35\n",
    "print(f\"{person.name}, новый возраст: {person.age}\")\n"
   ]
  },
  {
   "cell_type": "code",
   "execution_count": 19,
   "id": "379f7023-b30b-459e-8e17-7089cc557ac2",
   "metadata": {},
   "outputs": [
    {
     "name": "stdout",
     "output_type": "stream",
     "text": [
      "Радиус: 5, Площадь: 78.53981633974483, Длина окружности: 31.41592653589793\n",
      "Новый радиус: 10, Площадь: 314.1592653589793, Длина окружности: 62.83185307179586\n"
     ]
    }
   ],
   "source": [
    "# Создание класса Circle с использованием @property\n",
    "import math\n",
    "\n",
    "class Circle:\n",
    "    def __init__(self, radius):\n",
    "        self.radius = radius\n",
    "\n",
    "    @property\n",
    "    def radius(self):\n",
    "        return self._radius\n",
    "\n",
    "    @radius.setter\n",
    "    def radius(self, value):\n",
    "        if value < 0:\n",
    "            raise ValueError(\"Радиус не может быть отрицательным\")\n",
    "        self._radius = value\n",
    "\n",
    "    @property\n",
    "    def area(self):\n",
    "        return math.pi * self._radius ** 2\n",
    "\n",
    "    @property\n",
    "    def circumference(self):\n",
    "        return 2 * math.pi * self._radius\n",
    "\n",
    "# Пример использования\n",
    "circle = Circle(5)\n",
    "print(f\"Радиус: {circle.radius}, Площадь: {circle.area}, Длина окружности: {circle.circumference}\")\n",
    "\n",
    "circle.radius = 10\n",
    "print(f\"Новый радиус: {circle.radius}, Площадь: {circle.area}, Длина окружности: {circle.circumference}\")"
   ]
  },
  {
   "cell_type": "code",
   "execution_count": 21,
   "id": "8626a231-395b-4e66-8ea5-63db9bb73e68",
   "metadata": {},
   "outputs": [
    {
     "name": "stdout",
     "output_type": "stream",
     "text": [
      "Баланс после пополнения: 1500\n",
      "Баланс после снятия: 1300\n"
     ]
    }
   ],
   "source": [
    "# Создание класса BankAccount с инкапсуляцией\n",
    "class BankAccount:\n",
    "    def __init__(self, owner, balance=0):\n",
    "        self.owner = owner\n",
    "        self.__balance = balance\n",
    "\n",
    "    @property\n",
    "    def balance(self):\n",
    "        return self.__balance\n",
    "\n",
    "    def deposit(self, amount):\n",
    "        if amount > 0:\n",
    "            self.__balance += amount\n",
    "        else:\n",
    "            raise ValueError(\"Сумма должна быть положительной\")\n",
    "\n",
    "    def withdraw(self, amount):\n",
    "        if 0 < amount <= self.__balance:\n",
    "            self.__balance -= amount\n",
    "        else:\n",
    "            raise ValueError(\"Недостаточно средств или неверная сумма\")\n",
    "\n",
    "# Пример использования\n",
    "account = BankAccount(\"Иван Иванов\", 1000)\n",
    "account.deposit(500)\n",
    "print(f\"Баланс после пополнения: {account.balance}\")\n",
    "\n",
    "account.withdraw(200)\n",
    "print(f\"Баланс после снятия: {account.balance}\")"
   ]
  },
  {
   "cell_type": "markdown",
   "id": "da508a6c-51e1-44b9-afe2-4c91b72394cd",
   "metadata": {
    "jp-MarkdownHeadingCollapsed": true
   },
   "source": [
    "### 1.2.4. Абстрактные классы и интерфейсы."
   ]
  },
  {
   "cell_type": "markdown",
   "id": "676afebd-529f-4428-9b5d-602ebdf17a64",
   "metadata": {},
   "source": [
    "Абстрактный класс — это класс, который не предназначен для создания экземпляров. Он используется как шаблон для других классов и может содержать как обычные методы, так и абстрактные методы (методы без реализации)."
   ]
  },
  {
   "cell_type": "markdown",
   "id": "93a7a42d-8d29-4585-919f-df0342cbef3c",
   "metadata": {},
   "source": [
    "Для создания абстрактных классов в Python используется модуль abc. Абстрактные методы определяются с помощью декоратора @abstractmethod."
   ]
  },
  {
   "cell_type": "code",
   "execution_count": 27,
   "id": "75ece7b7-f7d7-4804-b327-68dda1d2c2d1",
   "metadata": {},
   "outputs": [
    {
     "ename": "TypeError",
     "evalue": "Can't instantiate abstract class Shape without an implementation for abstract methods 'area', 'perimeter'",
     "output_type": "error",
     "traceback": [
      "\u001b[1;31m---------------------------------------------------------------------------\u001b[0m",
      "\u001b[1;31mTypeError\u001b[0m                                 Traceback (most recent call last)",
      "Cell \u001b[1;32mIn[27], line 14\u001b[0m\n\u001b[0;32m     11\u001b[0m         \u001b[38;5;28;01mpass\u001b[39;00m\n\u001b[0;32m     13\u001b[0m \u001b[38;5;66;03m# Попытка создать экземпляр абстрактного класса вызовет ошибку\u001b[39;00m\n\u001b[1;32m---> 14\u001b[0m shape \u001b[38;5;241m=\u001b[39m Shape()\n",
      "\u001b[1;31mTypeError\u001b[0m: Can't instantiate abstract class Shape without an implementation for abstract methods 'area', 'perimeter'"
     ]
    }
   ],
   "source": [
    "# Пример абстрактного класса\n",
    "from abc import ABC, abstractmethod\n",
    "\n",
    "class Shape(ABC):\n",
    "    @abstractmethod\n",
    "    def area(self):\n",
    "        pass\n",
    "\n",
    "    @abstractmethod\n",
    "    def perimeter(self):\n",
    "        pass\n",
    "\n",
    "# Попытка создать экземпляр абстрактного класса вызовет ошибку\n",
    "shape = Shape()  # TypeError: Can't instantiate abstract class Shape with abstract methods area, perimeter"
   ]
  },
  {
   "cell_type": "code",
   "execution_count": 39,
   "id": "84c17282-cd22-4425-aa35-995e2ed0b307",
   "metadata": {},
   "outputs": [
    {
     "name": "stdout",
     "output_type": "stream",
     "text": [
      "Площадь круга: 78.53981633974483, Периметр: 31.41592653589793\n",
      "Площадь прямоугольника: 24, Периметр: 20\n"
     ]
    }
   ],
   "source": [
    "# Пример реализации абстрактного класса\n",
    "import math\n",
    "\n",
    "class Shape(ABC):\n",
    "    @abstractmethod\n",
    "    def area(self):\n",
    "        pass\n",
    "\n",
    "    @abstractmethod\n",
    "    def perimeter(self):\n",
    "        pass\n",
    "\n",
    "class Circle(Shape):\n",
    "    def __init__(self, radius):\n",
    "        self.radius = radius\n",
    "\n",
    "    def area(self):\n",
    "        return math.pi * self.radius ** 2\n",
    "\n",
    "    def perimeter(self):\n",
    "        return 2 * math.pi * self.radius\n",
    "\n",
    "class Rectangle(Shape):\n",
    "    def __init__(self, width, height):\n",
    "        self.width = width\n",
    "        self.height = height\n",
    "\n",
    "    def area(self):\n",
    "        return self.width * self.height\n",
    "\n",
    "    def perimeter(self):\n",
    "        return 2 * (self.width + self.height)\n",
    "\n",
    "# Пример использования\n",
    "circle = Circle(5)\n",
    "rectangle = Rectangle(4, 6)\n",
    "\n",
    "print(f\"Площадь круга: {circle.area()}, Периметр: {circle.perimeter()}\")\n",
    "print(f\"Площадь прямоугольника: {rectangle.area()}, Периметр: {rectangle.perimeter()}\")"
   ]
  },
  {
   "cell_type": "markdown",
   "id": "40f0586c-aa92-43d8-8a8f-2e3bb8923711",
   "metadata": {},
   "source": [
    "Интерфейс — это полностью абстрактный класс, который определяет только сигнатуры методов без их реализации. В Python интерфейсы реализуются с помощью абстрактных классов."
   ]
  },
  {
   "cell_type": "code",
   "execution_count": 41,
   "id": "67891538-2dec-4375-b47a-1e31ace209c3",
   "metadata": {
    "scrolled": true
   },
   "outputs": [
    {
     "name": "stdout",
     "output_type": "stream",
     "text": [
      "Рисуем круг\n",
      "Рисуем прямоугольник\n"
     ]
    }
   ],
   "source": [
    "# интерфейс Drawable, который определяет метод draw\n",
    "class Drawable(ABC):\n",
    "    @abstractmethod\n",
    "    def draw(self):\n",
    "        pass\n",
    "\n",
    "class Circle(Drawable):\n",
    "    def draw(self):\n",
    "        print(\"Рисуем круг\")\n",
    "\n",
    "class Rectangle(Drawable):\n",
    "    def draw(self):\n",
    "        print(\"Рисуем прямоугольник\")\n",
    "\n",
    "# Пример использования\n",
    "shapes = [Circle(), Rectangle()]\n",
    "for shape in shapes:\n",
    "    shape.draw()"
   ]
  },
  {
   "cell_type": "markdown",
   "id": "42833056-23a9-4e48-a885-f427fcfb42c1",
   "metadata": {
    "jp-MarkdownHeadingCollapsed": true
   },
   "source": [
    "#### Практика"
   ]
  },
  {
   "cell_type": "code",
   "execution_count": 43,
   "id": "93ccce82-e6a2-4a22-b14c-988b1dca97f2",
   "metadata": {},
   "outputs": [
    {
     "name": "stdout",
     "output_type": "stream",
     "text": [
      "Гав!, Бежит\n",
      "Чирик!, Летит\n"
     ]
    }
   ],
   "source": [
    "#  абстрактный класс Animal с методами speak и move. Реализуем в дочерних классах Dog и Bird\n",
    "class Animal(ABC):\n",
    "    @abstractmethod\n",
    "    def speak(self):\n",
    "        pass\n",
    "\n",
    "    @abstractmethod\n",
    "    def move(self):\n",
    "        pass\n",
    "\n",
    "class Dog(Animal):\n",
    "    def speak(self):\n",
    "        return \"Гав!\"\n",
    "\n",
    "    def move(self):\n",
    "        return \"Бежит\"\n",
    "\n",
    "class Bird(Animal):\n",
    "    def speak(self):\n",
    "        return \"Чирик!\"\n",
    "\n",
    "    def move(self):\n",
    "        return \"Летит\"\n",
    "\n",
    "# Пример использования\n",
    "animals = [Dog(), Bird()]\n",
    "\n",
    "for animal in animals:\n",
    "    print(f\"{animal.speak()}, {animal.move()}\")"
   ]
  },
  {
   "cell_type": "code",
   "execution_count": 37,
   "id": "9456cfcf-ea3f-4288-93cc-263ee725078e",
   "metadata": {},
   "outputs": [
    {
     "name": "stdout",
     "output_type": "stream",
     "text": [
      "Воспроизведение музыки\n",
      "Воспроизведение видео\n"
     ]
    }
   ],
   "source": [
    "# интерфейс Playable с методом play. Реализуем его в классах Music и Video\n",
    "from abc import ABC, abstractmethod\n",
    "\n",
    "class Playable(ABC):\n",
    "    @abstractmethod\n",
    "    def play(self):\n",
    "        pass\n",
    "\n",
    "class Music(Playable):\n",
    "    def play(self):\n",
    "        print(\"Воспроизведение музыки\")\n",
    "\n",
    "class Video(Playable):\n",
    "    def play(self):\n",
    "        print(\"Воспроизведение видео\")\n",
    "\n",
    "# Пример использования\n",
    "media = [Music(), Video()]\n",
    "for item in media:\n",
    "    item.play()"
   ]
  },
  {
   "cell_type": "code",
   "execution_count": 45,
   "id": "a1febdc8-b0a4-40a5-9aa2-cf190763c52b",
   "metadata": {},
   "outputs": [
    {
     "name": "stdout",
     "output_type": "stream",
     "text": [
      "Автомобиль заводится, Автомобиль останавливается\n",
      "Велосипед начинает движение, Велосипед останавливается\n"
     ]
    }
   ],
   "source": [
    "# абстрактный класс Vehicle с методами start и stop. Реализуем его в дочерних классах Car и Bicycle\n",
    "class Vehicle(ABC):\n",
    "    @abstractmethod\n",
    "    def start(self):\n",
    "        pass\n",
    "\n",
    "    @abstractmethod\n",
    "    def stop(self):\n",
    "        pass\n",
    "\n",
    "class Car(Vehicle):\n",
    "    def start(self):\n",
    "        return \"Автомобиль заводится\"\n",
    "\n",
    "    def stop(self):\n",
    "        return \"Автомобиль останавливается\"\n",
    "\n",
    "class Bicycle(Vehicle):\n",
    "    def start(self):\n",
    "        return \"Велосипед начинает движение\"\n",
    "\n",
    "    def stop(self):\n",
    "        return \"Велосипед останавливается\"\n",
    "\n",
    "# Пример использования\n",
    "vehicles = [Car(), Bicycle()]\n",
    "for vehicle in vehicles:\n",
    "    print(f\"{vehicle.start()}, {vehicle.stop()}\")"
   ]
  },
  {
   "cell_type": "markdown",
   "id": "521e4c12-2eea-4c6f-a602-56f47d5ac6f9",
   "metadata": {
    "jp-MarkdownHeadingCollapsed": true
   },
   "source": [
    "### 1.2.5. Множественное наследование и миксины."
   ]
  },
  {
   "cell_type": "markdown",
   "id": "5ba3b87d-3a14-482e-a294-b4879a24635b",
   "metadata": {},
   "source": [
    "Множественное наследование позволяет классу наследовать атрибуты и методы от нескольких родительских классов. Это может быть полезно, если нужно объединить функциональность нескольких классов в одном."
   ]
  },
  {
   "cell_type": "code",
   "execution_count": 4,
   "id": "d24180b8-8703-4f95-9ba8-eaed7d8c8ca0",
   "metadata": {},
   "outputs": [
    {
     "name": "stdout",
     "output_type": "stream",
     "text": [
      "Воробей издает звук\n",
      "Воробей летит\n"
     ]
    }
   ],
   "source": [
    "# пример множественного наследования\n",
    "class Animal:\n",
    "    def __init__(self, name):\n",
    "        self.name = name\n",
    "\n",
    "    def speak(self):\n",
    "        return f\"{self.name} издает звук\"\n",
    "\n",
    "class Flyable:\n",
    "    def fly(self):\n",
    "        return f\"{self.name} летит\"\n",
    "\n",
    "class Bird(Animal, Flyable):\n",
    "    def __init__(self, name):\n",
    "        super().__init__(name)\n",
    "\n",
    "# Пример использования\n",
    "bird = Bird(\"Воробей\")\n",
    "print(bird.speak())\n",
    "print(bird.fly())"
   ]
  },
  {
   "cell_type": "markdown",
   "id": "4366384c-82d6-493f-853e-ce870bdf6250",
   "metadata": {},
   "source": [
    "Проблемы множественного наследования.  \n",
    "Проблема ромба (Diamond Problem)  \n",
    "Проблема ромба возникает, когда класс наследует от двух классов, которые, в свою очередь, наследуют от одного общего класса. Это может привести к неоднозначности в выборе метода."
   ]
  },
  {
   "cell_type": "code",
   "execution_count": 7,
   "id": "79e01aeb-15e6-4e80-850e-b76df1455c03",
   "metadata": {},
   "outputs": [
    {
     "name": "stdout",
     "output_type": "stream",
     "text": [
      "B говорит\n"
     ]
    }
   ],
   "source": [
    "class A:\n",
    "    def speak(self):\n",
    "        return \"A говорит\"\n",
    "\n",
    "class B(A):\n",
    "    def speak(self):\n",
    "        return \"B говорит\"\n",
    "\n",
    "class C(A):\n",
    "    def speak(self):\n",
    "        return \"C говорит\"\n",
    "\n",
    "class D(B, C):\n",
    "    pass\n",
    "\n",
    "# Пример использования\n",
    "d = D()\n",
    "print(d.speak())  # Какой метод будет вызван?"
   ]
  },
  {
   "cell_type": "markdown",
   "id": "35290b87-5d3a-43ec-865c-f8e0e0d29729",
   "metadata": {},
   "source": [
    "**Миксины** — это классы, которые предоставляют дополнительные функциональные возможности и предназначены для использования в множественном наследовании. Они обычно не предназначены для самостоятельного использования."
   ]
  },
  {
   "cell_type": "code",
   "execution_count": 1,
   "id": "40b91ed4-0b5d-4ce5-95c9-fd0feaf4490e",
   "metadata": {},
   "outputs": [
    {
     "name": "stdout",
     "output_type": "stream",
     "text": [
      "Лог: Создан новый человек\n",
      "Сериализация объекта Person\n"
     ]
    }
   ],
   "source": [
    "# Создадим миксины Loggable и Serializable, которые добавляют функциональность логирования и сериализации.\n",
    "class Loggable:\n",
    "    def log(self, message):\n",
    "        print(f\"Лог: {message}\")\n",
    "\n",
    "class Serializable:\n",
    "    def serialize(self):\n",
    "        return f\"Сериализация объекта {self.__class__.__name__}\"\n",
    "\n",
    "class Person(Loggable, Serializable):\n",
    "    def __init__(self, name):\n",
    "        self.name = name\n",
    "\n",
    "    def __str__(self):\n",
    "        return f\"Person(name={self.name})\"\n",
    "\n",
    "# Пример использования\n",
    "person = Person(\"Иван Иванов\")\n",
    "person.log(\"Создан новый человек\")\n",
    "print(person.serialize())"
   ]
  },
  {
   "cell_type": "markdown",
   "id": "21e0fffb-abec-4903-93c1-dfb6f5a3c442",
   "metadata": {
    "jp-MarkdownHeadingCollapsed": true
   },
   "source": [
    "#### Пратика"
   ]
  },
  {
   "cell_type": "code",
   "execution_count": 1,
   "id": "f55a42ed-38f7-45dd-8894-52a7c9033ee1",
   "metadata": {},
   "outputs": [
    {
     "name": "stdout",
     "output_type": "stream",
     "text": [
      "Едет по дороге\n",
      "Плывет по воде\n"
     ]
    }
   ],
   "source": [
    "# Множественное наследование для транспортных средств\n",
    "class Car:\n",
    "    def drive(self):\n",
    "        return \"Едет по дороге\"\n",
    "\n",
    "class Boat:\n",
    "    def sail(self):\n",
    "        return \"Плывет по воде\"\n",
    "\n",
    "class AmphibiousVehicle(Car, Boat):\n",
    "    pass\n",
    "\n",
    "# Пример использования\n",
    "amphibious = AmphibiousVehicle()\n",
    "print(amphibious.drive())\n",
    "print(amphibious.sail())"
   ]
  },
  {
   "cell_type": "code",
   "execution_count": 3,
   "id": "3894d232-8623-4367-8563-d53768175952",
   "metadata": {},
   "outputs": [
    {
     "name": "stdout",
     "output_type": "stream",
     "text": [
      "Лог: Создан новый продукт\n",
      "Сериализация объекта Product\n"
     ]
    }
   ],
   "source": [
    "# Миксины для логирования и сериализации\n",
    "class Loggable:\n",
    "    def log(self, message):\n",
    "        print(f\"Лог: {message}\")\n",
    "\n",
    "class Serializable:\n",
    "    def serialize(self):\n",
    "        return f\"Сериализация объекта {self.__class__.__name__}\"\n",
    "\n",
    "class Product(Loggable, Serializable):\n",
    "    def __init__(self, name, price):\n",
    "        self.name = name\n",
    "        self.price = price\n",
    "\n",
    "    def __str__(self):\n",
    "        return f\"Product(name={self.name}, price={self.price})\"\n",
    "\n",
    "# Пример использования\n",
    "product = Product(\"Ноутбук\", 50000)\n",
    "product.log(\"Создан новый продукт\")\n",
    "print(product.serialize())"
   ]
  },
  {
   "cell_type": "code",
   "execution_count": 5,
   "id": "8281b9b7-429f-4558-9e65-42e6983d1638",
   "metadata": {},
   "outputs": [
    {
     "name": "stdout",
     "output_type": "stream",
     "text": [
      "Доступ разрешен\n"
     ]
    }
   ],
   "source": [
    "# Миксины для проверки прав доступа\n",
    "class AdminAccess:\n",
    "    def check_access(self, user):\n",
    "        if user.is_admin:\n",
    "            return \"Доступ разрешен\"\n",
    "        else:\n",
    "            return \"Доступ запрещен\"\n",
    "\n",
    "class User:\n",
    "    def __init__(self, name, is_admin=False):\n",
    "        self.name = name\n",
    "        self.is_admin = is_admin\n",
    "\n",
    "class AdminPanel(AdminAccess):\n",
    "    def __init__(self, user):\n",
    "        self.user = user\n",
    "\n",
    "    def access(self):\n",
    "        return self.check_access(self.user)\n",
    "\n",
    "# Пример использования\n",
    "user = User(\"Иван Иванов\", is_admin=True)\n",
    "admin_panel = AdminPanel(user)\n",
    "print(admin_panel.access())    "
   ]
  },
  {
   "cell_type": "markdown",
   "id": "cec47749-2215-47c7-b713-e8983ddbe2b8",
   "metadata": {},
   "source": [
    "### 1.2.6. Практика: создание иерархии классов для реальной задачи."
   ]
  },
  {
   "cell_type": "markdown",
   "id": "09c0e789",
   "metadata": {},
   "source": [
    "Мы создадим систему управления сотрудниками компании, которая будет включать:\n",
    "- Базовый класс Employee с общими атрибутами и методами для всех сотрудников.\n",
    "- Классы Manager, Developer и Intern, которые наследуют от Employee и добавляют специфичные атрибуты и методы.\n",
    "-  Методы для расчета зарплаты и отображения информации о сотрудниках."
   ]
  },
  {
   "cell_type": "code",
   "execution_count": null,
   "id": "3dbc2eb4-4897-4c33-924d-e1d77d1385db",
   "metadata": {},
   "outputs": [],
   "source": []
  }
 ],
 "metadata": {
  "kernelspec": {
   "display_name": "Python 3 (ipykernel)",
   "language": "python",
   "name": "python3"
  },
  "language_info": {
   "codemirror_mode": {
    "name": "ipython",
    "version": 3
   },
   "file_extension": ".py",
   "mimetype": "text/x-python",
   "name": "python",
   "nbconvert_exporter": "python",
   "pygments_lexer": "ipython3",
   "version": "3.12.4"
  }
 },
 "nbformat": 4,
 "nbformat_minor": 5
}
