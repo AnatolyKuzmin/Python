{
 "cells": [
  {
   "cell_type": "markdown",
   "metadata": {},
   "source": [
    "### 1.3.1. Модуль json для работы с JSON."
   ]
  },
  {
   "cell_type": "markdown",
   "metadata": {},
   "source": [
    "JSON(JavaScript Object Notation) представляет собой текстовый формат, который использует структуры данных, такие как объекты(словари) и массивы(списки)  \n",
    "\n",
    "Основные функции модуля json:  \n",
    "- **json.dumps()** - преобразует объект Python в строку JSON(сериализация)\n",
    "- **json.loads()** - преобразует строку JSON в объект Python(десериализация)\n",
    "- **json.dump()** - записывает объект Python в файл в формате JSON\n",
    "- **json.load()** - читает JSON из файла и преобразовывает его в объект Python"
   ]
  },
  {
   "cell_type": "code",
   "execution_count": 2,
   "metadata": {},
   "outputs": [],
   "source": [
    "import json"
   ]
  },
  {
   "cell_type": "code",
   "execution_count": 4,
   "metadata": {},
   "outputs": [
    {
     "name": "stdout",
     "output_type": "stream",
     "text": [
      "{\n",
      "    \"name\": \"\\u0418\\u0432\\u0430\\u043d\",\n",
      "    \"age\": 30,\n",
      "    \"is_student\": false,\n",
      "    \"courses\": [\n",
      "        \"Python\",\n",
      "        \"JavaScript\"\n",
      "    ]\n",
      "}\n"
     ]
    }
   ],
   "source": [
    "# Преобразование Python-объекта в JSON (json.dumps)\n",
    "data = {\n",
    "    \"name\": \"Иван\",\n",
    "    \"age\": 30,\n",
    "    \"is_student\": False,\n",
    "    \"courses\": [\"Python\", \"JavaScript\"]\n",
    "}\n",
    "\n",
    "json_string = json.dumps(data, indent=4)  # indent для красивого форматирования\n",
    "print(json_string)"
   ]
  },
  {
   "cell_type": "code",
   "execution_count": 10,
   "metadata": {},
   "outputs": [
    {
     "name": "stdout",
     "output_type": "stream",
     "text": [
      "{'name': 'Иван', 'age': 30, 'is_student': False, 'courses': ['Python', 'JavaScript']}\n",
      "Иван Python\n"
     ]
    }
   ],
   "source": [
    "# Преобразование JSON в Python-объект (json.loads)\n",
    "json_data = '''\n",
    "{\n",
    "    \"name\": \"Иван\",\n",
    "    \"age\": 30,\n",
    "    \"is_student\": false,\n",
    "    \"courses\": [\"Python\", \"JavaScript\"]\n",
    "}\n",
    "'''\n",
    "\n",
    "data = json.loads(json_data)\n",
    "print(data)\n",
    "print(data[\"name\"], data[\"courses\"][0])"
   ]
  },
  {
   "cell_type": "code",
   "execution_count": 12,
   "metadata": {},
   "outputs": [],
   "source": [
    "# Запись JSON в файл (json.dump)\n",
    "data = {\n",
    "    \"name\": \"Иван\",\n",
    "    \"age\": 30,\n",
    "    \"is_student\": False,\n",
    "    \"courses\": [\"Python\", \"JavaScript\"]\n",
    "}\n",
    "\n",
    "with open(\"data.json\", \"w\", encoding=\"utf-8\") as file:\n",
    "    json.dump(data, file, indent=4)"
   ]
  },
  {
   "cell_type": "code",
   "execution_count": 18,
   "metadata": {},
   "outputs": [
    {
     "name": "stdout",
     "output_type": "stream",
     "text": [
      "{'name': 'Иван', 'age': 30, 'is_student': False, 'courses': ['Python', 'JavaScript']}\n",
      "['Python', 'JavaScript']\n"
     ]
    }
   ],
   "source": [
    "# Чтение JSON из файла (json.load)\n",
    "with open(\"data.json\", \"r\", encoding=\"utf-8\") as file:\n",
    "    data = json.load(file)\n",
    "\n",
    "print(data)\n",
    "print(data[\"courses\"])  # Доступ к данным"
   ]
  },
  {
   "cell_type": "markdown",
   "metadata": {},
   "source": [
    "#### Практика"
   ]
  },
  {
   "cell_type": "code",
   "execution_count": 21,
   "metadata": {},
   "outputs": [
    {
     "name": "stdout",
     "output_type": "stream",
     "text": [
      "[\n",
      "    {\n",
      "        \"name\": \"\\u0418\\u0432\\u0430\\u043d\",\n",
      "        \"age\": 30\n",
      "    },\n",
      "    {\n",
      "        \"name\": \"\\u041f\\u0435\\u0442\\u0440\",\n",
      "        \"age\": 25\n",
      "    }\n",
      "]\n",
      "[{'name': 'Иван', 'age': 30}, {'name': 'Петр', 'age': 25}]\n"
     ]
    }
   ],
   "source": [
    "# Сериализация и десериализация списка\n",
    "import json\n",
    "\n",
    "data = [\n",
    "    {\"name\": \"Иван\", \"age\": 30},\n",
    "    {\"name\": \"Петр\", \"age\": 25}\n",
    "]\n",
    "\n",
    "# Сериализация\n",
    "json_string = json.dumps(data, indent=4)\n",
    "print(json_string)\n",
    "\n",
    "# Десериализация\n",
    "data_restored = json.loads(json_string)\n",
    "print(data_restored)"
   ]
  },
  {
   "cell_type": "code",
   "execution_count": 23,
   "metadata": {},
   "outputs": [
    {
     "name": "stdout",
     "output_type": "stream",
     "text": [
      "{'host': 'localhost', 'port': 8080, 'debug': True}\n",
      "localhost\n"
     ]
    }
   ],
   "source": [
    "# Работа с файлами\n",
    "config = {\n",
    "    \"host\": \"localhost\",\n",
    "    \"port\": 8080,\n",
    "    \"debug\": True\n",
    "}\n",
    "\n",
    "# Запись в файл\n",
    "with open(\"config.json\", \"w\", encoding=\"utf-8\") as file:\n",
    "    json.dump(config, file, indent=4)\n",
    "\n",
    "# Чтение из файла\n",
    "with open(\"config.json\", \"r\", encoding=\"utf-8\") as file:\n",
    "    config_restored = json.load(file)\n",
    "\n",
    "print(config_restored)\n",
    "print(config_restored[\"host\"])  # Доступ к данным"
   ]
  },
  {
   "cell_type": "code",
   "execution_count": 25,
   "metadata": {},
   "outputs": [
    {
     "name": "stdout",
     "output_type": "stream",
     "text": [
      "Студент: Иван, Возраст: 20, Курсы: Python, Математика\n",
      "Студент: Петр, Возраст: 22, Курсы: JavaScript, Физика\n"
     ]
    }
   ],
   "source": [
    "# Обработка сложных структур\n",
    "students_data = '''\n",
    "[\n",
    "    {\"name\": \"Иван\", \"age\": 20, \"courses\": [\"Python\", \"Математика\"]},\n",
    "    {\"name\": \"Петр\", \"age\": 22, \"courses\": [\"JavaScript\", \"Физика\"]}\n",
    "]\n",
    "'''\n",
    "\n",
    "# Запись в файл\n",
    "with open(\"students.json\", \"w\", encoding=\"utf-8\") as file:\n",
    "    file.write(students_data)\n",
    "\n",
    "# Чтение из файла\n",
    "with open(\"students.json\", \"r\", encoding=\"utf-8\") as file:\n",
    "    students = json.load(file)\n",
    "\n",
    "for student in students:\n",
    "    print(f\"Студент: {student['name']}, Возраст: {student['age']}, Курсы: {', '.join(student['courses'])}\")"
   ]
  },
  {
   "cell_type": "markdown",
   "metadata": {},
   "source": [
    "### 1.3.2. Модуль csv для работы с CSV."
   ]
  },
  {
   "cell_type": "markdown",
   "metadata": {},
   "source": [
    "### 1.3.3. Модуль pickle для сериализации."
   ]
  },
  {
   "cell_type": "markdown",
   "metadata": {},
   "source": [
    "### 1.3.4 Практика: парсинг и обработка данных из файлов."
   ]
  }
 ],
 "metadata": {
  "kernelspec": {
   "display_name": "Python 3 (ipykernel)",
   "language": "python",
   "name": "python3"
  },
  "language_info": {
   "codemirror_mode": {
    "name": "ipython",
    "version": 3
   },
   "file_extension": ".py",
   "mimetype": "text/x-python",
   "name": "python",
   "nbconvert_exporter": "python",
   "pygments_lexer": "ipython3",
   "version": "3.12.4"
  }
 },
 "nbformat": 4,
 "nbformat_minor": 4
}
