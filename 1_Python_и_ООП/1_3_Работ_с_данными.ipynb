{
 "cells": [
  {
   "cell_type": "markdown",
   "metadata": {
    "jp-MarkdownHeadingCollapsed": true
   },
   "source": [
    "### 1.3.1. Модуль json для работы с JSON."
   ]
  },
  {
   "cell_type": "markdown",
   "metadata": {},
   "source": [
    "JSON(JavaScript Object Notation) представляет собой текстовый формат, который использует структуры данных, такие как объекты(словари) и массивы(списки)  \n",
    "\n",
    "Основные функции модуля json:  \n",
    "- **json.dumps()** - преобразует объект Python в строку JSON(сериализация)\n",
    "- **json.loads()** - преобразует строку JSON в объект Python(десериализация)\n",
    "- **json.dump()** - записывает объект Python в файл в формате JSON\n",
    "- **json.load()** - читает JSON из файла и преобразовывает его в объект Python"
   ]
  },
  {
   "cell_type": "code",
   "execution_count": 2,
   "metadata": {},
   "outputs": [],
   "source": [
    "import json"
   ]
  },
  {
   "cell_type": "code",
   "execution_count": 4,
   "metadata": {},
   "outputs": [
    {
     "name": "stdout",
     "output_type": "stream",
     "text": [
      "{\n",
      "    \"name\": \"\\u0418\\u0432\\u0430\\u043d\",\n",
      "    \"age\": 30,\n",
      "    \"is_student\": false,\n",
      "    \"courses\": [\n",
      "        \"Python\",\n",
      "        \"JavaScript\"\n",
      "    ]\n",
      "}\n"
     ]
    }
   ],
   "source": [
    "# Преобразование Python-объекта в JSON (json.dumps)\n",
    "data = {\n",
    "    \"name\": \"Иван\",\n",
    "    \"age\": 30,\n",
    "    \"is_student\": False,\n",
    "    \"courses\": [\"Python\", \"JavaScript\"]\n",
    "}\n",
    "\n",
    "json_string = json.dumps(data, indent=4)  # indent для красивого форматирования\n",
    "print(json_string)"
   ]
  },
  {
   "cell_type": "code",
   "execution_count": 10,
   "metadata": {},
   "outputs": [
    {
     "name": "stdout",
     "output_type": "stream",
     "text": [
      "{'name': 'Иван', 'age': 30, 'is_student': False, 'courses': ['Python', 'JavaScript']}\n",
      "Иван Python\n"
     ]
    }
   ],
   "source": [
    "# Преобразование JSON в Python-объект (json.loads)\n",
    "json_data = '''\n",
    "{\n",
    "    \"name\": \"Иван\",\n",
    "    \"age\": 30,\n",
    "    \"is_student\": false,\n",
    "    \"courses\": [\"Python\", \"JavaScript\"]\n",
    "}\n",
    "'''\n",
    "\n",
    "data = json.loads(json_data)\n",
    "print(data)\n",
    "print(data[\"name\"], data[\"courses\"][0])"
   ]
  },
  {
   "cell_type": "code",
   "execution_count": 12,
   "metadata": {},
   "outputs": [],
   "source": [
    "# Запись JSON в файл (json.dump)\n",
    "data = {\n",
    "    \"name\": \"Иван\",\n",
    "    \"age\": 30,\n",
    "    \"is_student\": False,\n",
    "    \"courses\": [\"Python\", \"JavaScript\"]\n",
    "}\n",
    "\n",
    "with open(\"data.json\", \"w\", encoding=\"utf-8\") as file:\n",
    "    json.dump(data, file, indent=4)"
   ]
  },
  {
   "cell_type": "code",
   "execution_count": 18,
   "metadata": {},
   "outputs": [
    {
     "name": "stdout",
     "output_type": "stream",
     "text": [
      "{'name': 'Иван', 'age': 30, 'is_student': False, 'courses': ['Python', 'JavaScript']}\n",
      "['Python', 'JavaScript']\n"
     ]
    }
   ],
   "source": [
    "# Чтение JSON из файла (json.load)\n",
    "with open(\"data.json\", \"r\", encoding=\"utf-8\") as file:\n",
    "    data = json.load(file)\n",
    "\n",
    "print(data)\n",
    "print(data[\"courses\"])  # Доступ к данным"
   ]
  },
  {
   "cell_type": "markdown",
   "metadata": {
    "jp-MarkdownHeadingCollapsed": true
   },
   "source": [
    "#### Практика"
   ]
  },
  {
   "cell_type": "code",
   "execution_count": 21,
   "metadata": {},
   "outputs": [
    {
     "name": "stdout",
     "output_type": "stream",
     "text": [
      "[\n",
      "    {\n",
      "        \"name\": \"\\u0418\\u0432\\u0430\\u043d\",\n",
      "        \"age\": 30\n",
      "    },\n",
      "    {\n",
      "        \"name\": \"\\u041f\\u0435\\u0442\\u0440\",\n",
      "        \"age\": 25\n",
      "    }\n",
      "]\n",
      "[{'name': 'Иван', 'age': 30}, {'name': 'Петр', 'age': 25}]\n"
     ]
    }
   ],
   "source": [
    "# Сериализация и десериализация списка\n",
    "import json\n",
    "\n",
    "data = [\n",
    "    {\"name\": \"Иван\", \"age\": 30},\n",
    "    {\"name\": \"Петр\", \"age\": 25}\n",
    "]\n",
    "\n",
    "# Сериализация\n",
    "json_string = json.dumps(data, indent=4)\n",
    "print(json_string)\n",
    "\n",
    "# Десериализация\n",
    "data_restored = json.loads(json_string)\n",
    "print(data_restored)"
   ]
  },
  {
   "cell_type": "code",
   "execution_count": 23,
   "metadata": {},
   "outputs": [
    {
     "name": "stdout",
     "output_type": "stream",
     "text": [
      "{'host': 'localhost', 'port': 8080, 'debug': True}\n",
      "localhost\n"
     ]
    }
   ],
   "source": [
    "# Работа с файлами\n",
    "config = {\n",
    "    \"host\": \"localhost\",\n",
    "    \"port\": 8080,\n",
    "    \"debug\": True\n",
    "}\n",
    "\n",
    "# Запись в файл\n",
    "with open(\"config.json\", \"w\", encoding=\"utf-8\") as file:\n",
    "    json.dump(config, file, indent=4)\n",
    "\n",
    "# Чтение из файла\n",
    "with open(\"config.json\", \"r\", encoding=\"utf-8\") as file:\n",
    "    config_restored = json.load(file)\n",
    "\n",
    "print(config_restored)\n",
    "print(config_restored[\"host\"])  # Доступ к данным"
   ]
  },
  {
   "cell_type": "code",
   "execution_count": 25,
   "metadata": {},
   "outputs": [
    {
     "name": "stdout",
     "output_type": "stream",
     "text": [
      "Студент: Иван, Возраст: 20, Курсы: Python, Математика\n",
      "Студент: Петр, Возраст: 22, Курсы: JavaScript, Физика\n"
     ]
    }
   ],
   "source": [
    "# Обработка сложных структур\n",
    "students_data = '''\n",
    "[\n",
    "    {\"name\": \"Иван\", \"age\": 20, \"courses\": [\"Python\", \"Математика\"]},\n",
    "    {\"name\": \"Петр\", \"age\": 22, \"courses\": [\"JavaScript\", \"Физика\"]}\n",
    "]\n",
    "'''\n",
    "\n",
    "# Запись в файл\n",
    "with open(\"students.json\", \"w\", encoding=\"utf-8\") as file:\n",
    "    file.write(students_data)\n",
    "\n",
    "# Чтение из файла\n",
    "with open(\"students.json\", \"r\", encoding=\"utf-8\") as file:\n",
    "    students = json.load(file)\n",
    "\n",
    "for student in students:\n",
    "    print(f\"Студент: {student['name']}, Возраст: {student['age']}, Курсы: {', '.join(student['courses'])}\")"
   ]
  },
  {
   "cell_type": "markdown",
   "metadata": {
    "jp-MarkdownHeadingCollapsed": true
   },
   "source": [
    "### 1.3.2. Модуль csv для работы с CSV."
   ]
  },
  {
   "cell_type": "markdown",
   "metadata": {},
   "source": [
    "**CSV-файл** представляет собой таблицу, где каждая строка — это запись, а поля разделены запятыми.  \n",
    "\n",
    "Основные функции модуля csv:  \n",
    "- **csv.reader()** - читает данные из CSV-файла.\n",
    "- **csv.writer()** - записывает данные в CSV-файл.\n",
    "- **csv.DictReader()** - читает данные из CSV-файла в виде словарей.\n",
    "- **csv.DictWriter()** - записывает данные в CSV-файл из словарей."
   ]
  },
  {
   "cell_type": "code",
   "execution_count": 2,
   "metadata": {},
   "outputs": [],
   "source": [
    "import csv"
   ]
  },
  {
   "cell_type": "code",
   "execution_count": 10,
   "metadata": {},
   "outputs": [
    {
     "name": "stdout",
     "output_type": "stream",
     "text": [
      "['name', 'age', 'city']\n",
      "['Иван', '30', 'Москва']\n",
      "['Петр', '25', 'Санкт-Петербург']\n",
      "['Мария', '28', 'Казань']\n"
     ]
    }
   ],
   "source": [
    "# Метод csv.reader позволяет читать CSV-файл построчно\n",
    "with open(\"data.csv\", \"r\") as file:\n",
    "    reader = csv.reader(file)\n",
    "    for row in reader:\n",
    "        print(row)"
   ]
  },
  {
   "cell_type": "code",
   "execution_count": 14,
   "metadata": {},
   "outputs": [
    {
     "name": "stdout",
     "output_type": "stream",
     "text": [
      "{'name': 'Иван', 'age': '30', 'city': 'Москва'}\n",
      "{'name': 'Петр', 'age': '25', 'city': 'Санкт-Петербург'}\n",
      "{'name': 'Мария', 'age': '28', 'city': 'Казань'}\n"
     ]
    }
   ],
   "source": [
    "# Метод csv.DictReader возвращает каждую строку как словарь, где ключи — это заголовки столбцов.\n",
    "with open(\"data.csv\", \"r\") as file:\n",
    "    reader = csv.DictReader(file)\n",
    "    for row in reader:\n",
    "        print(row)"
   ]
  },
  {
   "cell_type": "code",
   "execution_count": 16,
   "metadata": {},
   "outputs": [],
   "source": [
    "# Метод csv.writer позволяет записывать данные в CSV-файл. Каждая строка передается как список.\n",
    "data = [\n",
    "    [\"name\", \"age\", \"city\"],\n",
    "    [\"Иван\", \"30\", \"Москва\"],\n",
    "    [\"Петр\", \"25\", \"Санкт-Петербург\"],\n",
    "    [\"Мария\", \"28\", \"Казань\"]\n",
    "]\n",
    "\n",
    "with open(\"output.csv\", \"w\", encoding=\"utf-8\", newline=\"\") as file:\n",
    "    writer = csv.writer(file)\n",
    "    writer.writerows(data)"
   ]
  },
  {
   "cell_type": "code",
   "execution_count": 18,
   "metadata": {},
   "outputs": [],
   "source": [
    "# Метод csv.DictWriter позволяет записывать данные в CSV-файл из словарей. Заголовки столбцов указываются явно.\n",
    "data = [\n",
    "    {\"name\": \"Иван\", \"age\": \"30\", \"city\": \"Москва\"},\n",
    "    {\"name\": \"Петр\", \"age\": \"25\", \"city\": \"Санкт-Петербург\"},\n",
    "    {\"name\": \"Мария\", \"age\": \"28\", \"city\": \"Казань\"}\n",
    "]\n",
    "\n",
    "fieldnames = [\"name\", \"age\", \"city\"]\n",
    "\n",
    "with open(\"output_dict.csv\", \"w\", encoding=\"utf-8\", newline=\"\") as file:\n",
    "    writer = csv.DictWriter(file, fieldnames=fieldnames)\n",
    "    writer.writeheader()  # Запись заголовков\n",
    "    writer.writerows(data)  # Запись данных"
   ]
  },
  {
   "cell_type": "markdown",
   "metadata": {
    "jp-MarkdownHeadingCollapsed": true
   },
   "source": [
    "#### Практика"
   ]
  },
  {
   "cell_type": "code",
   "execution_count": 25,
   "metadata": {},
   "outputs": [
    {
     "name": "stdout",
     "output_type": "stream",
     "text": [
      "Студент: Иван, Возраст: 20, Курс: Python\n",
      "Студент: Петр, Возраст: 22, Курс: JavaScript\n",
      "Студент: Мария, Возраст: 21, Курс: Математика\n"
     ]
    }
   ],
   "source": [
    "# Чтение CSV-файла и вывод данных\n",
    "with open(\"students.csv\", \"r\", encoding=\"utf-8\") as file:\n",
    "    reader = csv.DictReader(file)\n",
    "    for row in reader:\n",
    "        print(f\"Студент: {row['name']}, Возраст: {row['age']}, Курс: {row['course']}\")"
   ]
  },
  {
   "cell_type": "code",
   "execution_count": 27,
   "metadata": {},
   "outputs": [],
   "source": [
    "# Запись данных в CSV-файл\n",
    "books = [\n",
    "    {\"title\": \"1984\", \"author\": \"George Orwell\", \"year\": 1949},\n",
    "    {\"title\": \"To Kill a Mockingbird\", \"author\": \"Harper Lee\", \"year\": 1960},\n",
    "    {\"title\": \"The Great Gatsby\", \"author\": \"F. Scott Fitzgerald\", \"year\": 1925}\n",
    "]\n",
    "\n",
    "fieldnames = [\"title\", \"author\", \"year\"]\n",
    "\n",
    "with open(\"books.csv\", \"w\", encoding=\"utf-8\", newline=\"\") as file:\n",
    "    writer = csv.DictWriter(file, fieldnames=fieldnames)\n",
    "    writer.writeheader()\n",
    "    writer.writerows(books)"
   ]
  },
  {
   "cell_type": "markdown",
   "metadata": {},
   "source": [
    "### 1.3.3. Модуль pickle для сериализации."
   ]
  },
  {
   "cell_type": "markdown",
   "metadata": {},
   "source": [
    "Модуль pickle в Python используется для сериализации и десериализации объектов. **Сериализация** — это процесс преобразования объекта в поток байтов, который может быть сохранен в файле или передан по сети. **Десериализация** — это обратный процесс, при котором поток байтов преобразуется обратно в объект."
   ]
  },
  {
   "cell_type": "markdown",
   "metadata": {},
   "source": [
    "Основные функции модуля pickle:\n",
    "- **pickle.dump()** - сериализует объект и записывает его в файл.\n",
    "- **pickle.load()** - читает данные из файла и десериализует их в объект.\n",
    "- **pickle.dumps()** - сериализует объект в строку байтов.\n",
    "- **pickle.loads()** - десериализует объект из строки байтов."
   ]
  },
  {
   "cell_type": "code",
   "execution_count": 30,
   "metadata": {},
   "outputs": [],
   "source": [
    "import pickle"
   ]
  },
  {
   "cell_type": "code",
   "execution_count": 33,
   "metadata": {},
   "outputs": [],
   "source": [
    "# Сериализуем объект (например, список или словарь) и сохраним его в файл\n",
    "data = {\n",
    "    \"name\": \"Иван\",\n",
    "    \"age\": 30,\n",
    "    \"is_student\": False,\n",
    "    \"courses\": [\"Python\", \"JavaScript\"]\n",
    "}\n",
    "\n",
    "with open(\"data.pkl\", \"wb\") as file:  # 'wb' — запись в бинарном режиме\n",
    "    pickle.dump(data, file)"
   ]
  },
  {
   "cell_type": "code",
   "execution_count": 35,
   "metadata": {},
   "outputs": [
    {
     "name": "stdout",
     "output_type": "stream",
     "text": [
      "{'name': 'Иван', 'age': 30, 'is_student': False, 'courses': ['Python', 'JavaScript']}\n",
      "Иван\n"
     ]
    }
   ],
   "source": [
    "# Десериализация. Прочитаем сериализованные данные из файла и восстановим объект.\n",
    "with open(\"data.pkl\", \"rb\") as file:  # 'rb' — чтение в бинарном режиме\n",
    "    data_restored = pickle.load(file)\n",
    "\n",
    "print(data_restored)\n",
    "print(data_restored[\"name\"])  # Доступ к данным"
   ]
  },
  {
   "cell_type": "code",
   "execution_count": 37,
   "metadata": {},
   "outputs": [
    {
     "name": "stdout",
     "output_type": "stream",
     "text": [
      "b'\\x80\\x04\\x95Q\\x00\\x00\\x00\\x00\\x00\\x00\\x00}\\x94(\\x8c\\x04name\\x94\\x8c\\x08\\xd0\\x98\\xd0\\xb2\\xd0\\xb0\\xd0\\xbd\\x94\\x8c\\x03age\\x94K\\x1e\\x8c\\nis_student\\x94\\x89\\x8c\\x07courses\\x94]\\x94(\\x8c\\x06Python\\x94\\x8c\\nJavaScript\\x94eu.'\n"
     ]
    }
   ],
   "source": [
    "# Метод pickle.dumps сериализует объект в строку байтов, которую можно сохранить или передать.\n",
    "data = {\n",
    "    \"name\": \"Иван\",\n",
    "    \"age\": 30,\n",
    "    \"is_student\": False,\n",
    "    \"courses\": [\"Python\", \"JavaScript\"]\n",
    "}\n",
    "\n",
    "serialized_data = pickle.dumps(data)\n",
    "print(serialized_data)  # Вывод строки байтов"
   ]
  },
  {
   "cell_type": "code",
   "execution_count": 39,
   "metadata": {},
   "outputs": [
    {
     "name": "stdout",
     "output_type": "stream",
     "text": [
      "{'name': 'Иван', 'age': 30, 'is_student': False, 'courses': ['Python', 'JavaScript']}\n"
     ]
    }
   ],
   "source": [
    "# Метод pickle.loads десериализует объект из строки байтов.\n",
    "data_restored = pickle.loads(serialized_data)\n",
    "print(data_restored)"
   ]
  },
  {
   "cell_type": "markdown",
   "metadata": {},
   "source": [
    "#### Практика"
   ]
  },
  {
   "cell_type": "code",
   "execution_count": 44,
   "metadata": {},
   "outputs": [
    {
     "name": "stdout",
     "output_type": "stream",
     "text": [
      "[1, 2, 3, 4, 5]\n"
     ]
    }
   ],
   "source": [
    "# Сериализация и десериализация списка\n",
    "data = [1, 2, 3, 4, 5]\n",
    "\n",
    "# Сериализация\n",
    "with open(\"list.pkl\", \"wb\") as file:\n",
    "    pickle.dump(data, file)\n",
    "\n",
    "# Десериализация\n",
    "with open(\"list.pkl\", \"rb\") as file:\n",
    "    data_restored = pickle.load(file)\n",
    "\n",
    "print(data_restored)"
   ]
  },
  {
   "cell_type": "code",
   "execution_count": 46,
   "metadata": {},
   "outputs": [
    {
     "name": "stdout",
     "output_type": "stream",
     "text": [
      "{'name': 'Петр', 'age': 25, 'is_student': True, 'courses': ['Математика', 'Физика']}\n"
     ]
    }
   ],
   "source": [
    "# Сериализация и десериализация словаря\n",
    "data = {\n",
    "    \"name\": \"Петр\",\n",
    "    \"age\": 25,\n",
    "    \"is_student\": True,\n",
    "    \"courses\": [\"Математика\", \"Физика\"]\n",
    "}\n",
    "\n",
    "# Сериализация\n",
    "with open(\"dict.pkl\", \"wb\") as file:\n",
    "    pickle.dump(data, file)\n",
    "\n",
    "# Десериализация\n",
    "with open(\"dict.pkl\", \"rb\") as file:\n",
    "    data_restored = pickle.load(file)\n",
    "\n",
    "print(data_restored)"
   ]
  },
  {
   "cell_type": "code",
   "execution_count": 48,
   "metadata": {},
   "outputs": [
    {
     "name": "stdout",
     "output_type": "stream",
     "text": [
      "Person(name=Мария, age=28)\n"
     ]
    }
   ],
   "source": [
    "# Сериализация и десериализация пользовательского класса\n",
    "class Person:\n",
    "    def __init__(self, name, age):\n",
    "        self.name = name\n",
    "        self.age = age\n",
    "\n",
    "    def __str__(self):\n",
    "        return f\"Person(name={self.name}, age={self.age})\"\n",
    "\n",
    "# Создание объекта\n",
    "person = Person(\"Мария\", 28)\n",
    "\n",
    "# Сериализация\n",
    "with open(\"person.pkl\", \"wb\") as file:\n",
    "    pickle.dump(person, file)\n",
    "\n",
    "# Десериализация\n",
    "with open(\"person.pkl\", \"rb\") as file:\n",
    "    person_restored = pickle.load(file)\n",
    "\n",
    "print(person_restored)"
   ]
  },
  {
   "cell_type": "markdown",
   "metadata": {},
   "source": [
    "### 1.3.4 Практика: парсинг и обработка данных из файлов."
   ]
  }
 ],
 "metadata": {
  "kernelspec": {
   "display_name": "Python 3 (ipykernel)",
   "language": "python",
   "name": "python3"
  },
  "language_info": {
   "codemirror_mode": {
    "name": "ipython",
    "version": 3
   },
   "file_extension": ".py",
   "mimetype": "text/x-python",
   "name": "python",
   "nbconvert_exporter": "python",
   "pygments_lexer": "ipython3",
   "version": "3.12.4"
  }
 },
 "nbformat": 4,
 "nbformat_minor": 4
}
