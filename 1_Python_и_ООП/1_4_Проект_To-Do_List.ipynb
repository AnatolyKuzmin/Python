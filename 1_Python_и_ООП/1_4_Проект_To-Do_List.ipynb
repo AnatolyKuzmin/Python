{
 "cells": [
  {
   "cell_type": "markdown",
   "id": "e3d00506-d093-4d4a-90f5-2b31ce2f3770",
   "metadata": {},
   "source": [
    "[Проект Консольное приложение для управления задачами](https://github.com/AnatolyKuzmin/Python/tree/main/1_Python_и_ООП/1_4_To-Do_List)"
   ]
  }
 ],
 "metadata": {
  "kernelspec": {
   "display_name": "Python 3 (ipykernel)",
   "language": "python",
   "name": "python3"
  },
  "language_info": {
   "codemirror_mode": {
    "name": "ipython",
    "version": 3
   },
   "file_extension": ".py",
   "mimetype": "text/x-python",
   "name": "python",
   "nbconvert_exporter": "python",
   "pygments_lexer": "ipython3",
   "version": "3.12.4"
  }
 },
 "nbformat": 4,
 "nbformat_minor": 5
}
