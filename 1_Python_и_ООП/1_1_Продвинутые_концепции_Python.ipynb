{
 "cells": [
  {
   "cell_type": "markdown",
   "metadata": {},
   "source": [
    "## 1.1. Продвинутые концепции Python"
   ]
  },
  {
   "cell_type": "markdown",
   "metadata": {},
   "source": [
    "### 1.1.1. Декораторы и их применение"
   ]
  },
  {
   "cell_type": "markdown",
   "metadata": {},
   "source": [
    "**Декоратор** - это функция, которая принимает другую функцию в качестве аргумента, добавляет к ней некоторую функциональность и возвращает новую функцию"
   ]
  },
  {
   "cell_type": "markdown",
   "metadata": {},
   "source": [
    "Создание простого декоратора"
   ]
  },
  {
   "cell_type": "code",
   "execution_count": 5,
   "metadata": {},
   "outputs": [
    {
     "name": "stdout",
     "output_type": "stream",
     "text": [
      "Вызов функции add с аргументами (2, 3) и {}\n",
      "Функция add завершила выполнение\n",
      "5\n"
     ]
    }
   ],
   "source": [
    "# декоратор, который будет выводить сообщение до и после вызова функции.\n",
    "def logger(func):\n",
    "    def wrapper(*args, **kwargs):\n",
    "        print(f\"Вызов функции {func.__name__} с аргументами {args} и {kwargs}\")\n",
    "        result = func(*args, **kwargs)\n",
    "        print(f\"Функция {func.__name__} завершила выполнение\")\n",
    "        return result\n",
    "    return wrapper\n",
    "\n",
    "@logger\n",
    "def add(a, b):\n",
    "    return a + b\n",
    "\n",
    "print(add(2, 3))"
   ]
  },
  {
   "cell_type": "markdown",
   "metadata": {},
   "source": [
    "Создание декоратора с аргументами"
   ]
  },
  {
   "cell_type": "code",
   "execution_count": 8,
   "metadata": {},
   "outputs": [
    {
     "name": "stdout",
     "output_type": "stream",
     "text": [
      "Привет, Alex!\n",
      "Привет, Alex!\n",
      "Привет, Alex!\n"
     ]
    }
   ],
   "source": [
    "# декоратор, который повторяет выполнение функции заданное количество раз\n",
    "def repeat(num_times):\n",
    "    def decorator(func):\n",
    "        def wrapper(*args, **kwargs):\n",
    "            for _ in range(num_times):\n",
    "                result = func(*args, **kwargs)\n",
    "            return result\n",
    "        return wrapper\n",
    "    return decorator\n",
    "\n",
    "@repeat(3)\n",
    "def greet(name):\n",
    "    print(f\"Привет, {name}!\")\n",
    "\n",
    "greet(\"Alex\")"
   ]
  },
  {
   "cell_type": "markdown",
   "metadata": {},
   "source": [
    "Встроенные декораторы. @staticmethod и @classmethod и @property  \n",
    "- @staticmethod используется для создания методов, которые не требуют доступа к экземпляру или классу.\n",
    "- @classmethod используется для создания методов, которые работают с классом, а не с экземпляром.\n",
    "- @property позволяет превратить метод в атрибут, который можно читать без вызова."
   ]
  },
  {
   "cell_type": "markdown",
   "metadata": {},
   "source": [
    "Декораторы можно применять последовательно. Порядок применения важен: декораторы выполняются снизу вверх."
   ]
  },
  {
   "cell_type": "markdown",
   "metadata": {},
   "source": [
    "#### Практика"
   ]
  },
  {
   "cell_type": "code",
   "execution_count": 13,
   "metadata": {},
   "outputs": [
    {
     "name": "stdout",
     "output_type": "stream",
     "text": [
      "Функция slow_function выполнилась за 3.0009 секунд\n"
     ]
    }
   ],
   "source": [
    "# декоратор, который измеряет время выполнения функции и выводит его\n",
    "import time\n",
    "\n",
    "def timer(func):\n",
    "    def wrapper(*args, **kwargs):\n",
    "        start_time = time.time()\n",
    "        result = func(*args, **kwargs)\n",
    "        end_time = time.time()\n",
    "        print(f\"Функция {func.__name__} выполнилась за {end_time - start_time:.4f} секунд\")\n",
    "        return result\n",
    "    return wrapper\n",
    "\n",
    "@timer\n",
    "def slow_function(sec):\n",
    "    time.sleep(sec)\n",
    "\n",
    "slow_function(3)"
   ]
  },
  {
   "cell_type": "code",
   "execution_count": 14,
   "metadata": {},
   "outputs": [
    {
     "name": "stdout",
     "output_type": "stream",
     "text": [
      "Результат вычислен\n",
      "Результат вычислен\n",
      "Результат вычислен\n",
      "1\n"
     ]
    }
   ],
   "source": [
    "# декоратор, который кэширует результаты функции, чтобы избежать повторных вычислений\n",
    "def cache(func):\n",
    "    cached_results = {}\n",
    "    def wrapper(*args):\n",
    "        if args in cached_results:\n",
    "            print(\"Результат из кэша\")\n",
    "            return cached_results[args]\n",
    "        result = func(*args)\n",
    "        cached_results[args] = result\n",
    "        print(\"Результат вычислен\")\n",
    "        return result\n",
    "    return wrapper\n",
    "\n",
    "@cache\n",
    "def fibonacci(n):\n",
    "    if n <= 1:\n",
    "        return n\n",
    "    return fibonacci(n - 1) + fibonacci(n - 2)\n",
    "\n",
    "print(fibonacci(2))"
   ]
  },
  {
   "cell_type": "code",
   "execution_count": 15,
   "metadata": {},
   "outputs": [
    {
     "data": {
      "text/plain": [
       "5"
      ]
     },
     "execution_count": 15,
     "metadata": {},
     "output_type": "execute_result"
    }
   ],
   "source": [
    "# Декоратор для логирования аргументов и результата функции в файл\n",
    "def log_to_file(filename):\n",
    "    def decorator(func):\n",
    "        def wrapper(*args, **kwargs):\n",
    "            with open(filename, 'a') as f:\n",
    "                f.write(f\"Вызов функции {func.__name__} с аргументами: {args}, {kwargs}\\n\")\n",
    "            result = func(*args, **kwargs)\n",
    "            with open(filename, 'a') as f:\n",
    "                f.write(f\"Результат функции {func.__name__}: {result}\\n\")\n",
    "            return result\n",
    "        return wrapper\n",
    "    return decorator\n",
    "\n",
    "@log_to_file('log.txt')\n",
    "def add(a, b):\n",
    "    return a + b\n",
    "\n",
    "add(2, 3)"
   ]
  },
  {
   "cell_type": "code",
   "execution_count": 16,
   "metadata": {},
   "outputs": [
    {
     "name": "stdout",
     "output_type": "stream",
     "text": [
      "6\n"
     ]
    },
    {
     "ename": "ValueError",
     "evalue": "Аргумент 3 не является числом",
     "output_type": "error",
     "traceback": [
      "\u001b[1;31m---------------------------------------------------------------------------\u001b[0m",
      "\u001b[1;31mValueError\u001b[0m                                Traceback (most recent call last)",
      "Cell \u001b[1;32mIn[16], line 23\u001b[0m\n\u001b[0;32m     20\u001b[0m     \u001b[38;5;28;01mreturn\u001b[39;00m a \u001b[38;5;241m*\u001b[39m b\n\u001b[0;32m     22\u001b[0m \u001b[38;5;28mprint\u001b[39m(multiply(\u001b[38;5;241m2\u001b[39m, \u001b[38;5;241m3\u001b[39m))  \u001b[38;5;66;03m# Работает\u001b[39;00m\n\u001b[1;32m---> 23\u001b[0m \u001b[38;5;28mprint\u001b[39m(multiply(\u001b[38;5;241m2\u001b[39m, \u001b[38;5;124m'\u001b[39m\u001b[38;5;124m3\u001b[39m\u001b[38;5;124m'\u001b[39m))\n",
      "Cell \u001b[1;32mIn[16], line 7\u001b[0m, in \u001b[0;36mcheck_numeric.<locals>.wrapper\u001b[1;34m(*args, **kwargs)\u001b[0m\n\u001b[0;32m      5\u001b[0m \u001b[38;5;28;01mfor\u001b[39;00m arg \u001b[38;5;129;01min\u001b[39;00m args:\n\u001b[0;32m      6\u001b[0m     \u001b[38;5;28;01mif\u001b[39;00m \u001b[38;5;129;01mnot\u001b[39;00m \u001b[38;5;28misinstance\u001b[39m(arg, (\u001b[38;5;28mint\u001b[39m, \u001b[38;5;28mfloat\u001b[39m)):\n\u001b[1;32m----> 7\u001b[0m         \u001b[38;5;28;01mraise\u001b[39;00m \u001b[38;5;167;01mValueError\u001b[39;00m(\u001b[38;5;124mf\u001b[39m\u001b[38;5;124m\"\u001b[39m\u001b[38;5;124mАргумент \u001b[39m\u001b[38;5;132;01m{\u001b[39;00marg\u001b[38;5;132;01m}\u001b[39;00m\u001b[38;5;124m не является числом\u001b[39m\u001b[38;5;124m\"\u001b[39m)\n\u001b[0;32m      9\u001b[0m \u001b[38;5;66;03m# Проверка именованных аргументов (kwargs)\u001b[39;00m\n\u001b[0;32m     10\u001b[0m \u001b[38;5;28;01mfor\u001b[39;00m key, value \u001b[38;5;129;01min\u001b[39;00m kwargs\u001b[38;5;241m.\u001b[39mitems():\n",
      "\u001b[1;31mValueError\u001b[0m: Аргумент 3 не является числом"
     ]
    }
   ],
   "source": [
    "# Декоратор для проверки, что аргументы функции являются числами\n",
    "def check_numeric(func):\n",
    "    def wrapper(*args, **kwargs):\n",
    "        # Проверка позиционных аргументов (args)\n",
    "        for arg in args:\n",
    "            if not isinstance(arg, (int, float)):\n",
    "                raise ValueError(f\"Аргумент {arg} не является числом\")\n",
    "\n",
    "        # Проверка именованных аргументов (kwargs)\n",
    "        for key, value in kwargs.items():\n",
    "            if not isinstance(value, (int, float)):\n",
    "                raise ValueError(f\"Аргумент {key}={value} не является числом\")\n",
    "\n",
    "        # Если все аргументы прошли проверку, вызываем исходную функцию\n",
    "        return func(*args, **kwargs)\n",
    "    return wrapper\n",
    "\n",
    "@check_numeric\n",
    "def multiply(a, b):\n",
    "    return a * b\n",
    "\n",
    "print(multiply(2, 3))  # Работает\n",
    "print(multiply(2, '3'))  # Вызовет исключение"
   ]
  },
  {
   "cell_type": "code",
   "execution_count": null,
   "metadata": {},
   "outputs": [],
   "source": [
    "# Декоратор для ограничения количества вызовов функции\n",
    "def limit_calls(max_calls):\n",
    "    def decorator(func):\n",
    "        def wrapper(*args, **kwargs):\n",
    "            if wrapper.calls >= max_calls:\n",
    "                raise Exception(f\"Превышено максимальное количество вызовов функции {func.__name__}\")\n",
    "            wrapper.calls += 1\n",
    "            return func(*args, **kwargs)\n",
    "        wrapper.calls = 0\n",
    "        return wrapper\n",
    "    return decorator\n",
    "\n",
    "@limit_calls(2)\n",
    "def say_hello(name):\n",
    "    print(\"Hello\", name)\n",
    "\n",
    "say_hello(\"Vasay1\")\n",
    "say_hello(\"Vasay2\")\n",
    "say_hello(\"Vasay3\")"
   ]
  },
  {
   "cell_type": "code",
   "execution_count": null,
   "metadata": {},
   "outputs": [],
   "source": [
    "@log_to_file('log.txt')\n",
    "@check_numeric\n",
    "@limit_calls(3)\n",
    "def add(a, b):\n",
    "    return a + b\n",
    "\n",
    "add(2, 3)\n",
    "add(4, 5)\n",
    "add(6, 7)\n",
    "add(8, 9)  # Вызовет исключение из-за ограничения на количество вызовов"
   ]
  },
  {
   "cell_type": "markdown",
   "metadata": {
    "jp-MarkdownHeadingCollapsed": true
   },
   "source": [
    "### 1.1.2. Генераторы и итераторы"
   ]
  },
  {
   "cell_type": "markdown",
   "metadata": {},
   "source": [
    "Генераторы и итераторы — это мощные инструменты Python для работы с последовательностями данных. Они позволяют эффективно работать с большими объемами данных, не загружая их полностью в память."
   ]
  },
  {
   "cell_type": "markdown",
   "metadata": {},
   "source": [
    "Итератор - это объект, который реализует протокол итерации.  \n",
    "- \\_\\_iter__() - возвращает сам объект итератора.\n",
    "- \\_\\_next__() - возвращает следующий элемент последовательности. Если элементы закончились, вызывается исключение StopIteration."
   ]
  },
  {
   "cell_type": "code",
   "execution_count": null,
   "metadata": {},
   "outputs": [],
   "source": [
    "# простой итератор, который возвращает числа от 0 до заданного предела\n",
    "class MyIterator:\n",
    "    def __init__(self, limit):\n",
    "        self.limit = limit\n",
    "        self.current = 0\n",
    "\n",
    "    def __iter__(self):\n",
    "        return self\n",
    "\n",
    "    def __next__(self):\n",
    "        if self.current < self.limit:\n",
    "            self.current += 1\n",
    "            return self.current - 1\n",
    "        else:\n",
    "            raise StopIteration\n",
    "\n",
    "my_iter = MyIterator(3)\n",
    "for num in my_iter:\n",
    "    print(num)"
   ]
  },
  {
   "cell_type": "markdown",
   "metadata": {},
   "source": [
    "Генератор — это функция, которая возвращает итератор. Вместо return используется ключевое слово yield, которое приостанавливает выполнение функции и возвращает значение. При следующем вызове функция продолжает выполнение с того места, где она была приостановлена."
   ]
  },
  {
   "cell_type": "code",
   "execution_count": 18,
   "metadata": {},
   "outputs": [
    {
     "name": "stdout",
     "output_type": "stream",
     "text": [
      "0\n",
      "1\n",
      "2\n"
     ]
    }
   ],
   "source": [
    "# генератор, который возвращает числа от 0 до заданного предела\n",
    "def my_generator(limit):\n",
    "    current = 0\n",
    "    while current < limit:\n",
    "        yield current\n",
    "        current += 1\n",
    "\n",
    "gen = my_generator(3)\n",
    "for num in gen:\n",
    "    print(num)"
   ]
  },
  {
   "cell_type": "raw",
   "metadata": {},
   "source": [
    "# чтение большого файла\n",
    "def read_large_file(file_path):\n",
    "    with open(file_path, 'r', encoding='utf-8') as file:\n",
    "        for line in file:\n",
    "            yield line.strip()\n",
    "\n",
    "# Использование генератора\n",
    "for line in read_large_file('ttt.txt'):\n",
    "    print(line)"
   ]
  },
  {
   "cell_type": "code",
   "execution_count": 20,
   "metadata": {
    "scrolled": true
   },
   "outputs": [
    {
     "name": "stdout",
     "output_type": "stream",
     "text": [
      "0 1 4 9 16 "
     ]
    }
   ],
   "source": [
    "# генератор, который возвращает квадраты чисел.\n",
    "squares = (x * x for x in range(5))\n",
    "\n",
    "for square in squares:\n",
    "    print(square, end=\" \")"
   ]
  },
  {
   "cell_type": "markdown",
   "metadata": {},
   "source": [
    "#### Практика"
   ]
  },
  {
   "cell_type": "code",
   "execution_count": 23,
   "metadata": {},
   "outputs": [
    {
     "name": "stdout",
     "output_type": "stream",
     "text": [
      "0 1 1 2 3 5 8 13 21 34 55 89 144 "
     ]
    }
   ],
   "source": [
    "# генератор, который возвращает числа Фибоначчи до заданного предела\n",
    "def fibonacci_generator(limit):\n",
    "    a, b = 0, 1\n",
    "    while a < limit:\n",
    "        yield a\n",
    "        a, b = b, a + b\n",
    "\n",
    "for num in fibonacci_generator(200):\n",
    "    print(num, end=\" \")"
   ]
  },
  {
   "cell_type": "code",
   "execution_count": 25,
   "metadata": {},
   "outputs": [
    {
     "name": "stdout",
     "output_type": "stream",
     "text": [
      "5\n",
      "4\n",
      "3\n",
      "2\n",
      "1\n"
     ]
    }
   ],
   "source": [
    "# итератор, который возвращает элементы списка в обратном порядке\n",
    "class ReverseIterator:\n",
    "    def __init__(self, data):\n",
    "        self.data = data\n",
    "        self.index = len(data)\n",
    "\n",
    "    def __iter__(self):\n",
    "        return self\n",
    "\n",
    "    def __next__(self):\n",
    "        if self.index > 0:\n",
    "            self.index -= 1\n",
    "            return self.data[self.index]\n",
    "        else:\n",
    "            raise StopIteration\n",
    "\n",
    "# Использование итератора\n",
    "my_list = [1, 2, 3, 4, 5]\n",
    "rev_iter = ReverseIterator(my_list)\n",
    "for item in rev_iter:\n",
    "    print(item)"
   ]
  },
  {
   "cell_type": "code",
   "execution_count": 27,
   "metadata": {},
   "outputs": [
    {
     "name": "stdout",
     "output_type": "stream",
     "text": [
      "10\n",
      "11\n",
      "12\n",
      "13\n",
      "14\n"
     ]
    }
   ],
   "source": [
    "# генератор, который возвращает бесконечную последовательность чисел, начиная с заданного числа\n",
    "def infinite_sequence(start):\n",
    "    current = start\n",
    "    while True:\n",
    "        yield current\n",
    "        current += 1\n",
    "\n",
    "# Использование генератора (осторожно: бесконечный цикл!)\n",
    "gen = infinite_sequence(10)\n",
    "for _ in range(5):\n",
    "    print(next(gen))"
   ]
  },
  {
   "cell_type": "code",
   "execution_count": 29,
   "metadata": {},
   "outputs": [
    {
     "name": "stdout",
     "output_type": "stream",
     "text": [
      "2\n",
      "3\n",
      "5\n",
      "7\n"
     ]
    }
   ],
   "source": [
    "# генератор простых чисел до заданного предела\n",
    "def primes(limit):\n",
    "    if limit < 0:\n",
    "        # Если предел отрицательный, функция завершает работу, так как простые числа определены только для натуральных чисел.\n",
    "        return\n",
    "    # Создается список sieve, где каждый элемент изначально равен True.\n",
    "    # Элементы с индексами 0 и 1 устанавливаются в False, так как 0 и 1 не являются простыми числами.\n",
    "    sieve = [True] * (limit + 1)\n",
    "    sieve[0] = sieve[1] = False\n",
    "    for num, is_prime in enumerate(sieve):\n",
    "        if is_prime:\n",
    "            yield num\n",
    "            for multiple in range(num * num, limit + 1, num):\n",
    "                sieve[multiple] = False\n",
    "\n",
    "# Пример использования:\n",
    "for prime in primes(10):\n",
    "    print(prime)"
   ]
  },
  {
   "cell_type": "code",
   "execution_count": 31,
   "metadata": {},
   "outputs": [
    {
     "name": "stdout",
     "output_type": "stream",
     "text": [
      "1 2 3 4 5 6 7 "
     ]
    }
   ],
   "source": [
    "# Итератор для плоского представления вложенного списка\n",
    "def flatten_list(nested_list):\n",
    "    for element in nested_list:\n",
    "        if isinstance(element, list):\n",
    "            yield from flatten_list(element)\n",
    "        else:\n",
    "            yield element\n",
    "\n",
    "# Пример использования:\n",
    "nested_list = [[1, 2], [3, 4], [5, [6, 7]]]\n",
    "for item in flatten_list(nested_list):\n",
    "    print(item, end=\" \")"
   ]
  },
  {
   "cell_type": "raw",
   "metadata": {},
   "source": [
    "# Генератор, который читает файл построчно и возвращает только строки, содержащие определенное слов\n",
    "def grep_word(filename, word):\n",
    "    with open(filename, 'r', encoding='utf-8') as file:\n",
    "        for line in file:\n",
    "            if word in line:\n",
    "                yield line.strip()\n",
    "\n",
    "# Пример использования:\n",
    "filename = 'ttt.txt'\n",
    "word = 'CI/CD'\n",
    "for line in grep_word(filename, word):\n",
    "    print(line)"
   ]
  },
  {
   "cell_type": "markdown",
   "metadata": {
    "jp-MarkdownHeadingCollapsed": true
   },
   "source": [
    "### 1.1.3. Контекстные менеджеры (with)"
   ]
  },
  {
   "cell_type": "markdown",
   "metadata": {},
   "source": [
    "Контекстные менеджеры в Python - это удобный способ управления ресурсами, такие как файлы, сетевые соединения или блокировки. Они гарантируют что ресурсы будут корректно освобождены, даже если в процессе работы возникает исключение."
   ]
  },
  {
   "cell_type": "markdown",
   "metadata": {},
   "source": [
    "Контекстный менеджер - это объект, который определяет методы \\_\\_enter__() и \\_\\_exit__(). Эти методы вызываются при входе в блок with и при выходе из него."
   ]
  },
  {
   "cell_type": "code",
   "execution_count": 38,
   "metadata": {},
   "outputs": [
    {
     "name": "stdout",
     "output_type": "stream",
     "text": [
      "Вход в контекст\n",
      "Внутри контекста\n",
      "Выход из контекста\n",
      "Произошло исключение: Ошибка!\n"
     ]
    }
   ],
   "source": [
    "# создания контекстного менеджера\n",
    "class MyContextManager:\n",
    "    def __enter__(self):\n",
    "        print(\"Вход в контекст\")\n",
    "        return self\n",
    "\n",
    "    def __exit__(self, exc_type, exc_value, traceback):\n",
    "        print(\"Выход из контекста\")\n",
    "        if exc_type is not None:\n",
    "            print(f\"Произошло исключение: {exc_value}\")\n",
    "        return True  # Подавляем исключение\n",
    "\n",
    "# Использование контекстного менеджера\n",
    "with MyContextManager() as manager:\n",
    "    print(\"Внутри контекста\")\n",
    "    raise ValueError(\"Ошибка!\")"
   ]
  },
  {
   "cell_type": "code",
   "execution_count": 40,
   "metadata": {},
   "outputs": [
    {
     "name": "stdout",
     "output_type": "stream",
     "text": [
      "Вход в контекст\n",
      "Внутри контекста\n",
      "Произошло исключение: Ошибка!\n",
      "Выход из контекста\n"
     ]
    }
   ],
   "source": [
    "# contextlib предоставляет декоратор @contextmanager, который упрощает создание контекстных менеджеров.\n",
    "from contextlib import contextmanager\n",
    "\n",
    "@contextmanager\n",
    "def my_context_manager():\n",
    "    print(\"Вход в контекст\")\n",
    "    try:\n",
    "        yield\n",
    "    except Exception as e:\n",
    "        print(f\"Произошло исключение: {e}\")\n",
    "    finally:\n",
    "        print(\"Выход из контекста\")\n",
    "\n",
    "# Использование контекстного менеджера\n",
    "with my_context_manager():\n",
    "    print(\"Внутри контекста\")\n",
    "    raise ValueError(\"Ошибка!\")"
   ]
  },
  {
   "cell_type": "markdown",
   "metadata": {},
   "source": [
    "#### Практика"
   ]
  },
  {
   "cell_type": "code",
   "execution_count": 43,
   "metadata": {},
   "outputs": [
    {
     "name": "stdout",
     "output_type": "stream",
     "text": [
      "Время выполнения: 2.0005 секунд\n"
     ]
    }
   ],
   "source": [
    "# Управление временем выполнения\n",
    "import time\n",
    "\n",
    "import time\n",
    "\n",
    "class Timer:\n",
    "    def __enter__(self):\n",
    "        self.start_time = time.time()\n",
    "        return self\n",
    "\n",
    "    def __exit__(self, exc_type, exc_value, traceback):\n",
    "        self.end_time = time.time()\n",
    "        print(f\"Время выполнения: {self.end_time - self.start_time:.4f} секунд\")\n",
    "\n",
    "# Использование контекстного менеджера\n",
    "with Timer():\n",
    "    time.sleep(2)"
   ]
  },
  {
   "cell_type": "code",
   "execution_count": 44,
   "metadata": {
    "scrolled": true
   },
   "outputs": [
    {
     "name": "stdout",
     "output_type": "stream",
     "text": [
      "HTTP/1.1 200 OK\n",
      "Content-Type: text/html\n",
      "ETag: \"84238dfc8092e5d9c0dac8ef93371a07:1736799080.121134\"\n",
      "Last-Modified: Mon, 13 Jan 2025 20:11:20 GMT\n",
      "Cache-Control: max-age=564\n",
      "Date: Thu, 16 Jan 2025 18:56:35 GMT\n",
      "Content-Length: 1256\n",
      "Connection: keep-alive\n",
      "\n",
      "<!doctype html>\n",
      "<html>\n",
      "<head>\n",
      "    <title>Example Domain</title>\n",
      "\n",
      "    <meta charset=\"utf-8\" />\n",
      "    <meta http-equiv=\"Content-type\" content=\"text/html; charset=utf-8\" />\n",
      "    <meta name=\"viewport\" content=\"width=device-width, initial-scale=1\" />\n",
      "    <style type=\"text/css\">\n",
      "    body {\n",
      "        background-color: #f0f0f2;\n",
      "        margin: 0;\n",
      "        padding: 0;\n",
      "        font-family: -apple-system, system-ui, BlinkMacSystemFont, \"Segoe UI\", \"Open Sans\", \"Helvetica Neue\", Helvetica, Arial, sans-serif;\n",
      "        \n",
      "    }\n",
      "    div {\n",
      "        width: 600px;\n",
      "        margin: 5em auto;\n",
      "        padding: 2em;\n",
      "        background-color: #fdfdff;\n",
      "        border-radius: 0.5em;\n",
      "        box-shadow: 2px 3px 7px 2px rgba(0,0,0,0.02);\n",
      "    }\n",
      "    a:link, a:visited {\n",
      "        color: #38488f;\n",
      "        text-decoration: none;\n",
      "    }\n",
      "    @media (max-width: 700px) {\n",
      "        div {\n",
      "            margin: 0 auto;\n",
      "            width: auto;\n",
      "        }\n",
      "    }\n",
      "    </style>    \n",
      "</head>\n",
      "\n",
      "<body>\n",
      "<div>\n",
      "    <h1>Example Domain</h1>\n",
      "    <p>This domain is for use in illustrative examples in documents. You may use this\n",
      "    domain in literature without prior coordination or asking for permission.</p>\n",
      "    <p><a href=\"https://www.iana.org/domains/example\">More information...</a></p>\n",
      "</div>\n",
      "</body>\n",
      "</html>\n",
      "\n"
     ]
    }
   ],
   "source": [
    "# Контекстный менеджер может управлять сетевыми соединениями, гарантируя их закрытие.\n",
    "import socket\n",
    "\n",
    "class SocketConnection:\n",
    "    def __init__(self, host, port):\n",
    "        self.host = host\n",
    "        self.port = port\n",
    "\n",
    "    def __enter__(self):\n",
    "        self.sock = socket.socket(socket.AF_INET, socket.SOCK_STREAM)\n",
    "        self.sock.connect((self.host, self.port))\n",
    "        return self.sock\n",
    "\n",
    "    def __exit__(self, exc_type, exc_value, traceback):\n",
    "        self.sock.close()\n",
    "\n",
    "# Использование контекстного менеджера\n",
    "with SocketConnection('example.com', 80) as sock:\n",
    "    sock.sendall(b'GET / HTTP/1.1\\r\\nHost: example.com\\r\\n\\r\\n')\n",
    "    response = sock.recv(4096)\n",
    "    print(response.decode())"
   ]
  },
  {
   "cell_type": "code",
   "execution_count": 45,
   "metadata": {},
   "outputs": [
    {
     "name": "stdout",
     "output_type": "stream",
     "text": [
      "Текущая директория: C:\\Users\\Anatolii\\Python\n",
      "Директория восстановлена: C:\\Users\\Anatolii\\Python\\1_Python_и_ООП\n"
     ]
    }
   ],
   "source": [
    "# Контекстный менеджер для временного изменения директории\n",
    "import os\n",
    "from contextlib import contextmanager\n",
    "\n",
    "@contextmanager\n",
    "def change_dir(path):\n",
    "    original_dir = os.getcwd()\n",
    "    try:\n",
    "        os.chdir(path)\n",
    "        yield\n",
    "    finally:\n",
    "        os.chdir(original_dir)\n",
    "\n",
    "# Использование контекстного менеджера\n",
    "with change_dir('C:\\\\Users\\\\Anatolii\\\\Python'):\n",
    "    print(f\"Текущая директория: {os.getcwd()}\")\n",
    "print(f\"Директория восстановлена: {os.getcwd()}\")"
   ]
  },
  {
   "cell_type": "code",
   "execution_count": 46,
   "metadata": {},
   "outputs": [],
   "source": [
    "# Контекстный менеджер для работы с базой данных\n",
    "import sqlite3\n",
    "\n",
    "class DatabaseConnection:\n",
    "    def __init__(self, db_name):\n",
    "        self.db_name = db_name\n",
    "\n",
    "    def __enter__(self):\n",
    "        self.conn = sqlite3.connect(self.db_name)\n",
    "        return self.conn\n",
    "\n",
    "    def __exit__(self, exc_type, exc_value, traceback):\n",
    "        self.conn.close()\n",
    "\n",
    "# Использование контекстного менеджера\n",
    "with DatabaseConnection('example.db') as conn:\n",
    "    cursor = conn.cursor()\n",
    "    cursor.execute('CREATE TABLE IF NOT EXISTS test (id INTEGER PRIMARY KEY, name TEXT)')\n",
    "    conn.commit()"
   ]
  },
  {
   "cell_type": "code",
   "execution_count": 52,
   "metadata": {},
   "outputs": [
    {
     "name": "stdout",
     "output_type": "stream",
     "text": [
      "Текущая директория: C:\\Users\n",
      "Директория восстановлена: C:\\Users\\Anatolii\\Python\\1_Python_и_ООП\n"
     ]
    }
   ],
   "source": [
    "# контекстный менеджер, который временно изменяет текущую рабочую директорию, а затем возвращает её обратно\n",
    "import os\n",
    "from contextlib import contextmanager\n",
    "\n",
    "@contextmanager\n",
    "def change_dir(path):\n",
    "    original_dir = os.getcwd()\n",
    "    try:\n",
    "        os.chdir(path)\n",
    "        yield\n",
    "    finally:\n",
    "        os.chdir(original_dir)\n",
    "\n",
    "# Использование контекстного менеджера\n",
    "with change_dir('C:\\\\Users'):\n",
    "    print(f\"Текущая директория: {os.getcwd()}\")\n",
    "print(f\"Директория восстановлена: {os.getcwd()}\")"
   ]
  },
  {
   "cell_type": "code",
   "execution_count": 54,
   "metadata": {},
   "outputs": [
    {
     "name": "stdout",
     "output_type": "stream",
     "text": [
      "Начало выполнения блока\n",
      "Внутри блока\n",
      "Конец выполнения блока\n"
     ]
    }
   ],
   "source": [
    "# контекстный менеджер, который логирует начало и конец выполнения блока кода\n",
    "class Logger:\n",
    "    def __enter__(self):\n",
    "        print(\"Начало выполнения блока\")\n",
    "        return self\n",
    "\n",
    "    def __exit__(self, exc_type, exc_value, traceback):\n",
    "        print(\"Конец выполнения блока\")\n",
    "\n",
    "# Использование контекстного менеджера\n",
    "with Logger():\n",
    "    print(\"Внутри блока\")"
   ]
  },
  {
   "cell_type": "code",
   "execution_count": 56,
   "metadata": {},
   "outputs": [],
   "source": [
    "# контекстный менеджер, который управляет соединением с базой данных (например, SQLite).\n",
    "import sqlite3\n",
    "\n",
    "class DatabaseConnection:\n",
    "    def __init__(self, db_name):\n",
    "        self.db_name = db_name\n",
    "\n",
    "    def __enter__(self):\n",
    "        self.conn = sqlite3.connect(self.db_name)\n",
    "        return self.conn\n",
    "\n",
    "    def __exit__(self, exc_type, exc_value, traceback):\n",
    "        self.conn.close()\n",
    "\n",
    "# Использование контекстного менеджера\n",
    "with DatabaseConnection('example.db') as conn:\n",
    "    cursor = conn.cursor()\n",
    "    cursor.execute('CREATE TABLE IF NOT EXISTS test (id INTEGER PRIMARY KEY, name TEXT)')\n",
    "    conn.commit()"
   ]
  },
  {
   "cell_type": "markdown",
   "metadata": {
    "jp-MarkdownHeadingCollapsed": true
   },
   "source": [
    "### 1.1.4. Работа с исключениями и кастомные исключения"
   ]
  },
  {
   "cell_type": "markdown",
   "metadata": {},
   "source": [
    "Исключения в Python - это механизм обработки ошибок, который позволяет программе корректно реагировать на неожиданные ситуации.  \n",
    "Исключение - это событие которое возникает во время выполнения программы и нарушает нормальный поток выполнения."
   ]
  },
  {
   "cell_type": "markdown",
   "metadata": {},
   "source": [
    "Для обработки исключений используются блоки:\n",
    "\n",
    "- try — код, который может вызвать исключение.  \n",
    "- except — блок, который выполняется, если исключение произошло.  \n",
    "- finally — блок, который выполняется всегда, независимо от того, было исключение или нет.  "
   ]
  },
  {
   "cell_type": "markdown",
   "metadata": {},
   "source": [
    "Встроенные исключения:\n",
    "- ZeroDivisionError — деление на ноль.\n",
    "- FileNotFoundError — файл не найден.\n",
    "- TypeError — операция применена к объекту несоответствующего типа.\n",
    "- ValueError — функция получает аргумент правильного типа, но некорректного значения."
   ]
  },
  {
   "cell_type": "code",
   "execution_count": 13,
   "metadata": {},
   "outputs": [
    {
     "name": "stdout",
     "output_type": "stream",
     "text": [
      "Введите число:  d\n"
     ]
    },
    {
     "name": "stdout",
     "output_type": "stream",
     "text": [
      "Ошибка: введено не число\n"
     ]
    }
   ],
   "source": [
    "# Пример обработки нескольких исключений\n",
    "try:\n",
    "    num = int(input(\"Введите число: \"))\n",
    "    result = 10 / num\n",
    "    print(f\"Результат: {result}\")\n",
    "except ValueError:\n",
    "    print(\"Ошибка: введено не число\")\n",
    "except ZeroDivisionError:\n",
    "    print(\"Ошибка: деление на ноль\")"
   ]
  },
  {
   "cell_type": "markdown",
   "metadata": {},
   "source": [
    "Кастомные исключения позволяют создавать более понятные и специфичные ошибки для вашего приложения. Кастомные исключения создаются путем наследования от встроенного класса Exception или его подклассов."
   ]
  },
  {
   "cell_type": "markdown",
   "metadata": {},
   "source": [
    "Создание кастомных исключений. Кастомные исключения создаются путем наследования от встреонного класса EXception или его подклассов."
   ]
  },
  {
   "cell_type": "code",
   "execution_count": 6,
   "metadata": {},
   "outputs": [
    {
     "name": "stdout",
     "output_type": "stream",
     "text": [
      "Ошибка: Значение не может быть отрицательным\n"
     ]
    }
   ],
   "source": [
    "class MyCustomError(Exception):\n",
    "    \"\"\"Мое кастомное исключение.\"\"\"\n",
    "    def __init__(self, message):\n",
    "        super().__init__(message)\n",
    "        self.message = message\n",
    "\n",
    "def check_value(value):\n",
    "    if value < 0:\n",
    "        raise MyCustomError(\"Значение не может быть отрицательным\")\n",
    "\n",
    "try:\n",
    "    check_value(-10)\n",
    "except MyCustomError as e:\n",
    "    print(f\"Ошибка: {e.message}\")"
   ]
  },
  {
   "cell_type": "code",
   "execution_count": 8,
   "metadata": {},
   "outputs": [
    {
     "name": "stdout",
     "output_type": "stream",
     "text": [
      "Ошибка валидации: Значение не может быть больше 100\n"
     ]
    }
   ],
   "source": [
    "# Кастомные исключения могут быть частью иерархии, что позволяет группировать связанные ошибки.\n",
    "class ValidationError(Exception):\n",
    "    \"\"\"Базовое исключение для ошибок валидации.\"\"\"\n",
    "    pass\n",
    "\n",
    "class NegativeValueError(ValidationError):\n",
    "    \"\"\"Ошибка, если значение отрицательное.\"\"\"\n",
    "    pass\n",
    "\n",
    "class TooLargeValueError(ValidationError):\n",
    "    \"\"\"Ошибка, если значение слишком большое.\"\"\"\n",
    "    pass\n",
    "\n",
    "def validate_value(value):\n",
    "    if value < 0:\n",
    "        raise NegativeValueError(\"Значение не может быть отрицательным\")\n",
    "    if value > 100:\n",
    "        raise TooLargeValueError(\"Значение не может быть больше 100\")\n",
    "\n",
    "try:\n",
    "    validate_value(150)\n",
    "except ValidationError as e:\n",
    "    print(f\"Ошибка валидации: {e}\")    "
   ]
  },
  {
   "cell_type": "code",
   "execution_count": 12,
   "metadata": {},
   "outputs": [
    {
     "name": "stdout",
     "output_type": "stream",
     "text": [
      "Ошибка при запросе: HTTPSConnectionPool(host='api.example.com', port=443): Max retries exceeded with url: /data (Caused by NameResolutionError(\"<urllib3.connection.HTTPSConnection object at 0x00000183C9799CD0>: Failed to resolve 'api.example.com' ([Errno 11001] getaddrinfo failed)\"))\n"
     ]
    }
   ],
   "source": [
    "# Исключения часто используются для обработки ошибок ввода-вывода, сетевых запросов, работы с базами данных и т.д.\n",
    "import requests\n",
    "\n",
    "def fetch_data(url):\n",
    "    try:\n",
    "        response = requests.get(url)\n",
    "        response.raise_for_status()  # Проверка на ошибки HTTP\n",
    "        return response.json()\n",
    "    except requests.exceptions.RequestException as e:\n",
    "        print(f\"Ошибка при запросе: {e}\")\n",
    "        return None\n",
    "\n",
    "data = fetch_data(\"https://api.example.com/data\")\n",
    "if data:\n",
    "    print(data)"
   ]
  },
  {
   "cell_type": "markdown",
   "metadata": {},
   "source": [
    "Блок finally полезен для освобождения ресурсов (например, закрытия файлов или соединений с базой данных), даже если произошло исключение."
   ]
  },
  {
   "cell_type": "code",
   "execution_count": 21,
   "metadata": {},
   "outputs": [
    {
     "name": "stdout",
     "output_type": "stream",
     "text": [
      "Файл не найден\n"
     ]
    },
    {
     "ename": "NameError",
     "evalue": "name 'file' is not defined",
     "output_type": "error",
     "traceback": [
      "\u001b[1;31m---------------------------------------------------------------------------\u001b[0m",
      "\u001b[1;31mNameError\u001b[0m                                 Traceback (most recent call last)",
      "Cell \u001b[1;32mIn[21], line 8\u001b[0m\n\u001b[0;32m      6\u001b[0m     \u001b[38;5;28mprint\u001b[39m(\u001b[38;5;124m\"\u001b[39m\u001b[38;5;124mФайл не найден\u001b[39m\u001b[38;5;124m\"\u001b[39m)\n\u001b[0;32m      7\u001b[0m \u001b[38;5;28;01mfinally\u001b[39;00m:\n\u001b[1;32m----> 8\u001b[0m     file\u001b[38;5;241m.\u001b[39mclose()\n",
      "\u001b[1;31mNameError\u001b[0m: name 'file' is not defined"
     ]
    }
   ],
   "source": [
    "try:\n",
    "    file = open(\"example.txt\", \"r\")\n",
    "    content = file.read()\n",
    "    print(content)\n",
    "except FileNotFoundError:\n",
    "    print(\"Файл не найден\")\n",
    "finally:\n",
    "    file.close()"
   ]
  },
  {
   "cell_type": "code",
   "execution_count": 26,
   "metadata": {},
   "outputs": [
    {
     "name": "stdout",
     "output_type": "stream",
     "text": [
      "Ошибка: Email должен содержать символ @\n"
     ]
    }
   ],
   "source": [
    "# Кастомное исключение для валидации email\n",
    "class InvalidEmailError(Exception):\n",
    "    \"\"\"Ошибка, если email невалиден.\"\"\"\n",
    "    pass\n",
    "\n",
    "def validate_email(email):\n",
    "    if '@' not in email:\n",
    "        raise InvalidEmailError(\"Email должен содержать символ @\")\n",
    "\n",
    "try:\n",
    "    validate_email(\"user.example.com\")\n",
    "except InvalidEmailError as e:\n",
    "    print(f\"Ошибка: {e}\")"
   ]
  },
  {
   "cell_type": "code",
   "execution_count": 28,
   "metadata": {},
   "outputs": [
    {
     "name": "stdout",
     "output_type": "stream",
     "text": [
      "Ошибка: файл не найден\n"
     ]
    }
   ],
   "source": [
    "# Обработка исключений при работе с файлами\n",
    "def read_file(file_path):\n",
    "    try:\n",
    "        with open(file_path, 'r') as file:\n",
    "            return file.read()\n",
    "    except FileNotFoundError:\n",
    "        return \"Ошибка: файл не найден\"\n",
    "    except PermissionError:\n",
    "        return \"Ошибка: нет доступа к файлу\"\n",
    "\n",
    "print(read_file(\"nonexistent.txt\"))"
   ]
  },
  {
   "cell_type": "code",
   "execution_count": 30,
   "metadata": {},
   "outputs": [
    {
     "name": "stdout",
     "output_type": "stream",
     "text": [
      "Ошибка калькулятора: Результат отрицательный\n"
     ]
    }
   ],
   "source": [
    "# Иерархия исключений для калькулятор\n",
    "class CalculatorError(Exception):\n",
    "    \"\"\"Базовое исключение для калькулятора.\"\"\"\n",
    "    pass\n",
    "    \n",
    "class DivisionByZeroError(CalculatorError):\n",
    "    \"\"\"Ошибка деления на ноль.\"\"\"\n",
    "    pass\n",
    "\n",
    "class NegativeResultError(CalculatorError):\n",
    "    \"\"\"Ошибка, если результат отрицательный.\"\"\"\n",
    "    pass\n",
    "\n",
    "def divide(a, b):\n",
    "    if b == 0:\n",
    "        raise DivisionByZeroError(\"Деление на ноль невозможно\")\n",
    "    result = a / b\n",
    "    if result < 0:\n",
    "        raise NegativeResultError(\"Результат отрицательный\")\n",
    "    return result\n",
    "\n",
    "try:\n",
    "    print(divide(10, -2))\n",
    "except CalculatorError as e:\n",
    "    print(f\"Ошибка калькулятора: {e}\")"
   ]
  },
  {
   "cell_type": "code",
   "execution_count": 32,
   "metadata": {},
   "outputs": [
    {
     "name": "stdout",
     "output_type": "stream",
     "text": [
      "Пароль должен содержать не менее 8 символов\n"
     ]
    }
   ],
   "source": [
    "# Кастомное исключение InvalidPasswordError и функция для проверки пароля\n",
    "class InvalidPasswordError(Exception):\n",
    "    \"\"\"Исключение, которое выбрасывается, если пароль не соответствует требованиям.\"\"\"\n",
    "    pass\n",
    "\n",
    "def validate_password(password):\n",
    "    \"\"\"Проверяет, что пароль содержит не менее 8 символов.\"\"\"\n",
    "    if len(password) < 8:\n",
    "        raise InvalidPasswordError(\"Пароль должен содержать не менее 8 символов\")\n",
    "    return True\n",
    "\n",
    "# Пример использования\n",
    "try:\n",
    "    validate_password(\"1234567\")\n",
    "except InvalidPasswordError as e:\n",
    "    print(e)  # Выведет: Пароль должен содержать не менее 8 символов"
   ]
  },
  {
   "cell_type": "code",
   "execution_count": 34,
   "metadata": {},
   "outputs": [
    {
     "name": "stdout",
     "output_type": "stream",
     "text": [
      "Ошибка: Файл example.json не найден.\n"
     ]
    }
   ],
   "source": [
    "# Функция для чтения JSON-файла с обработкой исключений\n",
    "import json\n",
    "\n",
    "def read_json_file(file_path):\n",
    "    \"\"\"Читает JSON-файл и обрабатывает возможные исключения.\"\"\"\n",
    "    try:\n",
    "        with open(file_path, 'r', encoding='utf-8') as file:\n",
    "            data = json.load(file)\n",
    "            return data\n",
    "    except FileNotFoundError:\n",
    "        print(f\"Ошибка: Файл {file_path} не найден.\")\n",
    "    except json.JSONDecodeError:\n",
    "        print(f\"Ошибка: Файл {file_path} содержит некорректный JSON.\")\n",
    "    except Exception as e:\n",
    "        print(f\"Произошла неизвестная ошибка: {e}\")\n",
    "\n",
    "# Пример использования\n",
    "data = read_json_file(\"example.json\")\n",
    "if data:\n",
    "    print(data)"
   ]
  },
  {
   "cell_type": "code",
   "execution_count": 36,
   "metadata": {},
   "outputs": [
    {
     "name": "stdout",
     "output_type": "stream",
     "text": [
      "Недостаточно средств на счете\n",
      "Сумма для пополнения должна быть положительной\n"
     ]
    }
   ],
   "source": [
    "# Иерархия исключений для работы с банковским счетом\n",
    "class BankAccountError(Exception):\n",
    "    \"\"\"Базовое исключение для всех ошибок, связанных с банковским счетом.\"\"\"\n",
    "    pass\n",
    "\n",
    "class InsufficientFundsError(BankAccountError):\n",
    "    \"\"\"Исключение, которое выбрасывается, если на счете недостаточно средств.\"\"\"\n",
    "    pass\n",
    "\n",
    "class InvalidTransactionError(BankAccountError):\n",
    "    \"\"\"Исключение, которое выбрасывается, если транзакция некорректна.\"\"\"\n",
    "    pass\n",
    "\n",
    "class BankAccount:\n",
    "    def __init__(self, balance):\n",
    "        self.balance = balance\n",
    "\n",
    "    def withdraw(self, amount):\n",
    "        if amount > self.balance:\n",
    "            raise InsufficientFundsError(\"Недостаточно средств на счете\")\n",
    "        if amount <= 0:\n",
    "            raise InvalidTransactionError(\"Сумма для снятия должна быть положительной\")\n",
    "        self.balance -= amount\n",
    "        return self.balance\n",
    "\n",
    "    def deposit(self, amount):\n",
    "        if amount <= 0:\n",
    "            raise InvalidTransactionError(\"Сумма для пополнения должна быть положительной\")\n",
    "        self.balance += amount\n",
    "        return self.balance\n",
    "\n",
    "# Пример использования\n",
    "account = BankAccount(100)\n",
    "\n",
    "try:\n",
    "    account.withdraw(150)\n",
    "except InsufficientFundsError as e:\n",
    "    print(e)  # Выведет: Недостаточно средств на счете\n",
    "\n",
    "try:\n",
    "    account.deposit(-50)\n",
    "except InvalidTransactionError as e:\n",
    "    print(e)  # Выведет: Сумма для пополнения должна быть положительной"
   ]
  },
  {
   "cell_type": "markdown",
   "metadata": {
    "jp-MarkdownHeadingCollapsed": true
   },
   "source": [
    "### 1.1.5. Модуль collections (defaultdict, Counter, namedtuple)"
   ]
  },
  {
   "cell_type": "markdown",
   "metadata": {},
   "source": [
    "Модуль **collections** в Python предоставляет специализированные типы данных, которые расширяют возможности стандартных структур, таких как списки, словари и кортежи. В этом занятии мы разберем три наиболее полезных класса из этого модуля: **defaultdict**, **Counter** и **namedtuple**."
   ]
  },
  {
   "cell_type": "markdown",
   "metadata": {},
   "source": [
    "**defaultdict** - это подкласс словаря, которы автоматически создает значения для несуществующих ключей"
   ]
  },
  {
   "cell_type": "code",
   "execution_count": 3,
   "metadata": {},
   "outputs": [],
   "source": [
    "from collections import defaultdict"
   ]
  },
  {
   "cell_type": "code",
   "execution_count": 5,
   "metadata": {},
   "outputs": [
    {
     "name": "stdout",
     "output_type": "stream",
     "text": [
      "defaultdict(<class 'int'>, {'apple': 3, 'banana': 2, 'orange': 1})\n",
      "\n",
      "defaultdict(<class 'list'>, {'a': [1, 3], 'b': [2]})\n"
     ]
    }
   ],
   "source": [
    "text = \"apple banana apple orange banana apple\"\n",
    "word_count = defaultdict(int)  # int() возвращает 0 по умолчанию\n",
    "\n",
    "for word in text.split():\n",
    "    word_count[word] += 1\n",
    "\n",
    "print(word_count)\n",
    "print()\n",
    "\n",
    "data = [(\"a\", 1), (\"b\", 2), (\"a\", 3)]\n",
    "grouped_data = defaultdict(list)\n",
    "\n",
    "for key, value in data:\n",
    "    grouped_data[key].append(value)\n",
    "\n",
    "print(grouped_data)"
   ]
  },
  {
   "cell_type": "markdown",
   "metadata": {},
   "source": [
    "**Counter** - это подкласс словаря, предназначенный для подсчета хешируемых объектов."
   ]
  },
  {
   "cell_type": "code",
   "execution_count": 8,
   "metadata": {},
   "outputs": [],
   "source": [
    "from collections import Counter"
   ]
  },
  {
   "cell_type": "code",
   "execution_count": 10,
   "metadata": {},
   "outputs": [
    {
     "name": "stdout",
     "output_type": "stream",
     "text": [
      "Counter({'a': 5, 'b': 2, 'r': 2, 'c': 1, 'd': 1})\n",
      "[('a', 5), ('b', 2)]\n",
      "['a', 'a', 'a', 'a', 'a', 'b', 'b', 'r', 'r', 'c', 'd']\n"
     ]
    }
   ],
   "source": [
    "text = \"abracadabra\"\n",
    "char_count = Counter(text)\n",
    "\n",
    "print(char_count)\n",
    "\n",
    "# most_common(n) — возвращает n самых часто встречающихся элементов.\n",
    "# elements() — возвращает итератор по элементам, повторяющимся столько раз, сколько их количество.\n",
    "\n",
    "print(char_count.most_common(2))\n",
    "print(list(char_count.elements()))"
   ]
  },
  {
   "cell_type": "markdown",
   "metadata": {},
   "source": [
    "**namedtuple** - это подкласс кортежа с именованными полями. Это делает код более читаемым, так как доступ к элементам осуществляется по именам, а не по индексам."
   ]
  },
  {
   "cell_type": "code",
   "execution_count": 13,
   "metadata": {},
   "outputs": [],
   "source": [
    "from collections import namedtuple"
   ]
  },
  {
   "cell_type": "code",
   "execution_count": 17,
   "metadata": {},
   "outputs": [
    {
     "name": "stdout",
     "output_type": "stream",
     "text": [
      "10 20 10 20\n"
     ]
    }
   ],
   "source": [
    "Point = namedtuple('Point', ['x', 'y'])\n",
    "p = Point(10, 20)\n",
    "\n",
    "print(p.x, p.y, p[0], p[1])"
   ]
  },
  {
   "cell_type": "markdown",
   "metadata": {},
   "source": [
    "#### Практика"
   ]
  },
  {
   "cell_type": "code",
   "execution_count": 20,
   "metadata": {},
   "outputs": [
    {
     "name": "stdout",
     "output_type": "stream",
     "text": [
      "[('apple', 3), ('mango', 3), ('banana', 2)]\n"
     ]
    }
   ],
   "source": [
    "# Counter для подсчета частоты слов в тексте. Выведите 3 самых часто встречающихся слова.\n",
    "text = \"apple banana apple orange banana apple mango mango mango\"\n",
    "word_count = Counter(text.split())\n",
    "print(word_count.most_common(3))"
   ]
  },
  {
   "cell_type": "code",
   "execution_count": 24,
   "metadata": {},
   "outputs": [
    {
     "name": "stdout",
     "output_type": "stream",
     "text": [
      "defaultdict(<class 'list'>, {'a': [1, 3], 'b': [2, 5], 'c': [4]})\n"
     ]
    }
   ],
   "source": [
    "# Сгруппировка списка кортежей по первому элементу с использованием defaultdict\n",
    "data = [(\"a\", 1), (\"b\", 2), (\"a\", 3), (\"c\", 4), (\"b\", 5)]\n",
    "grouped_data = defaultdict(list)\n",
    "\n",
    "for key, value in data:\n",
    "    grouped_data[key].append(value)\n",
    "\n",
    "print(grouped_data)"
   ]
  },
  {
   "cell_type": "code",
   "execution_count": 26,
   "metadata": {},
   "outputs": [
    {
     "name": "stdout",
     "output_type": "stream",
     "text": [
      "Book(title='1984', author='George Orwell', year=1949)\n",
      "Harper Lee\n"
     ]
    }
   ],
   "source": [
    "# Создадим namedtuple для представления книги с полями: title, author, year.\n",
    "# Создадим несколько экземпляров и выведите их.\n",
    "Book = namedtuple('Book', ['title', 'author', 'year'])\n",
    "book1 = Book(\"1984\", \"George Orwell\", 1949)\n",
    "book2 = Book(\"To Kill a Mockingbird\", \"Harper Lee\", 1960)\n",
    "\n",
    "print(book1)\n",
    "print(book2.author)"
   ]
  },
  {
   "cell_type": "markdown",
   "metadata": {},
   "source": [
    "### 1.1.6. Написание утилит с использованием декораторов и генераторов"
   ]
  },
  {
   "cell_type": "code",
   "execution_count": 30,
   "metadata": {},
   "outputs": [
    {
     "name": "stdout",
     "output_type": "stream",
     "text": [
      "Вызов функции add  с аргументами (5, 4) и {}\n",
      "Функция add завершила выполнение с результатом 9\n",
      "9\n",
      "Вызов функции greet  с аргументами ('Alex',) и {}\n",
      "Функция greet завершила выполнение с результатом Привет, Alex\n",
      "Привет, Alex\n"
     ]
    }
   ],
   "source": [
    "# Декоратор для логирования выполнения функций\n",
    "def logger(func):\n",
    "    def wrapper(*args, **kwargs):\n",
    "        print(f\"Вызов функции {func.__name__}  с аргументами {args} и {kwargs}\")\n",
    "        result = func(*args, **kwargs)\n",
    "        print(f\"Функция {func.__name__} завершила выполнение с результатом {result}\")\n",
    "        return result\n",
    "    return wrapper\n",
    "\n",
    "@logger\n",
    "def add(a, b):\n",
    "    return a + b\n",
    "\n",
    "@logger\n",
    "def greet(name):\n",
    "    return f\"Привет, {name}\"\n",
    "\n",
    "print(add(5, 4))\n",
    "print(greet(\"Alex\"))"
   ]
  },
  {
   "cell_type": "code",
   "execution_count": 34,
   "metadata": {},
   "outputs": [
    {
     "name": "stdout",
     "output_type": "stream",
     "text": [
      "Результат вычислен\n",
      "Результат вычислен\n",
      "Результат вычислен\n",
      "Результат из кэша\n",
      "Результат вычислен\n",
      "2\n"
     ]
    }
   ],
   "source": [
    "# Декоратор для кэширования результатов функций\n",
    "def cache(func):\n",
    "    cached_results = {}\n",
    "    def wrapper(*args):\n",
    "        if args in cached_results:\n",
    "            print(\"Результат из кэша\")\n",
    "            return cached_results[args]\n",
    "        result = func(*args)\n",
    "        cached_results[args] = result\n",
    "        print(\"Результат вычислен\")\n",
    "        return result\n",
    "    return wrapper\n",
    "\n",
    "@cache\n",
    "def fibonacci(n):\n",
    "    if n <= 1:\n",
    "        return n\n",
    "    return fibonacci(n - 1) + fibonacci(n - 2)\n",
    "\n",
    "# Пример использования\n",
    "print(fibonacci(3))"
   ]
  },
  {
   "cell_type": "raw",
   "metadata": {},
   "source": [
    "# Генератор для чтения больших файлов построчно\n",
    "def read_large_file(file_path):\n",
    "    with open(file_path, 'r', encoding='utf-8') as file:\n",
    "        for line in file:\n",
    "            yield line.strip()\n",
    "\n",
    "# Пример использования\n",
    "for line in read_large_file('ttt.txt'):\n",
    "    print(line)"
   ]
  },
  {
   "cell_type": "code",
   "execution_count": 42,
   "metadata": {},
   "outputs": [
    {
     "name": "stdout",
     "output_type": "stream",
     "text": [
      "10\n",
      "11\n",
      "12\n",
      "13\n",
      "14\n"
     ]
    }
   ],
   "source": [
    "# Генератор для бесконечной последовательности чисел\n",
    "def infinite_sequence(start):\n",
    "    current = start\n",
    "    while True:\n",
    "        yield current\n",
    "        current += 1\n",
    "\n",
    "# Пример использования\n",
    "gen = infinite_sequence(10)\n",
    "for _ in range(5):\n",
    "    print(next(gen))"
   ]
  },
  {
   "cell_type": "markdown",
   "metadata": {},
   "source": [
    "[Утилита для анализа текста](https://github.com/AnatolyKuzmin/Python/blob/main/1_Python_и_ООП/text_analysis.py)\n",
    "\n",
    "Логировать выполнение функций.  \n",
    "Кэшировать результаты анализа.  \n",
    "Читать большие текстовые файлы построчно.  \n",
    "Подсчитывать частоту слов в тексте.  \n"
   ]
  }
 ],
 "metadata": {
  "kernelspec": {
   "display_name": "Python 3 (ipykernel)",
   "language": "python",
   "name": "python3"
  },
  "language_info": {
   "codemirror_mode": {
    "name": "ipython",
    "version": 3
   },
   "file_extension": ".py",
   "mimetype": "text/x-python",
   "name": "python",
   "nbconvert_exporter": "python",
   "pygments_lexer": "ipython3",
   "version": "3.12.4"
  }
 },
 "nbformat": 4,
 "nbformat_minor": 4
}
