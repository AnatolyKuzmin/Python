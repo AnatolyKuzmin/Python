{
 "cells": [
  {
   "cell_type": "markdown",
   "id": "d32685b5-a35f-43f6-bbfd-b686a44fe547",
   "metadata": {},
   "source": [
    "### 2.3.1.Введение в ORM, модели"
   ]
  },
  {
   "cell_type": "markdown",
   "id": "3646f688-3a9c-4035-88e6-67eba1c3025f",
   "metadata": {},
   "source": [
    "**ORM (Object-Relational Mapping)** — это технология, которая позволяет взаимодействовать с базой данных, используя объекты языка программирования вместо написания SQL-запросов вручную. ORM автоматически преобразует объекты в строки таблиц базы данных и наоборот.\n",
    "\n",
    "Преимущества ORM:\n",
    "- Упрощение работы с базой данных: Не нужно писать сложные SQL-запросы.\n",
    "- Переносимость: ORM абстрагирует работу с разными СУБД (PostgreSQL, MySQL, SQLite и т.д.).\n",
    "- Безопасность: ORM помогает избежать SQL-инъекций.\n",
    "- Удобство: Работа с данными в виде объектов упрощает разработку."
   ]
  },
  {
   "cell_type": "markdown",
   "id": "1bb64923-8d5c-48b7-8877-a8c5d9021883",
   "metadata": {},
   "source": [
    "**SQLAlchemy** — это одна из самых популярных ORM для Python. Она поддерживает:\n",
    "- Создание моделей (таблиц) с помощью классов Python.\n",
    "- Выполнение запросов к базе данных.\n",
    "- Управление отношениями между таблицами (один-ко-многим, многие-ко-многим и т.д.)."
   ]
  },
  {
   "cell_type": "markdown",
   "id": "3f7054ef-f4c3-459e-a6f5-8193c5920028",
   "metadata": {},
   "source": [
    "Основные понятия:\n",
    "1. Модель — это класс Python, который представляет таблицу в базе данных. Каждый атрибут класса — это столбец таблицы.\n",
    "2. Сессия — объект, который управляет взаимодействием с базой данных (добавление, обновление, удаление данных).\n",
    "3. Миграции — процесс изменения структуры базы данных (например, добавление новых таблиц или столбцов)."
   ]
  },
  {
   "cell_type": "markdown",
   "id": "7d0e87ff-3c43-4bf7-843a-297930f7d9ed",
   "metadata": {},
   "source": [
    "#### Практика"
   ]
  },
  {
   "cell_type": "code",
   "execution_count": 11,
   "id": "fbf49599-a4d3-40d8-9d42-fb6f2cb38333",
   "metadata": {},
   "outputs": [],
   "source": [
    "# установка SQLAlchemy\n",
    "#pip install sqlalchemy"
   ]
  },
  {
   "cell_type": "code",
   "execution_count": 17,
   "id": "fee06f7f-01b5-4fda-a5dc-8139a1a41da9",
   "metadata": {},
   "outputs": [
    {
     "name": "stdout",
     "output_type": "stream",
     "text": [
      "2025-02-16 22:29:00,455 INFO sqlalchemy.engine.Engine BEGIN (implicit)\n",
      "2025-02-16 22:29:00,455 INFO sqlalchemy.engine.Engine PRAGMA main.table_info(\"users\")\n",
      "2025-02-16 22:29:00,456 INFO sqlalchemy.engine.Engine [raw sql] ()\n",
      "2025-02-16 22:29:00,457 INFO sqlalchemy.engine.Engine COMMIT\n"
     ]
    }
   ],
   "source": [
    "# Создадим простую модель для таблицы User, которая будет хранить информацию о пользователях.\n",
    "from sqlalchemy import create_engine, Column, Integer, String\n",
    "from sqlalchemy.orm import declarative_base\n",
    "from sqlalchemy.orm import sessionmaker\n",
    "\n",
    "# Подключение к базе данных (SQLite)\n",
    "engine = create_engine('sqlite:///mydatabase.db', echo=True)\n",
    "\n",
    "# Базовый класс для моделей\n",
    "Base = declarative_base()\n",
    "\n",
    "# Модель User\n",
    "class User(Base):\n",
    "    __tablename__ = 'users'  # Имя таблицы\n",
    "\n",
    "    # Колонки таблицы\n",
    "    id = Column(Integer, primary_key=True)\n",
    "    name = Column(String)\n",
    "    age = Column(Integer)\n",
    "\n",
    "    def __repr__(self):\n",
    "        return f\"<User(id={self.id}, name='{self.name}', age={self.age})>\"\n",
    "\n",
    "# Создание таблицы\n",
    "Base.metadata.create_all(engine)\n",
    "\n",
    "# Создание сессии\n",
    "Session = sessionmaker(bind=engine)\n",
    "session = Session()"
   ]
  },
  {
   "cell_type": "code",
   "execution_count": 19,
   "id": "eddda746-3621-4940-8df6-c3fb2877961f",
   "metadata": {},
   "outputs": [
    {
     "name": "stdout",
     "output_type": "stream",
     "text": [
      "2025-02-16 22:30:21,502 INFO sqlalchemy.engine.Engine BEGIN (implicit)\n",
      "2025-02-16 22:30:21,505 INFO sqlalchemy.engine.Engine INSERT INTO users (name, age) VALUES (?, ?) RETURNING id\n",
      "2025-02-16 22:30:21,505 INFO sqlalchemy.engine.Engine [generated in 0.00012s (insertmanyvalues) 1/2 (ordered; batch not supported)] ('Alice', 25)\n",
      "2025-02-16 22:30:21,507 INFO sqlalchemy.engine.Engine INSERT INTO users (name, age) VALUES (?, ?) RETURNING id\n",
      "2025-02-16 22:30:21,508 INFO sqlalchemy.engine.Engine [insertmanyvalues 2/2 (ordered; batch not supported)] ('Bob', 30)\n",
      "2025-02-16 22:30:21,509 INFO sqlalchemy.engine.Engine COMMIT\n"
     ]
    }
   ],
   "source": [
    "# Добавим несколько пользователей в таблицу\n",
    "\n",
    "# Создание объектов\n",
    "user1 = User(name=\"Alice\", age=25)\n",
    "user2 = User(name=\"Bob\", age=30)\n",
    "\n",
    "# Добавление в сессию\n",
    "session.add(user1)\n",
    "session.add(user2)\n",
    "\n",
    "# Сохранение изменений в базе данных\n",
    "session.commit()"
   ]
  },
  {
   "cell_type": "code",
   "execution_count": 21,
   "id": "d7c71962-071b-4c5b-b5bb-8162994bcd20",
   "metadata": {},
   "outputs": [
    {
     "name": "stdout",
     "output_type": "stream",
     "text": [
      "2025-02-16 22:31:08,606 INFO sqlalchemy.engine.Engine BEGIN (implicit)\n",
      "2025-02-16 22:31:08,609 INFO sqlalchemy.engine.Engine SELECT users.id AS users_id, users.name AS users_name, users.age AS users_age \n",
      "FROM users\n",
      "2025-02-16 22:31:08,609 INFO sqlalchemy.engine.Engine [generated in 0.00062s] ()\n",
      "<User(id=1, name='Alice', age=25)>\n",
      "<User(id=2, name='Bob', age=30)>\n"
     ]
    }
   ],
   "source": [
    "# Получим всех пользователей из таблицы\n",
    "users = session.query(User).all()\n",
    "for user in users:\n",
    "    print(user)"
   ]
  },
  {
   "cell_type": "markdown",
   "id": "beb8227e-6c97-4eb9-bf61-c55adfca0224",
   "metadata": {},
   "source": [
    "Создание модели Product"
   ]
  },
  {
   "cell_type": "code",
   "execution_count": 51,
   "id": "e7fb2c2f-dcaf-48d3-b278-565f96d00351",
   "metadata": {},
   "outputs": [
    {
     "name": "stdout",
     "output_type": "stream",
     "text": [
      "2025-02-16 23:08:17,247 INFO sqlalchemy.engine.Engine BEGIN (implicit)\n",
      "2025-02-16 23:08:17,248 INFO sqlalchemy.engine.Engine PRAGMA main.table_info(\"users\")\n",
      "2025-02-16 23:08:17,249 INFO sqlalchemy.engine.Engine [raw sql] ()\n",
      "2025-02-16 23:08:17,250 INFO sqlalchemy.engine.Engine PRAGMA main.table_info(\"products\")\n",
      "2025-02-16 23:08:17,250 INFO sqlalchemy.engine.Engine [raw sql] ()\n",
      "2025-02-16 23:08:17,251 INFO sqlalchemy.engine.Engine COMMIT\n"
     ]
    }
   ],
   "source": [
    "from sqlalchemy import create_engine, Column, Integer, String, Float\n",
    "from sqlalchemy.orm import declarative_base\n",
    "from sqlalchemy.orm import sessionmaker\n",
    "\n",
    "# Подключение к базе данных (SQLite)\n",
    "engine = create_engine('sqlite:///mydatabase.db', echo=True)\n",
    "\n",
    "# Базовый класс для моделей\n",
    "Base = declarative_base()\n",
    "\n",
    "# Модель User\n",
    "class User(Base):\n",
    "    __tablename__ = 'users'  # Имя таблицы\n",
    "\n",
    "    # Колонки таблицы\n",
    "    id = Column(Integer, primary_key=True)\n",
    "    name = Column(String)\n",
    "    age = Column(Integer)\n",
    "\n",
    "    def __repr__(self):\n",
    "        return f\"<User(id={self.id}, name='{self.name}', age={self.age})>\"\n",
    "\n",
    "# Модель Product\n",
    "class Product(Base):\n",
    "    __tablename__ = 'products'  # Имя таблицы\n",
    "\n",
    "    # Колонки таблицы\n",
    "    id = Column(Integer, primary_key=True)\n",
    "    name = Column(String)\n",
    "    price = Column(Float)\n",
    "    quantity = Column(Integer)\n",
    "\n",
    "    def __repr__(self):\n",
    "        return f\"<Product(id={self.id}, name='{self.name}', price={self.price}, quantity={self.quantity})>\"\n",
    "\n",
    "# Создание таблиц\n",
    "Base.metadata.create_all(engine)\n",
    "\n",
    "# Создание сессии\n",
    "Session = sessionmaker(bind=engine)\n",
    "session = Session()"
   ]
  },
  {
   "cell_type": "code",
   "execution_count": 53,
   "id": "688100ea-1bb4-43e4-837c-5f517052d558",
   "metadata": {},
   "outputs": [
    {
     "name": "stdout",
     "output_type": "stream",
     "text": [
      "2025-02-16 23:08:19,370 INFO sqlalchemy.engine.Engine BEGIN (implicit)\n",
      "2025-02-16 23:08:19,372 INFO sqlalchemy.engine.Engine INSERT INTO products (name, price, quantity) VALUES (?, ?, ?) RETURNING id\n",
      "2025-02-16 23:08:19,373 INFO sqlalchemy.engine.Engine [generated in 0.00014s (insertmanyvalues) 1/5 (ordered; batch not supported)] ('Laptop', 1200.5, 10)\n",
      "2025-02-16 23:08:19,375 INFO sqlalchemy.engine.Engine INSERT INTO products (name, price, quantity) VALUES (?, ?, ?) RETURNING id\n",
      "2025-02-16 23:08:19,375 INFO sqlalchemy.engine.Engine [insertmanyvalues 2/5 (ordered; batch not supported)] ('Smartphone', 800.0, 15)\n",
      "2025-02-16 23:08:19,376 INFO sqlalchemy.engine.Engine INSERT INTO products (name, price, quantity) VALUES (?, ?, ?) RETURNING id\n",
      "2025-02-16 23:08:19,376 INFO sqlalchemy.engine.Engine [insertmanyvalues 3/5 (ordered; batch not supported)] ('Tablet', 300.75, 20)\n",
      "2025-02-16 23:08:19,377 INFO sqlalchemy.engine.Engine INSERT INTO products (name, price, quantity) VALUES (?, ?, ?) RETURNING id\n",
      "2025-02-16 23:08:19,378 INFO sqlalchemy.engine.Engine [insertmanyvalues 4/5 (ordered; batch not supported)] ('Headphones', 150.0, 30)\n",
      "2025-02-16 23:08:19,378 INFO sqlalchemy.engine.Engine INSERT INTO products (name, price, quantity) VALUES (?, ?, ?) RETURNING id\n",
      "2025-02-16 23:08:19,379 INFO sqlalchemy.engine.Engine [insertmanyvalues 5/5 (ordered; batch not supported)] ('Monitor', 250.0, 12)\n",
      "2025-02-16 23:08:19,380 INFO sqlalchemy.engine.Engine COMMIT\n"
     ]
    }
   ],
   "source": [
    "# Добавим 5 товаров в таблицу products\n",
    "\n",
    "# Создание объектов\n",
    "product1 = Product(name=\"Laptop\", price=1200.50, quantity=10)\n",
    "product2 = Product(name=\"Smartphone\", price=800.00, quantity=15)\n",
    "product3 = Product(name=\"Tablet\", price=300.75, quantity=20)\n",
    "product4 = Product(name=\"Headphones\", price=150.00, quantity=30)\n",
    "product5 = Product(name=\"Monitor\", price=250.00, quantity=12)\n",
    "\n",
    "# Добавление в сессию\n",
    "session.add(product1)\n",
    "session.add(product2)\n",
    "session.add(product3)\n",
    "session.add(product4)\n",
    "session.add(product5)\n",
    "\n",
    "# Сохранение изменений в базе данных\n",
    "session.commit()"
   ]
  },
  {
   "cell_type": "code",
   "execution_count": 55,
   "id": "55cc9dfa-513f-4c5b-a23d-cf93f64c647a",
   "metadata": {},
   "outputs": [
    {
     "name": "stdout",
     "output_type": "stream",
     "text": [
      "2025-02-16 23:08:21,364 INFO sqlalchemy.engine.Engine BEGIN (implicit)\n",
      "2025-02-16 23:08:21,365 INFO sqlalchemy.engine.Engine SELECT products.id AS products_id, products.name AS products_name, products.price AS products_price, products.quantity AS products_quantity \n",
      "FROM products \n",
      "WHERE products.price > ?\n",
      "2025-02-16 23:08:21,366 INFO sqlalchemy.engine.Engine [generated in 0.00060s] (100,)\n",
      "<Product(id=1, name='Laptop', price=1200.5, quantity=10)>\n",
      "<Product(id=2, name='Smartphone', price=800.0, quantity=15)>\n",
      "<Product(id=3, name='Tablet', price=300.75, quantity=20)>\n",
      "<Product(id=4, name='Headphones', price=150.0, quantity=30)>\n",
      "<Product(id=5, name='Monitor', price=250.0, quantity=12)>\n",
      "<Product(id=6, name='Laptop', price=1200.5, quantity=10)>\n",
      "<Product(id=7, name='Smartphone', price=800.0, quantity=15)>\n",
      "<Product(id=8, name='Tablet', price=300.75, quantity=20)>\n",
      "<Product(id=9, name='Headphones', price=150.0, quantity=30)>\n",
      "<Product(id=10, name='Monitor', price=250.0, quantity=12)>\n"
     ]
    }
   ],
   "source": [
    "# Запрос товаров с ценой больше 100\n",
    "expensive_products = session.query(Product).filter(Product.price > 100).all()\n",
    "\n",
    "# Вывод результатов\n",
    "for product in expensive_products:\n",
    "    print(product)"
   ]
  },
  {
   "cell_type": "markdown",
   "id": "2322a610-86b6-4c33-a680-d008f1e16fba",
   "metadata": {},
   "source": [
    "Связь между таблицами User и Product.\n",
    "Чтобы добавить связь между таблицами, например, чтобы пользователь мог иметь несколько товаров, используем отношение один-ко-многим (One-to-Many). Для этого добавим внешний ключ в таблицу Product."
   ]
  },
  {
   "cell_type": "code",
   "execution_count": 62,
   "id": "f9497cfd-31eb-4e53-b0aa-0b3506e29c2f",
   "metadata": {},
   "outputs": [
    {
     "name": "stdout",
     "output_type": "stream",
     "text": [
      "2025-02-16 23:09:55,760 INFO sqlalchemy.engine.Engine BEGIN (implicit)\n",
      "2025-02-16 23:09:55,760 INFO sqlalchemy.engine.Engine PRAGMA main.table_info(\"products\")\n",
      "2025-02-16 23:09:55,761 INFO sqlalchemy.engine.Engine [raw sql] ()\n",
      "2025-02-16 23:09:55,763 INFO sqlalchemy.engine.Engine PRAGMA main.table_info(\"users\")\n",
      "2025-02-16 23:09:55,763 INFO sqlalchemy.engine.Engine [raw sql] ()\n",
      "2025-02-16 23:09:55,764 INFO sqlalchemy.engine.Engine COMMIT\n"
     ]
    }
   ],
   "source": [
    "from sqlalchemy import create_engine, Column, Integer, String, Float\n",
    "from sqlalchemy.orm import declarative_base\n",
    "from sqlalchemy.orm import sessionmaker\n",
    "from sqlalchemy import ForeignKey\n",
    "from sqlalchemy.orm import relationship\n",
    "\n",
    "# Подключение к базе данных (SQLite)\n",
    "engine = create_engine('sqlite:///mydatabase.db', echo=True)\n",
    "\n",
    "# Базовый класс для моделей\n",
    "Base = declarative_base()\n",
    "\n",
    "# Модель Product с внешним ключом\n",
    "class Product(Base):\n",
    "    __tablename__ = 'products'  # Имя таблицы\n",
    "\n",
    "    # Колонки таблицы\n",
    "    id = Column(Integer, primary_key=True)\n",
    "    name = Column(String)\n",
    "    price = Column(Float)\n",
    "    quantity = Column(Integer)\n",
    "    user_id = Column(Integer, ForeignKey('users.id'))  # Внешний ключ\n",
    "\n",
    "    # Связь с таблицей User\n",
    "    user = relationship(\"User\", back_populates=\"products\")\n",
    "\n",
    "    def __repr__(self):\n",
    "        return f\"<Product(id={self.id}, name='{self.name}', price={self.price}, quantity={self.quantity}, user_id={self.user_id})>\"\n",
    "\n",
    "# Модель User с обратной связью\n",
    "class User(Base):\n",
    "    __tablename__ = 'users'  # Имя таблицы\n",
    "\n",
    "    # Колонки таблицы\n",
    "    id = Column(Integer, primary_key=True)\n",
    "    name = Column(String)\n",
    "    age = Column(Integer)\n",
    "\n",
    "    # Связь с таблицей Product\n",
    "    products = relationship(\"Product\", back_populates=\"user\")\n",
    "\n",
    "    def __repr__(self):\n",
    "        return f\"<User(id={self.id}, name='{self.name}', age={self.age})>\"\n",
    "# Создание таблиц\n",
    "Base.metadata.create_all(engine)\n",
    "\n",
    "# Создание сессии\n",
    "Session = sessionmaker(bind=engine)\n",
    "session = Session()"
   ]
  },
  {
   "cell_type": "code",
   "execution_count": null,
   "id": "4944b9c3-877c-455c-a416-ff3e246882e4",
   "metadata": {},
   "outputs": [],
   "source": [
    "# Удаление файла базы данных (если используете SQLite)\n",
    "import os\n",
    "if os.path.exists(\"mydatabase.db\"):\n",
    "    os.remove(\"mydatabase.db\")\n",
    "\n",
    "# Пересоздание таблиц\n",
    "Base.metadata.create_all(engine)"
   ]
  },
  {
   "cell_type": "code",
   "execution_count": null,
   "id": "373cd39b-f302-427f-87b0-e03a70872e23",
   "metadata": {},
   "outputs": [],
   "source": [
    "# Создаем пользователя\n",
    "user = User(name=\"John\", age=28)\n",
    "session.add(user)\n",
    "session.commit()\n",
    "\n",
    "# Создаем товары и связываем их с пользователем\n",
    "product1 = Product(name=\"Laptop\", price=1200.50, quantity=10, user_id=user.id)\n",
    "product2 = Product(name=\"Smartphone\", price=800.00, quantity=15, user_id=user.id)\n",
    "\n",
    "session.add(product1)\n",
    "session.add(product2)\n",
    "session.commit()\n",
    "\n",
    "# Получаем все товары пользователя\n",
    "user_products = session.query(Product).filter(Product.user_id == user.id).all()\n",
    "for product in user_products:\n",
    "    print(product)"
   ]
  },
  {
   "cell_type": "markdown",
   "id": "5d4fde9c-a4ae-4ce7-8247-8425ba61c9e2",
   "metadata": {},
   "source": [
    "### 2.3.2.Создание и миграция таблиц"
   ]
  },
  {
   "cell_type": "markdown",
   "id": "39d72c32-8b67-4730-9a2a-f101fab1b30f",
   "metadata": {},
   "source": [
    "Миграция - это процесс изминения структуры базы данных(например, добавление новых таблиц, изминение столбцов или удаление таблиц) **без потери данных**"
   ]
  },
  {
   "cell_type": "code",
   "execution_count": null,
   "id": "582b2b0a-ef95-4dc2-bb37-2541819f2e34",
   "metadata": {},
   "outputs": [],
   "source": [
    "# Для работы с миграциями установим Alembic\n",
    "#pip install alembic"
   ]
  },
  {
   "cell_type": "code",
   "execution_count": 4,
   "id": "f4c646f8-ed6f-4e80-b179-bd4a3907cfae",
   "metadata": {},
   "outputs": [],
   "source": [
    "# Инициализируем Alembic,в bash или powerShell\n",
    "# Эта команда создаст папку alembic и файл alembic.ini.\n",
    "#alembic init alembic"
   ]
  },
  {
   "cell_type": "markdown",
   "id": "58293524-19ca-4f0d-ad14-9b1df7677b5c",
   "metadata": {},
   "source": [
    "Настройка Alembic\n",
    "\n",
    "1. Откройте файл alembic.ini и настройте подключение к вашей базе данных. Например:  \n",
    "   ```sqlalchemy.url = sqlite:///mydatabase.db```\n",
    "3. Откройте файл alembic/env.py и настройте его для использования ваших моделей:  \n",
    "   ```from models import Base```  \n",
    "   ```# Импортируйте Base из вашего файла с моделями```  \n",
    "   ```target_metadata = Base.metadata```  "
   ]
  },
  {
   "cell_type": "markdown",
   "id": "62500438-fdb0-49c8-bece-f14aed479f5f",
   "metadata": {},
   "source": [
    "Создание первой миграции(в bash)\n",
    "\n",
    "1. Создайте новую миграцию:  \n",
    "```alembic revision --autogenerate -m \"create users and products tables\"```  \n",
    "Эта команда создаст файл миграции в папке alembic/versions.  \n",
    "\n",
    "2. Примените миграцию к базе данных:  \n",
    "```alembic upgrade head```"
   ]
  },
  {
   "cell_type": "markdown",
   "id": "3f48bb6e-8082-4474-b9e7-2d577c975375",
   "metadata": {},
   "source": [
    "#### Пример"
   ]
  },
  {
   "cell_type": "code",
   "execution_count": null,
   "id": "dd688394-1d44-4d43-bcd6-a427e43c4f22",
   "metadata": {},
   "outputs": [],
   "source": [
    "# Создадим модели User и Product\n",
    "from sqlalchemy import create_engine, Column, Integer, String, Float, ForeignKey\n",
    "from sqlalchemy.ext.declarative import declarative_base\n",
    "from sqlalchemy.orm import sessionmaker, relationship\n",
    "\n",
    "# Подключение к базе данных (SQLite)\n",
    "engine = create_engine('sqlite:///mydatabase.db', echo=True)\n",
    "\n",
    "# Базовый класс для моделей\n",
    "Base = declarative_base()\n",
    "\n",
    "# Модель User\n",
    "class User(Base):\n",
    "    __tablename__ = 'users'  # Имя таблицы\n",
    "\n",
    "    # Колонки таблицы\n",
    "    id = Column(Integer, primary_key=True)\n",
    "    name = Column(String)\n",
    "    age = Column(Integer)\n",
    "\n",
    "    # Связь с таблицей Product\n",
    "    products = relationship(\"Product\", back_populates=\"user\")\n",
    "\n",
    "    def __repr__(self):\n",
    "        return f\"<User(id={self.id}, name='{self.name}', age={self.age})>\"\n",
    "\n",
    "# Модель Product\n",
    "class Product(Base):\n",
    "    __tablename__ = 'products'  # Имя таблицы\n",
    "\n",
    "    # Колонки таблицы\n",
    "    id = Column(Integer, primary_key=True)\n",
    "    name = Column(String)\n",
    "    price = Column(Float)\n",
    "    quantity = Column(Integer)\n",
    "    user_id = Column(Integer, ForeignKey('users.id'))  # Внешний ключ\n",
    "\n",
    "    # Связь с таблицей User\n",
    "    user = relationship(\"User\", back_populates=\"products\")\n",
    "\n",
    "    def __repr__(self):\n",
    "        return f\"<Product(id={self.id}, name='{self.name}', price={self.price}, quantity={self.quantity}, user_id={self.user_id})>\""
   ]
  },
  {
   "cell_type": "markdown",
   "id": "e45d6e66-a6a0-46af-9f57-f581185fd5bf",
   "metadata": {},
   "source": [
    "Применение миграций(bash)  \n",
    "1. Создайте миграцию:  \n",
    "```alembic revision --autogenerate -m \"create users and products tables\"```\n",
    "\n",
    "2. Примените миграцию:  \n",
    "```alembic upgrade head```  "
   ]
  },
  {
   "cell_type": "markdown",
   "id": "ea13491e-df1c-44d9-901c-32ee187e639b",
   "metadata": {},
   "source": [
    "### 2.3.3.Запросы с использованием ORM"
   ]
  },
  {
   "cell_type": "markdown",
   "id": "8671bdb9-3819-41e4-97ae-7577d7e6233b",
   "metadata": {},
   "source": [
    "### 2.3.4.To-Do List с использованием SQLAlchemy"
   ]
  }
 ],
 "metadata": {
  "kernelspec": {
   "display_name": "Python 3 (ipykernel)",
   "language": "python",
   "name": "python3"
  },
  "language_info": {
   "codemirror_mode": {
    "name": "ipython",
    "version": 3
   },
   "file_extension": ".py",
   "mimetype": "text/x-python",
   "name": "python",
   "nbconvert_exporter": "python",
   "pygments_lexer": "ipython3",
   "version": "3.12.4"
  }
 },
 "nbformat": 4,
 "nbformat_minor": 5
}
