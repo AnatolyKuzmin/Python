{
 "cells": [
  {
   "cell_type": "markdown",
   "id": "d32685b5-a35f-43f6-bbfd-b686a44fe547",
   "metadata": {},
   "source": [
    "### 2.3.1.Введение в ORM, модели"
   ]
  },
  {
   "cell_type": "markdown",
   "id": "3646f688-3a9c-4035-88e6-67eba1c3025f",
   "metadata": {},
   "source": [
    "**ORM (Object-Relational Mapping)** — это технология, которая позволяет взаимодействовать с базой данных, используя объекты языка программирования вместо написания SQL-запросов вручную. ORM автоматически преобразует объекты в строки таблиц базы данных и наоборот.\n",
    "\n",
    "Преимущества ORM:\n",
    "- Упрощение работы с базой данных: Не нужно писать сложные SQL-запросы.\n",
    "- Переносимость: ORM абстрагирует работу с разными СУБД (PostgreSQL, MySQL, SQLite и т.д.).\n",
    "- Безопасность: ORM помогает избежать SQL-инъекций.\n",
    "- Удобство: Работа с данными в виде объектов упрощает разработку."
   ]
  },
  {
   "cell_type": "markdown",
   "id": "1bb64923-8d5c-48b7-8877-a8c5d9021883",
   "metadata": {},
   "source": [
    "**SQLAlchemy** — это одна из самых популярных ORM для Python. Она поддерживает:\n",
    "- Создание моделей (таблиц) с помощью классов Python.\n",
    "- Выполнение запросов к базе данных.\n",
    "- Управление отношениями между таблицами (один-ко-многим, многие-ко-многим и т.д.)."
   ]
  },
  {
   "cell_type": "markdown",
   "id": "3f7054ef-f4c3-459e-a6f5-8193c5920028",
   "metadata": {},
   "source": [
    "Основные понятия:\n",
    "1. Модель — это класс Python, который представляет таблицу в базе данных. Каждый атрибут класса — это столбец таблицы.\n",
    "2. Сессия — объект, который управляет взаимодействием с базой данных (добавление, обновление, удаление данных).\n",
    "3. Миграции — процесс изменения структуры базы данных (например, добавление новых таблиц или столбцов)."
   ]
  },
  {
   "cell_type": "markdown",
   "id": "7d0e87ff-3c43-4bf7-843a-297930f7d9ed",
   "metadata": {},
   "source": [
    "#### Практика"
   ]
  },
  {
   "cell_type": "code",
   "execution_count": 11,
   "id": "fbf49599-a4d3-40d8-9d42-fb6f2cb38333",
   "metadata": {},
   "outputs": [],
   "source": [
    "# установка SQLAlchemy\n",
    "#pip install sqlalchemy"
   ]
  },
  {
   "cell_type": "code",
   "execution_count": 17,
   "id": "fee06f7f-01b5-4fda-a5dc-8139a1a41da9",
   "metadata": {},
   "outputs": [
    {
     "name": "stdout",
     "output_type": "stream",
     "text": [
      "2025-02-16 22:29:00,455 INFO sqlalchemy.engine.Engine BEGIN (implicit)\n",
      "2025-02-16 22:29:00,455 INFO sqlalchemy.engine.Engine PRAGMA main.table_info(\"users\")\n",
      "2025-02-16 22:29:00,456 INFO sqlalchemy.engine.Engine [raw sql] ()\n",
      "2025-02-16 22:29:00,457 INFO sqlalchemy.engine.Engine COMMIT\n"
     ]
    }
   ],
   "source": [
    "# Создадим простую модель для таблицы User, которая будет хранить информацию о пользователях.\n",
    "from sqlalchemy import create_engine, Column, Integer, String\n",
    "from sqlalchemy.orm import declarative_base\n",
    "from sqlalchemy.orm import sessionmaker\n",
    "\n",
    "# Подключение к базе данных (SQLite)\n",
    "engine = create_engine('sqlite:///mydatabase.db', echo=True)\n",
    "\n",
    "# Базовый класс для моделей\n",
    "Base = declarative_base()\n",
    "\n",
    "# Модель User\n",
    "class User(Base):\n",
    "    __tablename__ = 'users'  # Имя таблицы\n",
    "\n",
    "    # Колонки таблицы\n",
    "    id = Column(Integer, primary_key=True)\n",
    "    name = Column(String)\n",
    "    age = Column(Integer)\n",
    "\n",
    "    def __repr__(self):\n",
    "        return f\"<User(id={self.id}, name='{self.name}', age={self.age})>\"\n",
    "\n",
    "# Создание таблицы\n",
    "Base.metadata.create_all(engine)\n",
    "\n",
    "# Создание сессии\n",
    "Session = sessionmaker(bind=engine)\n",
    "session = Session()"
   ]
  },
  {
   "cell_type": "code",
   "execution_count": 19,
   "id": "eddda746-3621-4940-8df6-c3fb2877961f",
   "metadata": {},
   "outputs": [
    {
     "name": "stdout",
     "output_type": "stream",
     "text": [
      "2025-02-16 22:30:21,502 INFO sqlalchemy.engine.Engine BEGIN (implicit)\n",
      "2025-02-16 22:30:21,505 INFO sqlalchemy.engine.Engine INSERT INTO users (name, age) VALUES (?, ?) RETURNING id\n",
      "2025-02-16 22:30:21,505 INFO sqlalchemy.engine.Engine [generated in 0.00012s (insertmanyvalues) 1/2 (ordered; batch not supported)] ('Alice', 25)\n",
      "2025-02-16 22:30:21,507 INFO sqlalchemy.engine.Engine INSERT INTO users (name, age) VALUES (?, ?) RETURNING id\n",
      "2025-02-16 22:30:21,508 INFO sqlalchemy.engine.Engine [insertmanyvalues 2/2 (ordered; batch not supported)] ('Bob', 30)\n",
      "2025-02-16 22:30:21,509 INFO sqlalchemy.engine.Engine COMMIT\n"
     ]
    }
   ],
   "source": [
    "# Добавим несколько пользователей в таблицу\n",
    "\n",
    "# Создание объектов\n",
    "user1 = User(name=\"Alice\", age=25)\n",
    "user2 = User(name=\"Bob\", age=30)\n",
    "\n",
    "# Добавление в сессию\n",
    "session.add(user1)\n",
    "session.add(user2)\n",
    "\n",
    "# Сохранение изменений в базе данных\n",
    "session.commit()"
   ]
  },
  {
   "cell_type": "code",
   "execution_count": 21,
   "id": "d7c71962-071b-4c5b-b5bb-8162994bcd20",
   "metadata": {},
   "outputs": [
    {
     "name": "stdout",
     "output_type": "stream",
     "text": [
      "2025-02-16 22:31:08,606 INFO sqlalchemy.engine.Engine BEGIN (implicit)\n",
      "2025-02-16 22:31:08,609 INFO sqlalchemy.engine.Engine SELECT users.id AS users_id, users.name AS users_name, users.age AS users_age \n",
      "FROM users\n",
      "2025-02-16 22:31:08,609 INFO sqlalchemy.engine.Engine [generated in 0.00062s] ()\n",
      "<User(id=1, name='Alice', age=25)>\n",
      "<User(id=2, name='Bob', age=30)>\n"
     ]
    }
   ],
   "source": [
    "# Получим всех пользователей из таблицы\n",
    "users = session.query(User).all()\n",
    "for user in users:\n",
    "    print(user)"
   ]
  },
  {
   "cell_type": "markdown",
   "id": "beb8227e-6c97-4eb9-bf61-c55adfca0224",
   "metadata": {},
   "source": [
    "Создание модели Product"
   ]
  },
  {
   "cell_type": "code",
   "execution_count": 51,
   "id": "e7fb2c2f-dcaf-48d3-b278-565f96d00351",
   "metadata": {},
   "outputs": [
    {
     "name": "stdout",
     "output_type": "stream",
     "text": [
      "2025-02-16 23:08:17,247 INFO sqlalchemy.engine.Engine BEGIN (implicit)\n",
      "2025-02-16 23:08:17,248 INFO sqlalchemy.engine.Engine PRAGMA main.table_info(\"users\")\n",
      "2025-02-16 23:08:17,249 INFO sqlalchemy.engine.Engine [raw sql] ()\n",
      "2025-02-16 23:08:17,250 INFO sqlalchemy.engine.Engine PRAGMA main.table_info(\"products\")\n",
      "2025-02-16 23:08:17,250 INFO sqlalchemy.engine.Engine [raw sql] ()\n",
      "2025-02-16 23:08:17,251 INFO sqlalchemy.engine.Engine COMMIT\n"
     ]
    }
   ],
   "source": [
    "from sqlalchemy import create_engine, Column, Integer, String, Float\n",
    "from sqlalchemy.orm import declarative_base\n",
    "from sqlalchemy.orm import sessionmaker\n",
    "\n",
    "# Подключение к базе данных (SQLite)\n",
    "engine = create_engine('sqlite:///mydatabase.db', echo=True)\n",
    "\n",
    "# Базовый класс для моделей\n",
    "Base = declarative_base()\n",
    "\n",
    "# Модель User\n",
    "class User(Base):\n",
    "    __tablename__ = 'users'  # Имя таблицы\n",
    "\n",
    "    # Колонки таблицы\n",
    "    id = Column(Integer, primary_key=True)\n",
    "    name = Column(String)\n",
    "    age = Column(Integer)\n",
    "\n",
    "    def __repr__(self):\n",
    "        return f\"<User(id={self.id}, name='{self.name}', age={self.age})>\"\n",
    "\n",
    "# Модель Product\n",
    "class Product(Base):\n",
    "    __tablename__ = 'products'  # Имя таблицы\n",
    "\n",
    "    # Колонки таблицы\n",
    "    id = Column(Integer, primary_key=True)\n",
    "    name = Column(String)\n",
    "    price = Column(Float)\n",
    "    quantity = Column(Integer)\n",
    "\n",
    "    def __repr__(self):\n",
    "        return f\"<Product(id={self.id}, name='{self.name}', price={self.price}, quantity={self.quantity})>\"\n",
    "\n",
    "# Создание таблиц\n",
    "Base.metadata.create_all(engine)\n",
    "\n",
    "# Создание сессии\n",
    "Session = sessionmaker(bind=engine)\n",
    "session = Session()"
   ]
  },
  {
   "cell_type": "code",
   "execution_count": 53,
   "id": "688100ea-1bb4-43e4-837c-5f517052d558",
   "metadata": {},
   "outputs": [
    {
     "name": "stdout",
     "output_type": "stream",
     "text": [
      "2025-02-16 23:08:19,370 INFO sqlalchemy.engine.Engine BEGIN (implicit)\n",
      "2025-02-16 23:08:19,372 INFO sqlalchemy.engine.Engine INSERT INTO products (name, price, quantity) VALUES (?, ?, ?) RETURNING id\n",
      "2025-02-16 23:08:19,373 INFO sqlalchemy.engine.Engine [generated in 0.00014s (insertmanyvalues) 1/5 (ordered; batch not supported)] ('Laptop', 1200.5, 10)\n",
      "2025-02-16 23:08:19,375 INFO sqlalchemy.engine.Engine INSERT INTO products (name, price, quantity) VALUES (?, ?, ?) RETURNING id\n",
      "2025-02-16 23:08:19,375 INFO sqlalchemy.engine.Engine [insertmanyvalues 2/5 (ordered; batch not supported)] ('Smartphone', 800.0, 15)\n",
      "2025-02-16 23:08:19,376 INFO sqlalchemy.engine.Engine INSERT INTO products (name, price, quantity) VALUES (?, ?, ?) RETURNING id\n",
      "2025-02-16 23:08:19,376 INFO sqlalchemy.engine.Engine [insertmanyvalues 3/5 (ordered; batch not supported)] ('Tablet', 300.75, 20)\n",
      "2025-02-16 23:08:19,377 INFO sqlalchemy.engine.Engine INSERT INTO products (name, price, quantity) VALUES (?, ?, ?) RETURNING id\n",
      "2025-02-16 23:08:19,378 INFO sqlalchemy.engine.Engine [insertmanyvalues 4/5 (ordered; batch not supported)] ('Headphones', 150.0, 30)\n",
      "2025-02-16 23:08:19,378 INFO sqlalchemy.engine.Engine INSERT INTO products (name, price, quantity) VALUES (?, ?, ?) RETURNING id\n",
      "2025-02-16 23:08:19,379 INFO sqlalchemy.engine.Engine [insertmanyvalues 5/5 (ordered; batch not supported)] ('Monitor', 250.0, 12)\n",
      "2025-02-16 23:08:19,380 INFO sqlalchemy.engine.Engine COMMIT\n"
     ]
    }
   ],
   "source": [
    "# Добавим 5 товаров в таблицу products\n",
    "\n",
    "# Создание объектов\n",
    "product1 = Product(name=\"Laptop\", price=1200.50, quantity=10)\n",
    "product2 = Product(name=\"Smartphone\", price=800.00, quantity=15)\n",
    "product3 = Product(name=\"Tablet\", price=300.75, quantity=20)\n",
    "product4 = Product(name=\"Headphones\", price=150.00, quantity=30)\n",
    "product5 = Product(name=\"Monitor\", price=250.00, quantity=12)\n",
    "\n",
    "# Добавление в сессию\n",
    "session.add(product1)\n",
    "session.add(product2)\n",
    "session.add(product3)\n",
    "session.add(product4)\n",
    "session.add(product5)\n",
    "\n",
    "# Сохранение изменений в базе данных\n",
    "session.commit()"
   ]
  },
  {
   "cell_type": "code",
   "execution_count": 55,
   "id": "55cc9dfa-513f-4c5b-a23d-cf93f64c647a",
   "metadata": {},
   "outputs": [
    {
     "name": "stdout",
     "output_type": "stream",
     "text": [
      "2025-02-16 23:08:21,364 INFO sqlalchemy.engine.Engine BEGIN (implicit)\n",
      "2025-02-16 23:08:21,365 INFO sqlalchemy.engine.Engine SELECT products.id AS products_id, products.name AS products_name, products.price AS products_price, products.quantity AS products_quantity \n",
      "FROM products \n",
      "WHERE products.price > ?\n",
      "2025-02-16 23:08:21,366 INFO sqlalchemy.engine.Engine [generated in 0.00060s] (100,)\n",
      "<Product(id=1, name='Laptop', price=1200.5, quantity=10)>\n",
      "<Product(id=2, name='Smartphone', price=800.0, quantity=15)>\n",
      "<Product(id=3, name='Tablet', price=300.75, quantity=20)>\n",
      "<Product(id=4, name='Headphones', price=150.0, quantity=30)>\n",
      "<Product(id=5, name='Monitor', price=250.0, quantity=12)>\n",
      "<Product(id=6, name='Laptop', price=1200.5, quantity=10)>\n",
      "<Product(id=7, name='Smartphone', price=800.0, quantity=15)>\n",
      "<Product(id=8, name='Tablet', price=300.75, quantity=20)>\n",
      "<Product(id=9, name='Headphones', price=150.0, quantity=30)>\n",
      "<Product(id=10, name='Monitor', price=250.0, quantity=12)>\n"
     ]
    }
   ],
   "source": [
    "# Запрос товаров с ценой больше 100\n",
    "expensive_products = session.query(Product).filter(Product.price > 100).all()\n",
    "\n",
    "# Вывод результатов\n",
    "for product in expensive_products:\n",
    "    print(product)"
   ]
  },
  {
   "cell_type": "markdown",
   "id": "2322a610-86b6-4c33-a680-d008f1e16fba",
   "metadata": {},
   "source": [
    "Связь между таблицами User и Product.\n",
    "Чтобы добавить связь между таблицами, например, чтобы пользователь мог иметь несколько товаров, используем отношение один-ко-многим (One-to-Many). Для этого добавим внешний ключ в таблицу Product."
   ]
  },
  {
   "cell_type": "code",
   "execution_count": 62,
   "id": "f9497cfd-31eb-4e53-b0aa-0b3506e29c2f",
   "metadata": {},
   "outputs": [
    {
     "name": "stdout",
     "output_type": "stream",
     "text": [
      "2025-02-16 23:09:55,760 INFO sqlalchemy.engine.Engine BEGIN (implicit)\n",
      "2025-02-16 23:09:55,760 INFO sqlalchemy.engine.Engine PRAGMA main.table_info(\"products\")\n",
      "2025-02-16 23:09:55,761 INFO sqlalchemy.engine.Engine [raw sql] ()\n",
      "2025-02-16 23:09:55,763 INFO sqlalchemy.engine.Engine PRAGMA main.table_info(\"users\")\n",
      "2025-02-16 23:09:55,763 INFO sqlalchemy.engine.Engine [raw sql] ()\n",
      "2025-02-16 23:09:55,764 INFO sqlalchemy.engine.Engine COMMIT\n"
     ]
    }
   ],
   "source": [
    "from sqlalchemy import create_engine, Column, Integer, String, Float\n",
    "from sqlalchemy.orm import declarative_base\n",
    "from sqlalchemy.orm import sessionmaker\n",
    "from sqlalchemy import ForeignKey\n",
    "from sqlalchemy.orm import relationship\n",
    "\n",
    "# Подключение к базе данных (SQLite)\n",
    "engine = create_engine('sqlite:///mydatabase.db', echo=True)\n",
    "\n",
    "# Базовый класс для моделей\n",
    "Base = declarative_base()\n",
    "\n",
    "# Модель Product с внешним ключом\n",
    "class Product(Base):\n",
    "    __tablename__ = 'products'  # Имя таблицы\n",
    "\n",
    "    # Колонки таблицы\n",
    "    id = Column(Integer, primary_key=True)\n",
    "    name = Column(String)\n",
    "    price = Column(Float)\n",
    "    quantity = Column(Integer)\n",
    "    user_id = Column(Integer, ForeignKey('users.id'))  # Внешний ключ\n",
    "\n",
    "    # Связь с таблицей User\n",
    "    user = relationship(\"User\", back_populates=\"products\")\n",
    "\n",
    "    def __repr__(self):\n",
    "        return f\"<Product(id={self.id}, name='{self.name}', price={self.price}, quantity={self.quantity}, user_id={self.user_id})>\"\n",
    "\n",
    "# Модель User с обратной связью\n",
    "class User(Base):\n",
    "    __tablename__ = 'users'  # Имя таблицы\n",
    "\n",
    "    # Колонки таблицы\n",
    "    id = Column(Integer, primary_key=True)\n",
    "    name = Column(String)\n",
    "    age = Column(Integer)\n",
    "\n",
    "    # Связь с таблицей Product\n",
    "    products = relationship(\"Product\", back_populates=\"user\")\n",
    "\n",
    "    def __repr__(self):\n",
    "        return f\"<User(id={self.id}, name='{self.name}', age={self.age})>\"\n",
    "# Создание таблиц\n",
    "Base.metadata.create_all(engine)\n",
    "\n",
    "# Создание сессии\n",
    "Session = sessionmaker(bind=engine)\n",
    "session = Session()"
   ]
  },
  {
   "cell_type": "code",
   "execution_count": null,
   "id": "4944b9c3-877c-455c-a416-ff3e246882e4",
   "metadata": {},
   "outputs": [],
   "source": [
    "# Удаление файла базы данных (если используете SQLite)\n",
    "import os\n",
    "if os.path.exists(\"mydatabase.db\"):\n",
    "    os.remove(\"mydatabase.db\")\n",
    "\n",
    "# Пересоздание таблиц\n",
    "Base.metadata.create_all(engine)"
   ]
  },
  {
   "cell_type": "code",
   "execution_count": 64,
   "id": "681315ee-50d0-4dd3-8aaf-4d53a65aa065",
   "metadata": {},
   "outputs": [
    {
     "name": "stdout",
     "output_type": "stream",
     "text": [
      "2025-02-16 23:10:18,277 INFO sqlalchemy.engine.Engine BEGIN (implicit)\n",
      "2025-02-16 23:10:18,279 INFO sqlalchemy.engine.Engine INSERT INTO users (name, age) VALUES (?, ?)\n",
      "2025-02-16 23:10:18,280 INFO sqlalchemy.engine.Engine [generated in 0.00077s] ('John', 28)\n",
      "2025-02-16 23:10:18,281 INFO sqlalchemy.engine.Engine COMMIT\n",
      "2025-02-16 23:10:18,286 INFO sqlalchemy.engine.Engine BEGIN (implicit)\n",
      "2025-02-16 23:10:18,287 INFO sqlalchemy.engine.Engine SELECT users.id AS users_id, users.name AS users_name, users.age AS users_age \n",
      "FROM users \n",
      "WHERE users.id = ?\n",
      "2025-02-16 23:10:18,288 INFO sqlalchemy.engine.Engine [generated in 0.00067s] (3,)\n",
      "2025-02-16 23:10:18,290 INFO sqlalchemy.engine.Engine INSERT INTO products (name, price, quantity, user_id) VALUES (?, ?, ?, ?) RETURNING id\n",
      "2025-02-16 23:10:18,292 INFO sqlalchemy.engine.Engine [generated in 0.00010s (insertmanyvalues) 1/2 (ordered; batch not supported)] ('Laptop', 1200.5, 10, 3)\n",
      "2025-02-16 23:10:18,292 INFO sqlalchemy.engine.Engine ROLLBACK\n"
     ]
    },
    {
     "ename": "OperationalError",
     "evalue": "(sqlite3.OperationalError) table products has no column named user_id\n[SQL: INSERT INTO products (name, price, quantity, user_id) VALUES (?, ?, ?, ?) RETURNING id]\n[parameters: ('Laptop', 1200.5, 10, 3)]\n(Background on this error at: https://sqlalche.me/e/20/e3q8)",
     "output_type": "error",
     "traceback": [
      "\u001b[1;31m---------------------------------------------------------------------------\u001b[0m",
      "\u001b[1;31mOperationalError\u001b[0m                          Traceback (most recent call last)",
      "File \u001b[1;32m~\\anaconda3\\Lib\\site-packages\\sqlalchemy\\engine\\base.py:2116\u001b[0m, in \u001b[0;36mConnection._exec_insertmany_context\u001b[1;34m(self, dialect, context)\u001b[0m\n\u001b[0;32m   2115\u001b[0m     \u001b[38;5;28;01melse\u001b[39;00m:\n\u001b[1;32m-> 2116\u001b[0m         dialect\u001b[38;5;241m.\u001b[39mdo_execute(\n\u001b[0;32m   2117\u001b[0m             cursor,\n\u001b[0;32m   2118\u001b[0m             sub_stmt,\n\u001b[0;32m   2119\u001b[0m             sub_params,\n\u001b[0;32m   2120\u001b[0m             context,\n\u001b[0;32m   2121\u001b[0m         )\n\u001b[0;32m   2123\u001b[0m \u001b[38;5;28;01mexcept\u001b[39;00m \u001b[38;5;167;01mBaseException\u001b[39;00m \u001b[38;5;28;01mas\u001b[39;00m e:\n",
      "File \u001b[1;32m~\\anaconda3\\Lib\\site-packages\\sqlalchemy\\engine\\default.py:924\u001b[0m, in \u001b[0;36mDefaultDialect.do_execute\u001b[1;34m(self, cursor, statement, parameters, context)\u001b[0m\n\u001b[0;32m    923\u001b[0m \u001b[38;5;28;01mdef\u001b[39;00m \u001b[38;5;21mdo_execute\u001b[39m(\u001b[38;5;28mself\u001b[39m, cursor, statement, parameters, context\u001b[38;5;241m=\u001b[39m\u001b[38;5;28;01mNone\u001b[39;00m):\n\u001b[1;32m--> 924\u001b[0m     cursor\u001b[38;5;241m.\u001b[39mexecute(statement, parameters)\n",
      "\u001b[1;31mOperationalError\u001b[0m: table products has no column named user_id",
      "\nThe above exception was the direct cause of the following exception:\n",
      "\u001b[1;31mOperationalError\u001b[0m                          Traceback (most recent call last)",
      "Cell \u001b[1;32mIn[64], line 12\u001b[0m\n\u001b[0;32m     10\u001b[0m session\u001b[38;5;241m.\u001b[39madd(product1)\n\u001b[0;32m     11\u001b[0m session\u001b[38;5;241m.\u001b[39madd(product2)\n\u001b[1;32m---> 12\u001b[0m session\u001b[38;5;241m.\u001b[39mcommit()\n\u001b[0;32m     14\u001b[0m \u001b[38;5;66;03m# Получаем все товары пользователя\u001b[39;00m\n\u001b[0;32m     15\u001b[0m user_products \u001b[38;5;241m=\u001b[39m session\u001b[38;5;241m.\u001b[39mquery(Product)\u001b[38;5;241m.\u001b[39mfilter(Product\u001b[38;5;241m.\u001b[39muser_id \u001b[38;5;241m==\u001b[39m user\u001b[38;5;241m.\u001b[39mid)\u001b[38;5;241m.\u001b[39mall()\n",
      "File \u001b[1;32m~\\anaconda3\\Lib\\site-packages\\sqlalchemy\\orm\\session.py:2017\u001b[0m, in \u001b[0;36mSession.commit\u001b[1;34m(self)\u001b[0m\n\u001b[0;32m   2014\u001b[0m \u001b[38;5;28;01mif\u001b[39;00m trans \u001b[38;5;129;01mis\u001b[39;00m \u001b[38;5;28;01mNone\u001b[39;00m:\n\u001b[0;32m   2015\u001b[0m     trans \u001b[38;5;241m=\u001b[39m \u001b[38;5;28mself\u001b[39m\u001b[38;5;241m.\u001b[39m_autobegin_t()\n\u001b[1;32m-> 2017\u001b[0m trans\u001b[38;5;241m.\u001b[39mcommit(_to_root\u001b[38;5;241m=\u001b[39m\u001b[38;5;28;01mTrue\u001b[39;00m)\n",
      "File \u001b[1;32m<string>:2\u001b[0m, in \u001b[0;36mcommit\u001b[1;34m(self, _to_root)\u001b[0m\n",
      "File \u001b[1;32m~\\anaconda3\\Lib\\site-packages\\sqlalchemy\\orm\\state_changes.py:139\u001b[0m, in \u001b[0;36m_StateChange.declare_states.<locals>._go\u001b[1;34m(fn, self, *arg, **kw)\u001b[0m\n\u001b[0;32m    137\u001b[0m \u001b[38;5;28mself\u001b[39m\u001b[38;5;241m.\u001b[39m_next_state \u001b[38;5;241m=\u001b[39m _StateChangeStates\u001b[38;5;241m.\u001b[39mCHANGE_IN_PROGRESS\n\u001b[0;32m    138\u001b[0m \u001b[38;5;28;01mtry\u001b[39;00m:\n\u001b[1;32m--> 139\u001b[0m     ret_value \u001b[38;5;241m=\u001b[39m fn(\u001b[38;5;28mself\u001b[39m, \u001b[38;5;241m*\u001b[39marg, \u001b[38;5;241m*\u001b[39m\u001b[38;5;241m*\u001b[39mkw)\n\u001b[0;32m    140\u001b[0m \u001b[38;5;28;01mexcept\u001b[39;00m:\n\u001b[0;32m    141\u001b[0m     \u001b[38;5;28;01mraise\u001b[39;00m\n",
      "File \u001b[1;32m~\\anaconda3\\Lib\\site-packages\\sqlalchemy\\orm\\session.py:1302\u001b[0m, in \u001b[0;36mSessionTransaction.commit\u001b[1;34m(self, _to_root)\u001b[0m\n\u001b[0;32m   1300\u001b[0m \u001b[38;5;28;01mif\u001b[39;00m \u001b[38;5;28mself\u001b[39m\u001b[38;5;241m.\u001b[39m_state \u001b[38;5;129;01mis\u001b[39;00m \u001b[38;5;129;01mnot\u001b[39;00m SessionTransactionState\u001b[38;5;241m.\u001b[39mPREPARED:\n\u001b[0;32m   1301\u001b[0m     \u001b[38;5;28;01mwith\u001b[39;00m \u001b[38;5;28mself\u001b[39m\u001b[38;5;241m.\u001b[39m_expect_state(SessionTransactionState\u001b[38;5;241m.\u001b[39mPREPARED):\n\u001b[1;32m-> 1302\u001b[0m         \u001b[38;5;28mself\u001b[39m\u001b[38;5;241m.\u001b[39m_prepare_impl()\n\u001b[0;32m   1304\u001b[0m \u001b[38;5;28;01mif\u001b[39;00m \u001b[38;5;28mself\u001b[39m\u001b[38;5;241m.\u001b[39m_parent \u001b[38;5;129;01mis\u001b[39;00m \u001b[38;5;28;01mNone\u001b[39;00m \u001b[38;5;129;01mor\u001b[39;00m \u001b[38;5;28mself\u001b[39m\u001b[38;5;241m.\u001b[39mnested:\n\u001b[0;32m   1305\u001b[0m     \u001b[38;5;28;01mfor\u001b[39;00m conn, trans, should_commit, autoclose \u001b[38;5;129;01min\u001b[39;00m \u001b[38;5;28mset\u001b[39m(\n\u001b[0;32m   1306\u001b[0m         \u001b[38;5;28mself\u001b[39m\u001b[38;5;241m.\u001b[39m_connections\u001b[38;5;241m.\u001b[39mvalues()\n\u001b[0;32m   1307\u001b[0m     ):\n",
      "File \u001b[1;32m<string>:2\u001b[0m, in \u001b[0;36m_prepare_impl\u001b[1;34m(self)\u001b[0m\n",
      "File \u001b[1;32m~\\anaconda3\\Lib\\site-packages\\sqlalchemy\\orm\\state_changes.py:139\u001b[0m, in \u001b[0;36m_StateChange.declare_states.<locals>._go\u001b[1;34m(fn, self, *arg, **kw)\u001b[0m\n\u001b[0;32m    137\u001b[0m \u001b[38;5;28mself\u001b[39m\u001b[38;5;241m.\u001b[39m_next_state \u001b[38;5;241m=\u001b[39m _StateChangeStates\u001b[38;5;241m.\u001b[39mCHANGE_IN_PROGRESS\n\u001b[0;32m    138\u001b[0m \u001b[38;5;28;01mtry\u001b[39;00m:\n\u001b[1;32m--> 139\u001b[0m     ret_value \u001b[38;5;241m=\u001b[39m fn(\u001b[38;5;28mself\u001b[39m, \u001b[38;5;241m*\u001b[39marg, \u001b[38;5;241m*\u001b[39m\u001b[38;5;241m*\u001b[39mkw)\n\u001b[0;32m    140\u001b[0m \u001b[38;5;28;01mexcept\u001b[39;00m:\n\u001b[0;32m    141\u001b[0m     \u001b[38;5;28;01mraise\u001b[39;00m\n",
      "File \u001b[1;32m~\\anaconda3\\Lib\\site-packages\\sqlalchemy\\orm\\session.py:1277\u001b[0m, in \u001b[0;36mSessionTransaction._prepare_impl\u001b[1;34m(self)\u001b[0m\n\u001b[0;32m   1275\u001b[0m     \u001b[38;5;28;01mif\u001b[39;00m \u001b[38;5;28mself\u001b[39m\u001b[38;5;241m.\u001b[39msession\u001b[38;5;241m.\u001b[39m_is_clean():\n\u001b[0;32m   1276\u001b[0m         \u001b[38;5;28;01mbreak\u001b[39;00m\n\u001b[1;32m-> 1277\u001b[0m     \u001b[38;5;28mself\u001b[39m\u001b[38;5;241m.\u001b[39msession\u001b[38;5;241m.\u001b[39mflush()\n\u001b[0;32m   1278\u001b[0m \u001b[38;5;28;01melse\u001b[39;00m:\n\u001b[0;32m   1279\u001b[0m     \u001b[38;5;28;01mraise\u001b[39;00m exc\u001b[38;5;241m.\u001b[39mFlushError(\n\u001b[0;32m   1280\u001b[0m         \u001b[38;5;124m\"\u001b[39m\u001b[38;5;124mOver 100 subsequent flushes have occurred within \u001b[39m\u001b[38;5;124m\"\u001b[39m\n\u001b[0;32m   1281\u001b[0m         \u001b[38;5;124m\"\u001b[39m\u001b[38;5;124msession.commit() - is an after_flush() hook \u001b[39m\u001b[38;5;124m\"\u001b[39m\n\u001b[0;32m   1282\u001b[0m         \u001b[38;5;124m\"\u001b[39m\u001b[38;5;124mcreating new objects?\u001b[39m\u001b[38;5;124m\"\u001b[39m\n\u001b[0;32m   1283\u001b[0m     )\n",
      "File \u001b[1;32m~\\anaconda3\\Lib\\site-packages\\sqlalchemy\\orm\\session.py:4341\u001b[0m, in \u001b[0;36mSession.flush\u001b[1;34m(self, objects)\u001b[0m\n\u001b[0;32m   4339\u001b[0m \u001b[38;5;28;01mtry\u001b[39;00m:\n\u001b[0;32m   4340\u001b[0m     \u001b[38;5;28mself\u001b[39m\u001b[38;5;241m.\u001b[39m_flushing \u001b[38;5;241m=\u001b[39m \u001b[38;5;28;01mTrue\u001b[39;00m\n\u001b[1;32m-> 4341\u001b[0m     \u001b[38;5;28mself\u001b[39m\u001b[38;5;241m.\u001b[39m_flush(objects)\n\u001b[0;32m   4342\u001b[0m \u001b[38;5;28;01mfinally\u001b[39;00m:\n\u001b[0;32m   4343\u001b[0m     \u001b[38;5;28mself\u001b[39m\u001b[38;5;241m.\u001b[39m_flushing \u001b[38;5;241m=\u001b[39m \u001b[38;5;28;01mFalse\u001b[39;00m\n",
      "File \u001b[1;32m~\\anaconda3\\Lib\\site-packages\\sqlalchemy\\orm\\session.py:4476\u001b[0m, in \u001b[0;36mSession._flush\u001b[1;34m(self, objects)\u001b[0m\n\u001b[0;32m   4473\u001b[0m     transaction\u001b[38;5;241m.\u001b[39mcommit()\n\u001b[0;32m   4475\u001b[0m \u001b[38;5;28;01mexcept\u001b[39;00m:\n\u001b[1;32m-> 4476\u001b[0m     \u001b[38;5;28;01mwith\u001b[39;00m util\u001b[38;5;241m.\u001b[39msafe_reraise():\n\u001b[0;32m   4477\u001b[0m         transaction\u001b[38;5;241m.\u001b[39mrollback(_capture_exception\u001b[38;5;241m=\u001b[39m\u001b[38;5;28;01mTrue\u001b[39;00m)\n",
      "File \u001b[1;32m~\\anaconda3\\Lib\\site-packages\\sqlalchemy\\util\\langhelpers.py:146\u001b[0m, in \u001b[0;36msafe_reraise.__exit__\u001b[1;34m(self, type_, value, traceback)\u001b[0m\n\u001b[0;32m    144\u001b[0m     \u001b[38;5;28;01massert\u001b[39;00m exc_value \u001b[38;5;129;01mis\u001b[39;00m \u001b[38;5;129;01mnot\u001b[39;00m \u001b[38;5;28;01mNone\u001b[39;00m\n\u001b[0;32m    145\u001b[0m     \u001b[38;5;28mself\u001b[39m\u001b[38;5;241m.\u001b[39m_exc_info \u001b[38;5;241m=\u001b[39m \u001b[38;5;28;01mNone\u001b[39;00m  \u001b[38;5;66;03m# remove potential circular references\u001b[39;00m\n\u001b[1;32m--> 146\u001b[0m     \u001b[38;5;28;01mraise\u001b[39;00m exc_value\u001b[38;5;241m.\u001b[39mwith_traceback(exc_tb)\n\u001b[0;32m    147\u001b[0m \u001b[38;5;28;01melse\u001b[39;00m:\n\u001b[0;32m    148\u001b[0m     \u001b[38;5;28mself\u001b[39m\u001b[38;5;241m.\u001b[39m_exc_info \u001b[38;5;241m=\u001b[39m \u001b[38;5;28;01mNone\u001b[39;00m  \u001b[38;5;66;03m# remove potential circular references\u001b[39;00m\n",
      "File \u001b[1;32m~\\anaconda3\\Lib\\site-packages\\sqlalchemy\\orm\\session.py:4437\u001b[0m, in \u001b[0;36mSession._flush\u001b[1;34m(self, objects)\u001b[0m\n\u001b[0;32m   4435\u001b[0m \u001b[38;5;28mself\u001b[39m\u001b[38;5;241m.\u001b[39m_warn_on_events \u001b[38;5;241m=\u001b[39m \u001b[38;5;28;01mTrue\u001b[39;00m\n\u001b[0;32m   4436\u001b[0m \u001b[38;5;28;01mtry\u001b[39;00m:\n\u001b[1;32m-> 4437\u001b[0m     flush_context\u001b[38;5;241m.\u001b[39mexecute()\n\u001b[0;32m   4438\u001b[0m \u001b[38;5;28;01mfinally\u001b[39;00m:\n\u001b[0;32m   4439\u001b[0m     \u001b[38;5;28mself\u001b[39m\u001b[38;5;241m.\u001b[39m_warn_on_events \u001b[38;5;241m=\u001b[39m \u001b[38;5;28;01mFalse\u001b[39;00m\n",
      "File \u001b[1;32m~\\anaconda3\\Lib\\site-packages\\sqlalchemy\\orm\\unitofwork.py:466\u001b[0m, in \u001b[0;36mUOWTransaction.execute\u001b[1;34m(self)\u001b[0m\n\u001b[0;32m    464\u001b[0m \u001b[38;5;28;01melse\u001b[39;00m:\n\u001b[0;32m    465\u001b[0m     \u001b[38;5;28;01mfor\u001b[39;00m rec \u001b[38;5;129;01min\u001b[39;00m topological\u001b[38;5;241m.\u001b[39msort(\u001b[38;5;28mself\u001b[39m\u001b[38;5;241m.\u001b[39mdependencies, postsort_actions):\n\u001b[1;32m--> 466\u001b[0m         rec\u001b[38;5;241m.\u001b[39mexecute(\u001b[38;5;28mself\u001b[39m)\n",
      "File \u001b[1;32m~\\anaconda3\\Lib\\site-packages\\sqlalchemy\\orm\\unitofwork.py:642\u001b[0m, in \u001b[0;36mSaveUpdateAll.execute\u001b[1;34m(self, uow)\u001b[0m\n\u001b[0;32m    640\u001b[0m \u001b[38;5;129m@util\u001b[39m\u001b[38;5;241m.\u001b[39mpreload_module(\u001b[38;5;124m\"\u001b[39m\u001b[38;5;124msqlalchemy.orm.persistence\u001b[39m\u001b[38;5;124m\"\u001b[39m)\n\u001b[0;32m    641\u001b[0m \u001b[38;5;28;01mdef\u001b[39;00m \u001b[38;5;21mexecute\u001b[39m(\u001b[38;5;28mself\u001b[39m, uow):\n\u001b[1;32m--> 642\u001b[0m     util\u001b[38;5;241m.\u001b[39mpreloaded\u001b[38;5;241m.\u001b[39morm_persistence\u001b[38;5;241m.\u001b[39msave_obj(\n\u001b[0;32m    643\u001b[0m         \u001b[38;5;28mself\u001b[39m\u001b[38;5;241m.\u001b[39mmapper,\n\u001b[0;32m    644\u001b[0m         uow\u001b[38;5;241m.\u001b[39mstates_for_mapper_hierarchy(\u001b[38;5;28mself\u001b[39m\u001b[38;5;241m.\u001b[39mmapper, \u001b[38;5;28;01mFalse\u001b[39;00m, \u001b[38;5;28;01mFalse\u001b[39;00m),\n\u001b[0;32m    645\u001b[0m         uow,\n\u001b[0;32m    646\u001b[0m     )\n",
      "File \u001b[1;32m~\\anaconda3\\Lib\\site-packages\\sqlalchemy\\orm\\persistence.py:93\u001b[0m, in \u001b[0;36msave_obj\u001b[1;34m(base_mapper, states, uowtransaction, single)\u001b[0m\n\u001b[0;32m     81\u001b[0m     update \u001b[38;5;241m=\u001b[39m _collect_update_commands(\n\u001b[0;32m     82\u001b[0m         uowtransaction, table, states_to_update\n\u001b[0;32m     83\u001b[0m     )\n\u001b[0;32m     85\u001b[0m     _emit_update_statements(\n\u001b[0;32m     86\u001b[0m         base_mapper,\n\u001b[0;32m     87\u001b[0m         uowtransaction,\n\u001b[1;32m   (...)\u001b[0m\n\u001b[0;32m     90\u001b[0m         update,\n\u001b[0;32m     91\u001b[0m     )\n\u001b[1;32m---> 93\u001b[0m     _emit_insert_statements(\n\u001b[0;32m     94\u001b[0m         base_mapper,\n\u001b[0;32m     95\u001b[0m         uowtransaction,\n\u001b[0;32m     96\u001b[0m         mapper,\n\u001b[0;32m     97\u001b[0m         table,\n\u001b[0;32m     98\u001b[0m         insert,\n\u001b[0;32m     99\u001b[0m     )\n\u001b[0;32m    101\u001b[0m _finalize_insert_update_commands(\n\u001b[0;32m    102\u001b[0m     base_mapper,\n\u001b[0;32m    103\u001b[0m     uowtransaction,\n\u001b[1;32m   (...)\u001b[0m\n\u001b[0;32m    119\u001b[0m     ),\n\u001b[0;32m    120\u001b[0m )\n",
      "File \u001b[1;32m~\\anaconda3\\Lib\\site-packages\\sqlalchemy\\orm\\persistence.py:1143\u001b[0m, in \u001b[0;36m_emit_insert_statements\u001b[1;34m(base_mapper, uowtransaction, mapper, table, insert, bookkeeping, use_orm_insert_stmt, execution_options)\u001b[0m\n\u001b[0;32m   1140\u001b[0m \u001b[38;5;28;01mif\u001b[39;00m do_executemany:\n\u001b[0;32m   1141\u001b[0m     multiparams \u001b[38;5;241m=\u001b[39m [rec[\u001b[38;5;241m2\u001b[39m] \u001b[38;5;28;01mfor\u001b[39;00m rec \u001b[38;5;129;01min\u001b[39;00m records]\n\u001b[1;32m-> 1143\u001b[0m     result \u001b[38;5;241m=\u001b[39m connection\u001b[38;5;241m.\u001b[39mexecute(\n\u001b[0;32m   1144\u001b[0m         statement, multiparams, execution_options\u001b[38;5;241m=\u001b[39mexecution_options\n\u001b[0;32m   1145\u001b[0m     )\n\u001b[0;32m   1147\u001b[0m     \u001b[38;5;28;01mif\u001b[39;00m use_orm_insert_stmt \u001b[38;5;129;01mis\u001b[39;00m \u001b[38;5;129;01mnot\u001b[39;00m \u001b[38;5;28;01mNone\u001b[39;00m:\n\u001b[0;32m   1148\u001b[0m         \u001b[38;5;28;01mif\u001b[39;00m return_result \u001b[38;5;129;01mis\u001b[39;00m \u001b[38;5;28;01mNone\u001b[39;00m:\n",
      "File \u001b[1;32m~\\anaconda3\\Lib\\site-packages\\sqlalchemy\\engine\\base.py:1418\u001b[0m, in \u001b[0;36mConnection.execute\u001b[1;34m(self, statement, parameters, execution_options)\u001b[0m\n\u001b[0;32m   1416\u001b[0m     \u001b[38;5;28;01mraise\u001b[39;00m exc\u001b[38;5;241m.\u001b[39mObjectNotExecutableError(statement) \u001b[38;5;28;01mfrom\u001b[39;00m \u001b[38;5;21;01merr\u001b[39;00m\n\u001b[0;32m   1417\u001b[0m \u001b[38;5;28;01melse\u001b[39;00m:\n\u001b[1;32m-> 1418\u001b[0m     \u001b[38;5;28;01mreturn\u001b[39;00m meth(\n\u001b[0;32m   1419\u001b[0m         \u001b[38;5;28mself\u001b[39m,\n\u001b[0;32m   1420\u001b[0m         distilled_parameters,\n\u001b[0;32m   1421\u001b[0m         execution_options \u001b[38;5;129;01mor\u001b[39;00m NO_OPTIONS,\n\u001b[0;32m   1422\u001b[0m     )\n",
      "File \u001b[1;32m~\\anaconda3\\Lib\\site-packages\\sqlalchemy\\sql\\elements.py:515\u001b[0m, in \u001b[0;36mClauseElement._execute_on_connection\u001b[1;34m(self, connection, distilled_params, execution_options)\u001b[0m\n\u001b[0;32m    513\u001b[0m     \u001b[38;5;28;01mif\u001b[39;00m TYPE_CHECKING:\n\u001b[0;32m    514\u001b[0m         \u001b[38;5;28;01massert\u001b[39;00m \u001b[38;5;28misinstance\u001b[39m(\u001b[38;5;28mself\u001b[39m, Executable)\n\u001b[1;32m--> 515\u001b[0m     \u001b[38;5;28;01mreturn\u001b[39;00m connection\u001b[38;5;241m.\u001b[39m_execute_clauseelement(\n\u001b[0;32m    516\u001b[0m         \u001b[38;5;28mself\u001b[39m, distilled_params, execution_options\n\u001b[0;32m    517\u001b[0m     )\n\u001b[0;32m    518\u001b[0m \u001b[38;5;28;01melse\u001b[39;00m:\n\u001b[0;32m    519\u001b[0m     \u001b[38;5;28;01mraise\u001b[39;00m exc\u001b[38;5;241m.\u001b[39mObjectNotExecutableError(\u001b[38;5;28mself\u001b[39m)\n",
      "File \u001b[1;32m~\\anaconda3\\Lib\\site-packages\\sqlalchemy\\engine\\base.py:1640\u001b[0m, in \u001b[0;36mConnection._execute_clauseelement\u001b[1;34m(self, elem, distilled_parameters, execution_options)\u001b[0m\n\u001b[0;32m   1628\u001b[0m compiled_cache: Optional[CompiledCacheType] \u001b[38;5;241m=\u001b[39m execution_options\u001b[38;5;241m.\u001b[39mget(\n\u001b[0;32m   1629\u001b[0m     \u001b[38;5;124m\"\u001b[39m\u001b[38;5;124mcompiled_cache\u001b[39m\u001b[38;5;124m\"\u001b[39m, \u001b[38;5;28mself\u001b[39m\u001b[38;5;241m.\u001b[39mengine\u001b[38;5;241m.\u001b[39m_compiled_cache\n\u001b[0;32m   1630\u001b[0m )\n\u001b[0;32m   1632\u001b[0m compiled_sql, extracted_params, cache_hit \u001b[38;5;241m=\u001b[39m elem\u001b[38;5;241m.\u001b[39m_compile_w_cache(\n\u001b[0;32m   1633\u001b[0m     dialect\u001b[38;5;241m=\u001b[39mdialect,\n\u001b[0;32m   1634\u001b[0m     compiled_cache\u001b[38;5;241m=\u001b[39mcompiled_cache,\n\u001b[1;32m   (...)\u001b[0m\n\u001b[0;32m   1638\u001b[0m     linting\u001b[38;5;241m=\u001b[39m\u001b[38;5;28mself\u001b[39m\u001b[38;5;241m.\u001b[39mdialect\u001b[38;5;241m.\u001b[39mcompiler_linting \u001b[38;5;241m|\u001b[39m compiler\u001b[38;5;241m.\u001b[39mWARN_LINTING,\n\u001b[0;32m   1639\u001b[0m )\n\u001b[1;32m-> 1640\u001b[0m ret \u001b[38;5;241m=\u001b[39m \u001b[38;5;28mself\u001b[39m\u001b[38;5;241m.\u001b[39m_execute_context(\n\u001b[0;32m   1641\u001b[0m     dialect,\n\u001b[0;32m   1642\u001b[0m     dialect\u001b[38;5;241m.\u001b[39mexecution_ctx_cls\u001b[38;5;241m.\u001b[39m_init_compiled,\n\u001b[0;32m   1643\u001b[0m     compiled_sql,\n\u001b[0;32m   1644\u001b[0m     distilled_parameters,\n\u001b[0;32m   1645\u001b[0m     execution_options,\n\u001b[0;32m   1646\u001b[0m     compiled_sql,\n\u001b[0;32m   1647\u001b[0m     distilled_parameters,\n\u001b[0;32m   1648\u001b[0m     elem,\n\u001b[0;32m   1649\u001b[0m     extracted_params,\n\u001b[0;32m   1650\u001b[0m     cache_hit\u001b[38;5;241m=\u001b[39mcache_hit,\n\u001b[0;32m   1651\u001b[0m )\n\u001b[0;32m   1652\u001b[0m \u001b[38;5;28;01mif\u001b[39;00m has_events:\n\u001b[0;32m   1653\u001b[0m     \u001b[38;5;28mself\u001b[39m\u001b[38;5;241m.\u001b[39mdispatch\u001b[38;5;241m.\u001b[39mafter_execute(\n\u001b[0;32m   1654\u001b[0m         \u001b[38;5;28mself\u001b[39m,\n\u001b[0;32m   1655\u001b[0m         elem,\n\u001b[1;32m   (...)\u001b[0m\n\u001b[0;32m   1659\u001b[0m         ret,\n\u001b[0;32m   1660\u001b[0m     )\n",
      "File \u001b[1;32m~\\anaconda3\\Lib\\site-packages\\sqlalchemy\\engine\\base.py:1844\u001b[0m, in \u001b[0;36mConnection._execute_context\u001b[1;34m(self, dialect, constructor, statement, parameters, execution_options, *args, **kw)\u001b[0m\n\u001b[0;32m   1841\u001b[0m context\u001b[38;5;241m.\u001b[39mpre_exec()\n\u001b[0;32m   1843\u001b[0m \u001b[38;5;28;01mif\u001b[39;00m context\u001b[38;5;241m.\u001b[39mexecute_style \u001b[38;5;129;01mis\u001b[39;00m ExecuteStyle\u001b[38;5;241m.\u001b[39mINSERTMANYVALUES:\n\u001b[1;32m-> 1844\u001b[0m     \u001b[38;5;28;01mreturn\u001b[39;00m \u001b[38;5;28mself\u001b[39m\u001b[38;5;241m.\u001b[39m_exec_insertmany_context(dialect, context)\n\u001b[0;32m   1845\u001b[0m \u001b[38;5;28;01melse\u001b[39;00m:\n\u001b[0;32m   1846\u001b[0m     \u001b[38;5;28;01mreturn\u001b[39;00m \u001b[38;5;28mself\u001b[39m\u001b[38;5;241m.\u001b[39m_exec_single_context(\n\u001b[0;32m   1847\u001b[0m         dialect, context, statement, parameters\n\u001b[0;32m   1848\u001b[0m     )\n",
      "File \u001b[1;32m~\\anaconda3\\Lib\\site-packages\\sqlalchemy\\engine\\base.py:2124\u001b[0m, in \u001b[0;36mConnection._exec_insertmany_context\u001b[1;34m(self, dialect, context)\u001b[0m\n\u001b[0;32m   2116\u001b[0m         dialect\u001b[38;5;241m.\u001b[39mdo_execute(\n\u001b[0;32m   2117\u001b[0m             cursor,\n\u001b[0;32m   2118\u001b[0m             sub_stmt,\n\u001b[0;32m   2119\u001b[0m             sub_params,\n\u001b[0;32m   2120\u001b[0m             context,\n\u001b[0;32m   2121\u001b[0m         )\n\u001b[0;32m   2123\u001b[0m \u001b[38;5;28;01mexcept\u001b[39;00m \u001b[38;5;167;01mBaseException\u001b[39;00m \u001b[38;5;28;01mas\u001b[39;00m e:\n\u001b[1;32m-> 2124\u001b[0m     \u001b[38;5;28mself\u001b[39m\u001b[38;5;241m.\u001b[39m_handle_dbapi_exception(\n\u001b[0;32m   2125\u001b[0m         e,\n\u001b[0;32m   2126\u001b[0m         sql_util\u001b[38;5;241m.\u001b[39m_long_statement(sub_stmt),\n\u001b[0;32m   2127\u001b[0m         sub_params,\n\u001b[0;32m   2128\u001b[0m         cursor,\n\u001b[0;32m   2129\u001b[0m         context,\n\u001b[0;32m   2130\u001b[0m         is_sub_exec\u001b[38;5;241m=\u001b[39m\u001b[38;5;28;01mTrue\u001b[39;00m,\n\u001b[0;32m   2131\u001b[0m     )\n\u001b[0;32m   2133\u001b[0m \u001b[38;5;28;01mif\u001b[39;00m engine_events:\n\u001b[0;32m   2134\u001b[0m     \u001b[38;5;28mself\u001b[39m\u001b[38;5;241m.\u001b[39mdispatch\u001b[38;5;241m.\u001b[39mafter_cursor_execute(\n\u001b[0;32m   2135\u001b[0m         \u001b[38;5;28mself\u001b[39m,\n\u001b[0;32m   2136\u001b[0m         cursor,\n\u001b[1;32m   (...)\u001b[0m\n\u001b[0;32m   2140\u001b[0m         context\u001b[38;5;241m.\u001b[39mexecutemany,\n\u001b[0;32m   2141\u001b[0m     )\n",
      "File \u001b[1;32m~\\anaconda3\\Lib\\site-packages\\sqlalchemy\\engine\\base.py:2353\u001b[0m, in \u001b[0;36mConnection._handle_dbapi_exception\u001b[1;34m(self, e, statement, parameters, cursor, context, is_sub_exec)\u001b[0m\n\u001b[0;32m   2351\u001b[0m \u001b[38;5;28;01melif\u001b[39;00m should_wrap:\n\u001b[0;32m   2352\u001b[0m     \u001b[38;5;28;01massert\u001b[39;00m sqlalchemy_exception \u001b[38;5;129;01mis\u001b[39;00m \u001b[38;5;129;01mnot\u001b[39;00m \u001b[38;5;28;01mNone\u001b[39;00m\n\u001b[1;32m-> 2353\u001b[0m     \u001b[38;5;28;01mraise\u001b[39;00m sqlalchemy_exception\u001b[38;5;241m.\u001b[39mwith_traceback(exc_info[\u001b[38;5;241m2\u001b[39m]) \u001b[38;5;28;01mfrom\u001b[39;00m \u001b[38;5;21;01me\u001b[39;00m\n\u001b[0;32m   2354\u001b[0m \u001b[38;5;28;01melse\u001b[39;00m:\n\u001b[0;32m   2355\u001b[0m     \u001b[38;5;28;01massert\u001b[39;00m exc_info[\u001b[38;5;241m1\u001b[39m] \u001b[38;5;129;01mis\u001b[39;00m \u001b[38;5;129;01mnot\u001b[39;00m \u001b[38;5;28;01mNone\u001b[39;00m\n",
      "File \u001b[1;32m~\\anaconda3\\Lib\\site-packages\\sqlalchemy\\engine\\base.py:2116\u001b[0m, in \u001b[0;36mConnection._exec_insertmany_context\u001b[1;34m(self, dialect, context)\u001b[0m\n\u001b[0;32m   2114\u001b[0m             \u001b[38;5;28;01mbreak\u001b[39;00m\n\u001b[0;32m   2115\u001b[0m     \u001b[38;5;28;01melse\u001b[39;00m:\n\u001b[1;32m-> 2116\u001b[0m         dialect\u001b[38;5;241m.\u001b[39mdo_execute(\n\u001b[0;32m   2117\u001b[0m             cursor,\n\u001b[0;32m   2118\u001b[0m             sub_stmt,\n\u001b[0;32m   2119\u001b[0m             sub_params,\n\u001b[0;32m   2120\u001b[0m             context,\n\u001b[0;32m   2121\u001b[0m         )\n\u001b[0;32m   2123\u001b[0m \u001b[38;5;28;01mexcept\u001b[39;00m \u001b[38;5;167;01mBaseException\u001b[39;00m \u001b[38;5;28;01mas\u001b[39;00m e:\n\u001b[0;32m   2124\u001b[0m     \u001b[38;5;28mself\u001b[39m\u001b[38;5;241m.\u001b[39m_handle_dbapi_exception(\n\u001b[0;32m   2125\u001b[0m         e,\n\u001b[0;32m   2126\u001b[0m         sql_util\u001b[38;5;241m.\u001b[39m_long_statement(sub_stmt),\n\u001b[1;32m   (...)\u001b[0m\n\u001b[0;32m   2130\u001b[0m         is_sub_exec\u001b[38;5;241m=\u001b[39m\u001b[38;5;28;01mTrue\u001b[39;00m,\n\u001b[0;32m   2131\u001b[0m     )\n",
      "File \u001b[1;32m~\\anaconda3\\Lib\\site-packages\\sqlalchemy\\engine\\default.py:924\u001b[0m, in \u001b[0;36mDefaultDialect.do_execute\u001b[1;34m(self, cursor, statement, parameters, context)\u001b[0m\n\u001b[0;32m    923\u001b[0m \u001b[38;5;28;01mdef\u001b[39;00m \u001b[38;5;21mdo_execute\u001b[39m(\u001b[38;5;28mself\u001b[39m, cursor, statement, parameters, context\u001b[38;5;241m=\u001b[39m\u001b[38;5;28;01mNone\u001b[39;00m):\n\u001b[1;32m--> 924\u001b[0m     cursor\u001b[38;5;241m.\u001b[39mexecute(statement, parameters)\n",
      "\u001b[1;31mOperationalError\u001b[0m: (sqlite3.OperationalError) table products has no column named user_id\n[SQL: INSERT INTO products (name, price, quantity, user_id) VALUES (?, ?, ?, ?) RETURNING id]\n[parameters: ('Laptop', 1200.5, 10, 3)]\n(Background on this error at: https://sqlalche.me/e/20/e3q8)"
     ]
    }
   ],
   "source": [
    "# Создаем пользователя\n",
    "user = User(name=\"John\", age=28)\n",
    "session.add(user)\n",
    "session.commit()\n",
    "\n",
    "# Создаем товары и связываем их с пользователем\n",
    "product1 = Product(name=\"Laptop\", price=1200.50, quantity=10, user_id=user.id)\n",
    "product2 = Product(name=\"Smartphone\", price=800.00, quantity=15, user_id=user.id)\n",
    "\n",
    "session.add(product1)\n",
    "session.add(product2)\n",
    "session.commit()\n",
    "\n",
    "# Получаем все товары пользователя\n",
    "user_products = session.query(Product).filter(Product.user_id == user.id).all()\n",
    "for product in user_products:\n",
    "    print(product)"
   ]
  },
  {
   "cell_type": "markdown",
   "id": "5d4fde9c-a4ae-4ce7-8247-8425ba61c9e2",
   "metadata": {},
   "source": [
    "### 2.3.2.Создание и миграция таблиц"
   ]
  },
  {
   "cell_type": "markdown",
   "id": "ea13491e-df1c-44d9-901c-32ee187e639b",
   "metadata": {},
   "source": [
    "### 2.3.3.Запросы с использованием ORM"
   ]
  },
  {
   "cell_type": "markdown",
   "id": "8671bdb9-3819-41e4-97ae-7577d7e6233b",
   "metadata": {},
   "source": [
    "### 2.3.4.To-Do List с использованием SQLAlchemy"
   ]
  }
 ],
 "metadata": {
  "kernelspec": {
   "display_name": "Python 3 (ipykernel)",
   "language": "python",
   "name": "python3"
  },
  "language_info": {
   "codemirror_mode": {
    "name": "ipython",
    "version": 3
   },
   "file_extension": ".py",
   "mimetype": "text/x-python",
   "name": "python",
   "nbconvert_exporter": "python",
   "pygments_lexer": "ipython3",
   "version": "3.12.4"
  }
 },
 "nbformat": 4,
 "nbformat_minor": 5
}
