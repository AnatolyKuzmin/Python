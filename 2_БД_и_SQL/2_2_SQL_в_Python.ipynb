{
 "cells": [
  {
   "cell_type": "markdown",
   "id": "7ba56bee-a345-4671-a2a1-f93894de941e",
   "metadata": {},
   "source": [
    "## 2.2.1.Модуль sqlite3 для работы с SQLite."
   ]
  },
  {
   "cell_type": "markdown",
   "id": "2262dbc7-bbf2-443f-9311-bf30ecee9703",
   "metadata": {},
   "source": [
    "## 2.2.2.Создание и управление базой данных."
   ]
  },
  {
   "cell_type": "markdown",
   "id": "f7ec53e3-4ae8-4e90-a492-c2267bee4738",
   "metadata": {},
   "source": [
    "## 2.2.3.Выполнение запросов и обработка результатов."
   ]
  },
  {
   "cell_type": "markdown",
   "id": "e5c822e0-1996-412b-88c8-4a67cdf16ae1",
   "metadata": {},
   "source": [
    "## 2.2.4.Практика: создание базы данных для To-Do List."
   ]
  }
 ],
 "metadata": {
  "kernelspec": {
   "display_name": "Python 3 (ipykernel)",
   "language": "python",
   "name": "python3"
  },
  "language_info": {
   "codemirror_mode": {
    "name": "ipython",
    "version": 3
   },
   "file_extension": ".py",
   "mimetype": "text/x-python",
   "name": "python",
   "nbconvert_exporter": "python",
   "pygments_lexer": "ipython3",
   "version": "3.12.4"
  }
 },
 "nbformat": 4,
 "nbformat_minor": 5
}
