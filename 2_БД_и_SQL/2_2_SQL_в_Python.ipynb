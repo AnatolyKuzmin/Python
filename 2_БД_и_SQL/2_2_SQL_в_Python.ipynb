{
 "cells": [
  {
   "cell_type": "markdown",
   "id": "7ba56bee-a345-4671-a2a1-f93894de941e",
   "metadata": {},
   "source": [
    "## 2.2.1.Модуль sqlite3 для работы с SQLite."
   ]
  },
  {
   "cell_type": "markdown",
   "id": "d4bec6d5-5198-4e69-8b4b-f8de4eec8bf4",
   "metadata": {},
   "source": [
    "**SQLite** — это встраиваемая реляционная база данных, которая хранится в одном файле.\n",
    "В Python для работы с SQLite используется модуль sqlite3"
   ]
  },
  {
   "cell_type": "code",
   "execution_count": 3,
   "id": "394f549a-86fa-4e58-b9e5-49378b10ec1a",
   "metadata": {},
   "outputs": [],
   "source": [
    "import sqlite3"
   ]
  },
  {
   "cell_type": "code",
   "execution_count": 4,
   "id": "964aaefc-2faf-413f-a766-92edb0ca8c66",
   "metadata": {},
   "outputs": [
    {
     "name": "stdout",
     "output_type": "stream",
     "text": [
      "(1, 'Иван', 20, 'Python')\n",
      "(2, 'Петр', 22, 'JavaScript')\n",
      "(3, 'Мария', 21, 'Python')\n",
      "(4, 'Иван', 20, 'Python')\n",
      "(5, 'Петр', 22, 'JavaScript')\n",
      "(6, 'Мария', 21, 'Python')\n"
     ]
    }
   ],
   "source": [
    "# Подключение к БД (или создание новой)\n",
    "conn = sqlite3.connect('example.db')\n",
    "\n",
    "# Курсор используется для выполнения SQL-запросов\n",
    "cursor = conn.cursor()\n",
    "\n",
    "# создание таблицы\n",
    "cursor.execute('''\n",
    "CREATE TABLE IF NOT EXISTS students (\n",
    "    id INTEGER PRIMARY KEY AUTOINCREMENT,\n",
    "    name TEXT NOT NULL,\n",
    "    age INTEGER,\n",
    "    course TEXT\n",
    ")\n",
    "''')\n",
    "\n",
    "# Вставка данных\n",
    "cursor.execute(\"INSERT INTO students (name, age, course) VALUES ('Иван', 20, 'Python')\")\n",
    "cursor.execute(\"INSERT INTO students (name, age, course) VALUES ('Петр', 22, 'JavaScript')\")\n",
    "cursor.execute(\"INSERT INTO students (name, age, course) VALUES ('Мария', 21, 'Python')\")\n",
    "\n",
    "# Сохранение изменений\n",
    "conn.commit()\n",
    "\n",
    "# Выборка данных\n",
    "cursor.execute(\"SELECT * FROM students\")\n",
    "rows = cursor.fetchall()\n",
    "for row in rows:\n",
    "    print(row)\n",
    "\n",
    "# Закрытие соединения\n",
    "conn.close()"
   ]
  },
  {
   "cell_type": "markdown",
   "id": "ef7dc09b-4981-44e2-8bbf-93fd24e30b4d",
   "metadata": {},
   "source": [
    "### практика"
   ]
  },
  {
   "cell_type": "markdown",
   "id": "a7260260-8c80-43bb-9a5a-3a0d874111b0",
   "metadata": {},
   "source": [
    "Создадим таблицу employees с колонками id, name, position и salary. Вставьте данные о нескольких сотрудниках."
   ]
  },
  {
   "cell_type": "code",
   "execution_count": 7,
   "id": "8c4f7c27-3860-4340-8739-664287e62890",
   "metadata": {},
   "outputs": [
    {
     "name": "stdout",
     "output_type": "stream",
     "text": [
      "(1, 'Иван Иванов', 'Разработчик', 100000)\n",
      "(2, 'Петр Петров', 'Менеджер', 120000)\n",
      "(4, 'Иван Иванов', 'Разработчик', 100000)\n",
      "(5, 'Петр Петров', 'Менеджер', 120000)\n",
      "(6, 'Мария Сидорова', 'Дизайнер', 90000)\n"
     ]
    }
   ],
   "source": [
    "# Подключение к базе данных\n",
    "conn = sqlite3.connect('company.db')\n",
    "cursor = conn.cursor()\n",
    "\n",
    "# Создание таблицы\n",
    "cursor.execute('''\n",
    "CREATE TABLE IF NOT EXISTS employees (\n",
    "    id INTEGER PRIMARY KEY AUTOINCREMENT,\n",
    "    name TEXT NOT NULL,\n",
    "    position TEXT,\n",
    "    salary INTEGER\n",
    ")\n",
    "''')\n",
    "\n",
    "# Вставка данных\n",
    "cursor.execute(\"INSERT INTO employees (name, position, salary) VALUES ('Иван Иванов', 'Разработчик', 100000)\")\n",
    "cursor.execute(\"INSERT INTO employees (name, position, salary) VALUES ('Петр Петров', 'Менеджер', 120000)\")\n",
    "cursor.execute(\"INSERT INTO employees (name, position, salary) VALUES ('Мария Сидорова', 'Дизайнер', 90000)\")\n",
    "\n",
    "# Сохранение изминений\n",
    "conn.commit()\n",
    "\n",
    "# Выборка данных\n",
    "cursor.execute(\"SELECT * FROM employees\")\n",
    "rows = cursor.fetchall()\n",
    "for row in rows:\n",
    "    print(row)\n",
    "\n",
    "# Закрытие соединения\n",
    "conn.close()"
   ]
  },
  {
   "cell_type": "code",
   "execution_count": 8,
   "id": "f1ca3536-bdf5-4dfb-9694-78d3bafd9fce",
   "metadata": {},
   "outputs": [
    {
     "name": "stdout",
     "output_type": "stream",
     "text": [
      "(2, 'Петр Петров', 'Менеджер', 120000)\n",
      "(5, 'Петр Петров', 'Менеджер', 120000)\n"
     ]
    }
   ],
   "source": [
    "conn = sqlite3.connect('company.db')\n",
    "cursor = conn.cursor()\n",
    "\n",
    "cursor.execute(\"SELECT * FROM employees WHERE salary > 100000\")\n",
    "rows = cursor.fetchall()\n",
    "for row in rows:\n",
    "    print(row)\n",
    "    \n",
    "conn.close()"
   ]
  },
  {
   "cell_type": "markdown",
   "id": "55d8f5c2-c432-4ec2-bd10-099cfee2073a",
   "metadata": {},
   "source": [
    "Обновление данных"
   ]
  },
  {
   "cell_type": "code",
   "execution_count": 10,
   "id": "fff2868f-2d0e-4c28-91ec-a07ba9d806ad",
   "metadata": {},
   "outputs": [
    {
     "name": "stdout",
     "output_type": "stream",
     "text": [
      "(1, 'Иван Иванов', 'Разработчик', 110000)\n",
      "(2, 'Петр Петров', 'Менеджер', 120000)\n",
      "(4, 'Иван Иванов', 'Разработчик', 110000)\n",
      "(5, 'Петр Петров', 'Менеджер', 120000)\n",
      "(6, 'Мария Сидорова', 'Дизайнер', 90000)\n"
     ]
    }
   ],
   "source": [
    "# Обновить зарплату сотрудника с именем \"Иван Иванов\" до 110000\n",
    "\n",
    "# Подключение к базе данных\n",
    "conn = sqlite3.connect('company.db')\n",
    "cursor = conn.cursor()\n",
    "\n",
    "# Обновление данных\n",
    "cursor.execute(\"UPDATE employees SET salary = 110000 WHERE name = 'Иван Иванов'\")\n",
    "\n",
    "# Сохранение изменений\n",
    "conn.commit()\n",
    "\n",
    "# Выборка данных\n",
    "cursor.execute(\"SELECT * FROM employees\")\n",
    "rows = cursor.fetchall()\n",
    "for row in rows:\n",
    "    print(row)\n",
    "\n",
    "# Закрытие соединения\n",
    "conn.close()"
   ]
  },
  {
   "cell_type": "markdown",
   "id": "907db728-7fcd-48b0-9729-bb46e5641e47",
   "metadata": {},
   "source": [
    "Удаление данных"
   ]
  },
  {
   "cell_type": "code",
   "execution_count": 12,
   "id": "cd3d770e-13e3-4b61-8390-0e9a848068cc",
   "metadata": {},
   "outputs": [
    {
     "name": "stdout",
     "output_type": "stream",
     "text": [
      "(1, 'Иван Иванов', 'Разработчик', 110000)\n",
      "(2, 'Петр Петров', 'Менеджер', 120000)\n",
      "(4, 'Иван Иванов', 'Разработчик', 110000)\n",
      "(5, 'Петр Петров', 'Менеджер', 120000)\n"
     ]
    }
   ],
   "source": [
    "# Удалить сотрудника с именем \"Мария Сидорова\"\n",
    "# Подключение к базе данных\n",
    "conn = sqlite3.connect('company.db')\n",
    "cursor = conn.cursor()\n",
    "\n",
    "# Удаление данных\n",
    "cursor.execute(\"DELETE FROM employees WHERE name = 'Мария Сидорова'\")\n",
    "\n",
    "# Сохранение изменений\n",
    "conn.commit()\n",
    "\n",
    "# Выборка данных\n",
    "cursor.execute(\"SELECT * FROM employees\")\n",
    "rows = cursor.fetchall()\n",
    "for row in rows:\n",
    "    print(row)\n",
    "\n",
    "# Закрытие соединения\n",
    "conn.close()"
   ]
  },
  {
   "cell_type": "markdown",
   "id": "2262dbc7-bbf2-443f-9311-bf30ecee9703",
   "metadata": {},
   "source": [
    "## 2.2.2.Создание и управление базой данных."
   ]
  },
  {
   "cell_type": "markdown",
   "id": "f7ec53e3-4ae8-4e90-a492-c2267bee4738",
   "metadata": {},
   "source": [
    "## 2.2.3.Выполнение запросов и обработка результатов."
   ]
  },
  {
   "cell_type": "markdown",
   "id": "e5c822e0-1996-412b-88c8-4a67cdf16ae1",
   "metadata": {},
   "source": [
    "## 2.2.4.Практика: создание базы данных для To-Do List."
   ]
  }
 ],
 "metadata": {
  "kernelspec": {
   "display_name": "Python 3 (ipykernel)",
   "language": "python",
   "name": "python3"
  },
  "language_info": {
   "codemirror_mode": {
    "name": "ipython",
    "version": 3
   },
   "file_extension": ".py",
   "mimetype": "text/x-python",
   "name": "python",
   "nbconvert_exporter": "python",
   "pygments_lexer": "ipython3",
   "version": "3.12.4"
  }
 },
 "nbformat": 4,
 "nbformat_minor": 5
}
