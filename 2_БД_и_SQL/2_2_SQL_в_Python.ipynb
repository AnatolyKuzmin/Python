{
 "cells": [
  {
   "cell_type": "markdown",
   "id": "7ba56bee-a345-4671-a2a1-f93894de941e",
   "metadata": {
    "jp-MarkdownHeadingCollapsed": true
   },
   "source": [
    "## 2.2.1.Модуль sqlite3 для работы с SQLite."
   ]
  },
  {
   "cell_type": "markdown",
   "id": "d4bec6d5-5198-4e69-8b4b-f8de4eec8bf4",
   "metadata": {},
   "source": [
    "**SQLite** — это встраиваемая реляционная база данных, которая хранится в одном файле.\n",
    "В Python для работы с SQLite используется модуль sqlite3"
   ]
  },
  {
   "cell_type": "code",
   "execution_count": 1,
   "id": "394f549a-86fa-4e58-b9e5-49378b10ec1a",
   "metadata": {},
   "outputs": [],
   "source": [
    "import sqlite3"
   ]
  },
  {
   "cell_type": "code",
   "execution_count": 4,
   "id": "964aaefc-2faf-413f-a766-92edb0ca8c66",
   "metadata": {},
   "outputs": [
    {
     "name": "stdout",
     "output_type": "stream",
     "text": [
      "(1, 'Иван', 20, 'Python')\n",
      "(2, 'Петр', 22, 'JavaScript')\n",
      "(3, 'Мария', 21, 'Python')\n",
      "(4, 'Иван', 20, 'Python')\n",
      "(5, 'Петр', 22, 'JavaScript')\n",
      "(6, 'Мария', 21, 'Python')\n"
     ]
    }
   ],
   "source": [
    "# Подключение к БД (или создание новой)\n",
    "conn = sqlite3.connect('example.db')\n",
    "\n",
    "# Курсор используется для выполнения SQL-запросов\n",
    "cursor = conn.cursor()\n",
    "\n",
    "# создание таблицы\n",
    "cursor.execute('''\n",
    "CREATE TABLE IF NOT EXISTS students (\n",
    "    id INTEGER PRIMARY KEY AUTOINCREMENT,\n",
    "    name TEXT NOT NULL,\n",
    "    age INTEGER,\n",
    "    course TEXT\n",
    ")\n",
    "''')\n",
    "\n",
    "# Вставка данных\n",
    "cursor.execute(\"INSERT INTO students (name, age, course) VALUES ('Иван', 20, 'Python')\")\n",
    "cursor.execute(\"INSERT INTO students (name, age, course) VALUES ('Петр', 22, 'JavaScript')\")\n",
    "cursor.execute(\"INSERT INTO students (name, age, course) VALUES ('Мария', 21, 'Python')\")\n",
    "\n",
    "# Сохранение изменений\n",
    "conn.commit()\n",
    "\n",
    "# Выборка данных\n",
    "cursor.execute(\"SELECT * FROM students\")\n",
    "rows = cursor.fetchall()\n",
    "for row in rows:\n",
    "    print(row)\n",
    "\n",
    "# Закрытие соединения\n",
    "conn.close()"
   ]
  },
  {
   "cell_type": "markdown",
   "id": "ef7dc09b-4981-44e2-8bbf-93fd24e30b4d",
   "metadata": {},
   "source": [
    "### практика"
   ]
  },
  {
   "cell_type": "markdown",
   "id": "a7260260-8c80-43bb-9a5a-3a0d874111b0",
   "metadata": {},
   "source": [
    "Создадим таблицу employees с колонками id, name, position и salary. Вставьте данные о нескольких сотрудниках."
   ]
  },
  {
   "cell_type": "code",
   "execution_count": 7,
   "id": "8c4f7c27-3860-4340-8739-664287e62890",
   "metadata": {},
   "outputs": [
    {
     "name": "stdout",
     "output_type": "stream",
     "text": [
      "(1, 'Иван Иванов', 'Разработчик', 100000)\n",
      "(2, 'Петр Петров', 'Менеджер', 120000)\n",
      "(4, 'Иван Иванов', 'Разработчик', 100000)\n",
      "(5, 'Петр Петров', 'Менеджер', 120000)\n",
      "(6, 'Мария Сидорова', 'Дизайнер', 90000)\n"
     ]
    }
   ],
   "source": [
    "# Подключение к базе данных\n",
    "conn = sqlite3.connect('company.db')\n",
    "cursor = conn.cursor()\n",
    "\n",
    "# Создание таблицы\n",
    "cursor.execute('''\n",
    "CREATE TABLE IF NOT EXISTS employees (\n",
    "    id INTEGER PRIMARY KEY AUTOINCREMENT,\n",
    "    name TEXT NOT NULL,\n",
    "    position TEXT,\n",
    "    salary INTEGER\n",
    ")\n",
    "''')\n",
    "\n",
    "# Вставка данных\n",
    "cursor.execute(\"INSERT INTO employees (name, position, salary) VALUES ('Иван Иванов', 'Разработчик', 100000)\")\n",
    "cursor.execute(\"INSERT INTO employees (name, position, salary) VALUES ('Петр Петров', 'Менеджер', 120000)\")\n",
    "cursor.execute(\"INSERT INTO employees (name, position, salary) VALUES ('Мария Сидорова', 'Дизайнер', 90000)\")\n",
    "\n",
    "# Сохранение изминений\n",
    "conn.commit()\n",
    "\n",
    "# Выборка данных\n",
    "cursor.execute(\"SELECT * FROM employees\")\n",
    "rows = cursor.fetchall()\n",
    "for row in rows:\n",
    "    print(row)\n",
    "\n",
    "# Закрытие соединения\n",
    "conn.close()"
   ]
  },
  {
   "cell_type": "code",
   "execution_count": 8,
   "id": "f1ca3536-bdf5-4dfb-9694-78d3bafd9fce",
   "metadata": {},
   "outputs": [
    {
     "name": "stdout",
     "output_type": "stream",
     "text": [
      "(2, 'Петр Петров', 'Менеджер', 120000)\n",
      "(5, 'Петр Петров', 'Менеджер', 120000)\n"
     ]
    }
   ],
   "source": [
    "conn = sqlite3.connect('company.db')\n",
    "cursor = conn.cursor()\n",
    "\n",
    "cursor.execute(\"SELECT * FROM employees WHERE salary > 100000\")\n",
    "rows = cursor.fetchall()\n",
    "for row in rows:\n",
    "    print(row)\n",
    "    \n",
    "conn.close()"
   ]
  },
  {
   "cell_type": "markdown",
   "id": "55d8f5c2-c432-4ec2-bd10-099cfee2073a",
   "metadata": {},
   "source": [
    "Обновление данных"
   ]
  },
  {
   "cell_type": "code",
   "execution_count": 10,
   "id": "fff2868f-2d0e-4c28-91ec-a07ba9d806ad",
   "metadata": {},
   "outputs": [
    {
     "name": "stdout",
     "output_type": "stream",
     "text": [
      "(1, 'Иван Иванов', 'Разработчик', 110000)\n",
      "(2, 'Петр Петров', 'Менеджер', 120000)\n",
      "(4, 'Иван Иванов', 'Разработчик', 110000)\n",
      "(5, 'Петр Петров', 'Менеджер', 120000)\n",
      "(6, 'Мария Сидорова', 'Дизайнер', 90000)\n"
     ]
    }
   ],
   "source": [
    "# Обновить зарплату сотрудника с именем \"Иван Иванов\" до 110000\n",
    "\n",
    "# Подключение к базе данных\n",
    "conn = sqlite3.connect('company.db')\n",
    "cursor = conn.cursor()\n",
    "\n",
    "# Обновление данных\n",
    "cursor.execute(\"UPDATE employees SET salary = 110000 WHERE name = 'Иван Иванов'\")\n",
    "\n",
    "# Сохранение изменений\n",
    "conn.commit()\n",
    "\n",
    "# Выборка данных\n",
    "cursor.execute(\"SELECT * FROM employees\")\n",
    "rows = cursor.fetchall()\n",
    "for row in rows:\n",
    "    print(row)\n",
    "\n",
    "# Закрытие соединения\n",
    "conn.close()"
   ]
  },
  {
   "cell_type": "markdown",
   "id": "907db728-7fcd-48b0-9729-bb46e5641e47",
   "metadata": {},
   "source": [
    "Удаление данных"
   ]
  },
  {
   "cell_type": "code",
   "execution_count": 12,
   "id": "cd3d770e-13e3-4b61-8390-0e9a848068cc",
   "metadata": {},
   "outputs": [
    {
     "name": "stdout",
     "output_type": "stream",
     "text": [
      "(1, 'Иван Иванов', 'Разработчик', 110000)\n",
      "(2, 'Петр Петров', 'Менеджер', 120000)\n",
      "(4, 'Иван Иванов', 'Разработчик', 110000)\n",
      "(5, 'Петр Петров', 'Менеджер', 120000)\n"
     ]
    }
   ],
   "source": [
    "# Удалить сотрудника с именем \"Мария Сидорова\"\n",
    "# Подключение к базе данных\n",
    "conn = sqlite3.connect('company.db')\n",
    "cursor = conn.cursor()\n",
    "\n",
    "# Удаление данных\n",
    "cursor.execute(\"DELETE FROM employees WHERE name = 'Мария Сидорова'\")\n",
    "\n",
    "# Сохранение изменений\n",
    "conn.commit()\n",
    "\n",
    "# Выборка данных\n",
    "cursor.execute(\"SELECT * FROM employees\")\n",
    "rows = cursor.fetchall()\n",
    "for row in rows:\n",
    "    print(row)\n",
    "\n",
    "# Закрытие соединения\n",
    "conn.close()"
   ]
  },
  {
   "cell_type": "markdown",
   "id": "2262dbc7-bbf2-443f-9311-bf30ecee9703",
   "metadata": {
    "jp-MarkdownHeadingCollapsed": true
   },
   "source": [
    "## 2.2.2.Создание и управление базой данных."
   ]
  },
  {
   "cell_type": "markdown",
   "id": "fe949137-b22e-4d28-92b7-9d4c2baadf56",
   "metadata": {},
   "source": [
    "Основные типы данных:\n",
    "- ```INTEGER``` - целое число\n",
    "- ```REAL``` - число с плавающей точкой\n",
    "- ```TEXT``` - текстовая строка\n",
    "- ```BLOB``` - бинарные данные\n",
    "- ```NULL``` - значение NULL"
   ]
  },
  {
   "cell_type": "code",
   "execution_count": 14,
   "id": "367a33c1-6fa6-49e3-892d-cbf10398ac3f",
   "metadata": {},
   "outputs": [],
   "source": [
    "# Создадим таблицу products с колонками id, name, price и quantity.\n",
    "\n",
    "# Подключение к базе данных\n",
    "conn = sqlite3.connect('store.db')\n",
    "cursor = conn.cursor()\n",
    "\n",
    "# Создание таблицы\n",
    "cursor.execute('''\n",
    "CREATE TABLE IF NOT EXISTS products (\n",
    "    id INTEGER PRIMARY KEY AUTOINCREMENT,\n",
    "    name TEXT NOT NULL,\n",
    "    price REAL,\n",
    "    quantity INTEGER\n",
    ")\n",
    "''')\n",
    "\n",
    "# Сохранение изменений\n",
    "conn.commit()\n",
    "\n",
    "# Закрытие соединения\n",
    "conn.close()"
   ]
  },
  {
   "cell_type": "code",
   "execution_count": 6,
   "id": "ad29f410-cbdd-4439-9649-caa4015b845a",
   "metadata": {},
   "outputs": [],
   "source": [
    "# Добавим колонку category в таблицу products\n",
    "\n",
    "# Подключение к базе данных\n",
    "conn = sqlite3.connect('store.db')\n",
    "cursor = conn.cursor()\n",
    "\n",
    "# Создание новой таблицы без колонки category\n",
    "cursor.execute('''\n",
    "CREATE TABLE IF NOT EXISTS products_new (\n",
    "    id INTEGER PRIMARY KEY AUTOINCREMENT,\n",
    "    name TEXT NOT NULL,\n",
    "    price REAL,\n",
    "    quantity INTEGER\n",
    ")\n",
    "''')\n",
    "\n",
    "# Сохранение изменений\n",
    "conn.commit()\n",
    "\n",
    "# Закрытие соединения\n",
    "conn.close()"
   ]
  },
  {
   "cell_type": "markdown",
   "id": "5133b14d-2945-46f4-b09a-2337676452c4",
   "metadata": {},
   "source": [
    "SQLite не поддерживает прямое удаление колонок. Для удаления колонки необходимо создать новую таблицу без этой колонки, скопировать данные и удалить старую таблицу."
   ]
  },
  {
   "cell_type": "code",
   "execution_count": 9,
   "id": "9ffc3304-e583-4e45-bf49-73f6c9c38cf3",
   "metadata": {},
   "outputs": [],
   "source": [
    "# Удаление колонки\n",
    "\n",
    "# Подключение к базе данных\n",
    "conn = sqlite3.connect('store.db')\n",
    "cursor = conn.cursor()\n",
    "\n",
    "# Создание новой таблицы без колонки category\n",
    "cursor.execute('''\n",
    "CREATE TABLE IF NOT EXISTS products_new (\n",
    "    id INTEGER PRIMARY KEY AUTOINCREMENT,\n",
    "    name TEXT NOT NULL,\n",
    "    price REAL,\n",
    "    quantity INTEGER\n",
    ")\n",
    "''')\n",
    "\n",
    "# Копирование данных из старой таблицы в новую\n",
    "cursor.execute(\"INSERT INTO products_new (id, name, price, quantity) SELECT id, name, price, quantity FROM products\")\n",
    "\n",
    "# Удаление старой таблицы\n",
    "cursor.execute(\"DROP TABLE products\")\n",
    "\n",
    "# Переименование новой таблицы\n",
    "cursor.execute(\"ALTER TABLE products_new RENAME TO products\")\n",
    "\n",
    "# Сохранение изменений\n",
    "conn.commit()\n",
    "\n",
    "# Закрытие соединения\n",
    "conn.close()"
   ]
  },
  {
   "cell_type": "code",
   "execution_count": 11,
   "id": "3afb9acc-817b-441d-8308-0e6ab5d8fd12",
   "metadata": {},
   "outputs": [],
   "source": [
    "# Удаление таблицы\n",
    "# Подключение к базе данных\n",
    "conn = sqlite3.connect('store.db')\n",
    "cursor = conn.cursor()\n",
    "\n",
    "# Удаление таблицы\n",
    "cursor.execute(\"DROP TABLE products\")\n",
    "\n",
    "# Сохранение изменений\n",
    "conn.commit()\n",
    "\n",
    "# Закрытие соединения\n",
    "conn.close()"
   ]
  },
  {
   "cell_type": "markdown",
   "id": "087002e5-b513-4257-b624-3194989da8b0",
   "metadata": {},
   "source": [
    "Пример использования транзакций"
   ]
  },
  {
   "cell_type": "code",
   "execution_count": 16,
   "id": "aaa8c38a-f163-4873-8052-0dea189fe16e",
   "metadata": {},
   "outputs": [],
   "source": [
    "# Добавим несколько продуктов в таблицу products в рамках одной транзакции.\n",
    "\n",
    "# Подключение к базе данных\n",
    "conn = sqlite3.connect('store.db')\n",
    "cursor = conn.cursor()\n",
    "\n",
    "# Начало транзакции\n",
    "conn.execute(\"BEGIN\")\n",
    "\n",
    "try:\n",
    "    # Вставка данных\n",
    "    cursor.execute(\"INSERT INTO products (name, price, quantity) VALUES ('Ноутбук', 50000, 10)\")\n",
    "    cursor.execute(\"INSERT INTO products (name, price, quantity) VALUES ('Смартфон', 30000, 20)\")\n",
    "    cursor.execute(\"INSERT INTO products (name, price, quantity) VALUES ('Планшет', 25000, 15)\")\n",
    "\n",
    "    # Сохранение изменений\n",
    "    conn.commit()\n",
    "except sqlite3.Error as e:\n",
    "    # Откат изменений в случае ошибки\n",
    "    conn.rollback()\n",
    "    print(f\"Ошибка: {e}\")\n",
    "finally:\n",
    "    # Закрытие соединения\n",
    "    conn.close()"
   ]
  },
  {
   "cell_type": "markdown",
   "id": "c946dd66-c0cd-4b14-a7bc-0919721a04c3",
   "metadata": {},
   "source": [
    "#### Практика"
   ]
  },
  {
   "cell_type": "code",
   "execution_count": 19,
   "id": "ed73e631-b569-45b9-b945-ef6f86abc6d0",
   "metadata": {},
   "outputs": [
    {
     "name": "stdout",
     "output_type": "stream",
     "text": [
      "(1, 'Иван Иванов', 'Ноутбук', 1, '2023-10-01')\n",
      "(2, 'Петр Петров', 'Смартфон', 2, '2023-10-02')\n",
      "(3, 'Мария Сидорова', 'Планшет', 1, '2023-10-03')\n"
     ]
    }
   ],
   "source": [
    "# Подключение к базе данных\n",
    "conn = sqlite3.connect('store.db')\n",
    "cursor = conn.cursor()\n",
    "\n",
    "# Создание таблицы\n",
    "cursor.execute('''\n",
    "CREATE TABLE IF NOT EXISTS orders (\n",
    "    id INTEGER PRIMARY KEY AUTOINCREMENT,\n",
    "    customer_name TEXT NOT NULL,\n",
    "    product_name TEXT,\n",
    "    quantity INTEGER,\n",
    "    order_date TEXT\n",
    ")\n",
    "''')\n",
    "\n",
    "# Вставка данных\n",
    "cursor.execute(\"INSERT INTO orders (customer_name, product_name, quantity, order_date) VALUES ('Иван Иванов', 'Ноутбук', 1, '2023-10-01')\")\n",
    "cursor.execute(\"INSERT INTO orders (customer_name, product_name, quantity, order_date) VALUES ('Петр Петров', 'Смартфон', 2, '2023-10-02')\")\n",
    "cursor.execute(\"INSERT INTO orders (customer_name, product_name, quantity, order_date) VALUES ('Мария Сидорова', 'Планшет', 1, '2023-10-03')\")\n",
    "\n",
    "# Сохранение изменений\n",
    "conn.commit()\n",
    "\n",
    "# Выборка данных\n",
    "cursor.execute(\"SELECT * FROM orders\")\n",
    "rows = cursor.fetchall()\n",
    "for row in rows:\n",
    "    print(row)\n",
    "\n",
    "# Закрытие соединения\n",
    "conn.close()"
   ]
  },
  {
   "cell_type": "code",
   "execution_count": 21,
   "id": "69560737-7d25-44e9-ba50-3fefef1f38f3",
   "metadata": {},
   "outputs": [
    {
     "name": "stdout",
     "output_type": "stream",
     "text": [
      "(1, 'Иван Иванов', 'Ноутбук', 1, '2023-10-01')\n",
      "(2, 'Петр Петров', 'Смартфон', 3, '2023-10-02')\n",
      "(3, 'Мария Сидорова', 'Планшет', 1, '2023-10-03')\n"
     ]
    }
   ],
   "source": [
    "# Обновите количество товара в заказе с id = 2 до 3\n",
    "\n",
    "# Подключение к базе данных\n",
    "conn = sqlite3.connect('store.db')\n",
    "cursor = conn.cursor()\n",
    "\n",
    "# Обновление данных\n",
    "cursor.execute(\"UPDATE orders SET quantity = 3 WHERE id = 2\")\n",
    "\n",
    "# Сохранение изменений\n",
    "conn.commit()\n",
    "\n",
    "# Выборка данных\n",
    "cursor.execute(\"SELECT * FROM orders\")\n",
    "rows = cursor.fetchall()\n",
    "for row in rows:\n",
    "    print(row)\n",
    "\n",
    "# Закрытие соединения\n",
    "conn.close()"
   ]
  },
  {
   "cell_type": "code",
   "execution_count": 23,
   "id": "230a2641-655d-465d-a858-9da20ca97a37",
   "metadata": {},
   "outputs": [
    {
     "name": "stdout",
     "output_type": "stream",
     "text": [
      "(1, 'Иван Иванов', 'Ноутбук', 1, '2023-10-01')\n",
      "(2, 'Петр Петров', 'Смартфон', 3, '2023-10-02')\n"
     ]
    }
   ],
   "source": [
    "# Удалите заказ с id = 3\n",
    "\n",
    "# Подключение к базе данных\n",
    "conn = sqlite3.connect('store.db')\n",
    "cursor = conn.cursor()\n",
    "\n",
    "# Удаление данных\n",
    "cursor.execute(\"DELETE FROM orders WHERE id = 3\")\n",
    "\n",
    "# Сохранение изменений\n",
    "conn.commit()\n",
    "\n",
    "# Выборка данных\n",
    "cursor.execute(\"SELECT * FROM orders\")\n",
    "rows = cursor.fetchall()\n",
    "for row in rows:\n",
    "    print(row)\n",
    "\n",
    "# Закрытие соединения\n",
    "conn.close()"
   ]
  },
  {
   "cell_type": "markdown",
   "id": "f7ec53e3-4ae8-4e90-a492-c2267bee4738",
   "metadata": {},
   "source": [
    "## 2.2.3.Выполнение запросов и обработка результатов."
   ]
  },
  {
   "cell_type": "markdown",
   "id": "27cae823-fd1c-4935-8411-017d76307cd1",
   "metadata": {},
   "source": [
    "Простые запросы включают выборку данных (SELECT), вставку (INSERT), обновление (UPDATE) и удаление (DELETE)."
   ]
  },
  {
   "cell_type": "code",
   "execution_count": 7,
   "id": "eed5c87a-f87d-42c2-988a-c66252025b90",
   "metadata": {},
   "outputs": [
    {
     "name": "stdout",
     "output_type": "stream",
     "text": [
      "(1, 'Иван', 20, 'Python')\n",
      "(2, 'Петр', 22, 'JavaScript')\n",
      "(3, 'Мария', 21, 'Python')\n",
      "(4, 'Иван', 20, 'Python')\n",
      "(5, 'Петр', 22, 'JavaScript')\n",
      "(6, 'Мария', 21, 'Python')\n",
      "(7, 'Алексей', 23, 'Java')\n",
      "(8, 'Алексей', 23, 'Java')\n"
     ]
    }
   ],
   "source": [
    "# Выберем всех студентов из таблицы students.\n",
    "\n",
    "# Подключение к базе данных\n",
    "conn = sqlite3.connect('example.db')\n",
    "cursor = conn.cursor()\n",
    "\n",
    "# Выполнение запроса\n",
    "cursor.execute(\"SELECT * FROM students\")\n",
    "\n",
    "# Получение результата\n",
    "rows = cursor.fetchall()\n",
    "for row in rows:\n",
    "    print(row)\n",
    "\n",
    "# Закрытие соединения\n",
    "conn.close()"
   ]
  },
  {
   "cell_type": "markdown",
   "id": "7c339c70-9525-4c59-bd1e-5da08046c1a1",
   "metadata": {},
   "source": [
    "Методы для получения результатов:\n",
    "- ```fetchone()``` — возвращает одну строку результата.\n",
    "- ```fetchall()``` — возвращает все строки результата.\n",
    "- ```fetchmany(size)``` — возвращает указанное количество строк."
   ]
  },
  {
   "cell_type": "code",
   "execution_count": 12,
   "id": "00438eb9-8af8-4298-8fd8-150909ff5b5d",
   "metadata": {},
   "outputs": [
    {
     "name": "stdout",
     "output_type": "stream",
     "text": [
      "(1, 'Иван', 20, 'Python')\n",
      "[(2, 'Петр', 22, 'JavaScript'), (3, 'Мария', 21, 'Python')]\n"
     ]
    }
   ],
   "source": [
    "# Подключение к базе данных\n",
    "conn = sqlite3.connect('example.db')\n",
    "cursor = conn.cursor()\n",
    "\n",
    "# Выполнение запроса\n",
    "cursor.execute(\"SELECT * FROM students\")\n",
    "\n",
    "# Получение результата\n",
    "print(cursor.fetchone())\n",
    "print(cursor.fetchmany(2))\n",
    "\n",
    "# Закрытие соединения\n",
    "conn.close()"
   ]
  },
  {
   "cell_type": "markdown",
   "id": "18474bcc-3fba-401d-a3a6-6101a68eb202",
   "metadata": {},
   "source": [
    "Параметризованные запросы позволяют безопасно вставлять данные в SQL-запросы, избегая SQL-инъекций."
   ]
  },
  {
   "cell_type": "code",
   "execution_count": 5,
   "id": "37466e85-4391-4496-9adc-667a73a88dd4",
   "metadata": {},
   "outputs": [],
   "source": [
    "# Добавим нового студента в таблицу students\n",
    "\n",
    "# Подключение к базе данных\n",
    "conn = sqlite3.connect('example.db')\n",
    "cursor = conn.cursor()\n",
    "\n",
    "# Параметризованный запрос\n",
    "new_student = ('Алексей', 23, 'Java')\n",
    "cursor.execute(\"INSERT INTO students (name, age, course) VALUES (?, ?, ?)\", new_student)\n",
    "\n",
    "# Сохранение изменений\n",
    "conn.commit()\n",
    "\n",
    "# Закрытие соединения\n",
    "conn.close()"
   ]
  },
  {
   "cell_type": "code",
   "execution_count": 9,
   "id": "2dc8cfbe-c9c6-41a7-9e5d-ed19a65f6019",
   "metadata": {},
   "outputs": [
    {
     "name": "stdout",
     "output_type": "stream",
     "text": [
      "(1, 'Иван', 20, 'Python')\n",
      "(3, 'Мария', 21, 'Python')\n",
      "(4, 'Иван', 20, 'Python')\n",
      "(6, 'Мария', 21, 'Python')\n"
     ]
    }
   ],
   "source": [
    "# Выберем всех студентов, которые изучают Python.\n",
    "\n",
    "# Подключение к базе данных\n",
    "conn = sqlite3.connect('example.db')\n",
    "cursor = conn.cursor()\n",
    "\n",
    "# Параметризованный запрос\n",
    "course = 'Python'\n",
    "cursor.execute(\"SELECT * FROM students WHERE course = ?\", (course,))\n",
    "\n",
    "# Получение результатов\n",
    "rows = cursor.fetchall()\n",
    "for row in rows:\n",
    "    print(row)\n",
    "\n",
    "# Закрытие соединения\n",
    "conn.close()"
   ]
  },
  {
   "cell_type": "markdown",
   "id": "cffba748-f0cd-448a-a455-e13512c8a397",
   "metadata": {},
   "source": [
    "#### Практика"
   ]
  },
  {
   "cell_type": "code",
   "execution_count": 3,
   "id": "aaeec2b8-0e95-411f-9993-c657bdc2c57c",
   "metadata": {},
   "outputs": [
    {
     "name": "stdout",
     "output_type": "stream",
     "text": [
      "(1, 'Иван Иванов', 'Разработчик', 110000)\n",
      "(2, 'Петр Петров', 'Менеджер', 120000)\n",
      "(4, 'Иван Иванов', 'Разработчик', 110000)\n",
      "(5, 'Петр Петров', 'Менеджер', 120000)\n"
     ]
    }
   ],
   "source": [
    "# Подключение к базе данных\n",
    "conn = sqlite3.connect('company.db')\n",
    "cursor = conn.cursor()\n",
    "\n",
    "# Выберите всех сотрудников из таблицы employees, у которых зарплата больше 100000.\n",
    "salary_threshold = 100000\n",
    "cursor.execute(\"SELECT * FROM employees WHERE salary > ?\", (salary_threshold,))\n",
    "\n",
    "# Получение результатов\n",
    "rows = cursor.fetchall()\n",
    "for row in rows:\n",
    "    print(row)\n",
    "\n",
    "# Обновите зарплату сотрудника с именем \"Иван Иванов\" до 110000.\n",
    "new_salary = 110000\n",
    "name = 'Иван Иванов'\n",
    "cursor.execute(\"UPDATE employees SET salary = ? WHERE name = ?\", (new_salary, name))\n",
    "\n",
    "# Удалите сотрудника с именем \"Мария Сидорова\".\n",
    "name = 'Мария Сидорова'\n",
    "cursor.execute(\"DELETE FROM employees WHERE name = ?\", (name,))\n",
    "\n",
    "# Сохранение изменений\n",
    "conn.commit()\n",
    "\n",
    "# Закрытие соединения\n",
    "conn.close()"
   ]
  },
  {
   "cell_type": "markdown",
   "id": "e5c822e0-1996-412b-88c8-4a67cdf16ae1",
   "metadata": {},
   "source": [
    "## 2.2.4.Практика: создание базы данных для To-Do List."
   ]
  }
 ],
 "metadata": {
  "kernelspec": {
   "display_name": "Python 3 (ipykernel)",
   "language": "python",
   "name": "python3"
  },
  "language_info": {
   "codemirror_mode": {
    "name": "ipython",
    "version": 3
   },
   "file_extension": ".py",
   "mimetype": "text/x-python",
   "name": "python",
   "nbconvert_exporter": "python",
   "pygments_lexer": "ipython3",
   "version": "3.12.4"
  }
 },
 "nbformat": 4,
 "nbformat_minor": 5
}
