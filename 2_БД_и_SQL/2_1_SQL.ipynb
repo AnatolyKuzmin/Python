{
 "cells": [
  {
   "cell_type": "markdown",
   "id": "c8b72f89-f953-4425-abb9-25c1edf3ec21",
   "metadata": {
    "jp-MarkdownHeadingCollapsed": true
   },
   "source": [
    "## 2.1.1.ведение в SQL, CREATE, INSERT, SELECT."
   ]
  },
  {
   "cell_type": "markdown",
   "id": "de988054-ecdf-443c-9364-a71803a5949c",
   "metadata": {},
   "source": [
    "**SQL (Structured Query Language)** — это язык программирования, используемый для работы с реляционными базами данных."
   ]
  },
  {
   "cell_type": "markdown",
   "id": "f058d83b-ec2b-44b6-85cf-89bbeab11df1",
   "metadata": {},
   "source": [
    "```CREATE TABLE``` — создает новую таблицу.\n",
    "\n",
    "```INSERT INTO``` — вставляет данные в таблицу.\n",
    "\n",
    "```SELECT``` — выбирает данные из таблицы."
   ]
  },
  {
   "cell_type": "raw",
   "id": "54870e79-16d4-4220-bf75-1b720a5ffea1",
   "metadata": {},
   "source": [
    "# Создание таблицы\n",
    "CREATE TABLE students (\n",
    "    id INT PRIMARY KEY AUTO_INCREMENT,\n",
    "    name VARCHAR(50) NOT NULL,\n",
    "    age INT,\n",
    "    course VARCHAR(50)\n",
    ");\n",
    "\n",
    "# id — уникальный идентификатор студента (первичный ключ).\n",
    "# name — имя студента (не может быть пустым).\n",
    "# age — возраст студента.\n",
    "# course — курс, на котором учится студент."
   ]
  },
  {
   "cell_type": "raw",
   "id": "0ffe5115-1aae-43df-b35d-4e685768b89d",
   "metadata": {},
   "source": [
    "# Вставка данных\n",
    "INSERT INTO students (name, age, course)\n",
    "VALUES ('Иван', 20, 'Python'),\n",
    "       ('Петр', 22, 'JavaScript'),\n",
    "       ('Мария', 21, 'Python');"
   ]
  },
  {
   "cell_type": "raw",
   "id": "20d7c07d-f4c2-4877-a412-25dddcd0095a",
   "metadata": {},
   "source": [
    "# Выборка данных\n",
    "SELECT column1, column2, ...\n",
    "FROM table_name\n",
    "WHERE condition;"
   ]
  },
  {
   "cell_type": "markdown",
   "id": "a5e5f242-fa0f-4306-b8e7-077f811ed7a9",
   "metadata": {
    "jp-MarkdownHeadingCollapsed": true
   },
   "source": [
    "#### Пратика"
   ]
  },
  {
   "cell_type": "raw",
   "id": "8f3f3136-affa-4943-b693-8787ec1cb307",
   "metadata": {},
   "source": [
    "# Создание таблицы и вставка данных\n",
    "CREATE TABLE employees (\n",
    "    id INT PRIMARY KEY AUTO_INCREMENT,\n",
    "    name VARCHAR(50) NOT NULL,\n",
    "    position VARCHAR(50),\n",
    "    salary INT\n",
    ");\n",
    "\n",
    "INSERT INTO employees (name, position, salary)\n",
    "VALUES ('Иван Иванов', 'Разработчик', 100000),\n",
    "       ('Петр Петров', 'Менеджер', 120000),\n",
    "       ('Мария Сидорова', 'Дизайнер', 90000);"
   ]
  },
  {
   "cell_type": "raw",
   "id": "e34cc79a-bd35-4481-a07d-562a1e3b6235",
   "metadata": {},
   "source": [
    "# Выборка данных\n",
    "SELECT * FROM employees\r\n",
    "WHERE salary > 95000;"
   ]
  },
  {
   "cell_type": "raw",
   "id": "49aa8bb9-7337-4d6f-acc3-43899300828c",
   "metadata": {},
   "source": [
    "# Выборка определенных колонок\n",
    "SELECT name, position FROM employees;"
   ]
  },
  {
   "cell_type": "markdown",
   "id": "8c9ebac8-df32-4934-80d0-b397d6432328",
   "metadata": {
    "jp-MarkdownHeadingCollapsed": true
   },
   "source": [
    "## 2.1.2.WHERE, ORDER BY, LIMIT."
   ]
  },
  {
   "cell_type": "markdown",
   "id": "1ba70f64-ed3e-4e97-b8b3-0f040866a554",
   "metadata": {},
   "source": [
    "```WHERE``` — фильтрация данных по условию.\n",
    "\n",
    "```ORDER BY``` — сортировка данных.\n",
    "\n",
    "```LIMIT``` — ограничение количества возвращаемых строк."
   ]
  },
  {
   "cell_type": "raw",
   "id": "45737d4f-da0e-4b0f-bf77-da01ae163a48",
   "metadata": {},
   "source": [
    "# Примеры использования WHERE\n",
    "SELECT * FROM students\n",
    "WHERE course = 'Python';\n",
    "\n",
    "SELECT * FROM students\n",
    "WHERE age > 20;\n",
    "\n",
    "SELECT * FROM students\n",
    "WHERE course = 'Python' AND age > 20;\n",
    "\n",
    "SELECT * FROM students\n",
    "WHERE course = 'Python' OR course = 'JavaScript';"
   ]
  },
  {
   "cell_type": "raw",
   "id": "5c45da86-6066-489f-bedf-47cd444cda87",
   "metadata": {},
   "source": [
    "# Сортировка данных (ORDER BY)\n",
    "SELECT * FROM students\n",
    "ORDER BY age ASC;\n",
    "\n",
    "SELECT * FROM students\n",
    "ORDER BY age DESC;\n",
    "\n",
    "SELECT * FROM students\n",
    "ORDER BY course ASC, age DESC;"
   ]
  },
  {
   "cell_type": "raw",
   "id": "59e8c1d7-7ec8-4a80-9c4d-03571fa6dae3",
   "metadata": {},
   "source": [
    "# Ограничение выборки (LIMIT)\n",
    "SELECT * FROM students\n",
    "LIMIT 2;\n",
    "\n",
    "SELECT * FROM students\n",
    "LIMIT 2 OFFSET 2;"
   ]
  },
  {
   "cell_type": "markdown",
   "id": "b698352b-720f-4d78-a794-d153ddb1840d",
   "metadata": {
    "jp-MarkdownHeadingCollapsed": true
   },
   "source": [
    "#### Практика"
   ]
  },
  {
   "cell_type": "raw",
   "id": "1cb06545-aebd-499b-80db-fd98d578df74",
   "metadata": {},
   "source": [
    "# Фильтрация данных\n",
    "SELECT * FROM employees\n",
    "WHERE salary > 100000;"
   ]
  },
  {
   "cell_type": "raw",
   "id": "54769162-b5bb-4011-88d0-aae18471e4fb",
   "metadata": {},
   "source": [
    "# Сортировка данных\n",
    "SELECT * FROM books\n",
    "ORDER BY year DESC;"
   ]
  },
  {
   "cell_type": "raw",
   "id": "c0fe81a2-7a6a-4aff-82dd-7f9836f5c23e",
   "metadata": {},
   "source": [
    "# Ограничение выборки\n",
    "SELECT * FROM books\n",
    "LIMIT 3;"
   ]
  },
  {
   "cell_type": "markdown",
   "id": "9aff2195-0ffa-4b68-b2d2-f78063a55d55",
   "metadata": {},
   "source": [
    "## 2.1.3.JOIN (INNER, LEFT, RIGHT)."
   ]
  },
  {
   "cell_type": "markdown",
   "id": "13520900-db98-4570-b64d-3b01f9f3923e",
   "metadata": {},
   "source": [
    "## 2.1.4.GROUP BY, HAVING, агрегатные функции."
   ]
  },
  {
   "cell_type": "markdown",
   "id": "28f2a045-2702-4684-84ce-a8e5dc01cab8",
   "metadata": {},
   "source": [
    "## 2.1.5.Практика: написание SQL-запросов"
   ]
  }
 ],
 "metadata": {
  "kernelspec": {
   "display_name": "Python 3 (ipykernel)",
   "language": "python",
   "name": "python3"
  },
  "language_info": {
   "codemirror_mode": {
    "name": "ipython",
    "version": 3
   },
   "file_extension": ".py",
   "mimetype": "text/x-python",
   "name": "python",
   "nbconvert_exporter": "python",
   "pygments_lexer": "ipython3",
   "version": "3.12.4"
  }
 },
 "nbformat": 4,
 "nbformat_minor": 5
}
