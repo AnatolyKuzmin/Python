{
 "cells": [
  {
   "cell_type": "markdown",
   "id": "c8b72f89-f953-4425-abb9-25c1edf3ec21",
   "metadata": {},
   "source": [
    "## 2.1.1.ведение в SQL, CREATE, INSERT, SELECT."
   ]
  },
  {
   "cell_type": "markdown",
   "id": "de988054-ecdf-443c-9364-a71803a5949c",
   "metadata": {},
   "source": [
    "**SQL (Structured Query Language)** — это язык программирования, используемый для работы с реляционными базами данных."
   ]
  },
  {
   "cell_type": "markdown",
   "id": "f058d83b-ec2b-44b6-85cf-89bbeab11df1",
   "metadata": {},
   "source": [
    "```CREATE TABLE``` — создает новую таблицу.\n",
    "\n",
    "```INSERT INTO``` — вставляет данные в таблицу.\n",
    "\n",
    "```SELECT``` — выбирает данные из таблицы."
   ]
  },
  {
   "cell_type": "markdown",
   "id": "31c5bb24-967f-4718-9794-44c2c7bee156",
   "metadata": {},
   "source": [
    "```CREATE TABLE students (```  \n",
    "    ```id INT PRIMARY KEY AUTO_INCREMENT,```  \n",
    "    ```name VARCHAR(50) NOT NULL,```  \n",
    "    ```age INT,```  \n",
    "    ```course VARCHAR(50)```  \n",
    "```);```  \n",
    "\n",
    "Создание таблицы:\n",
    "- id — уникальный идентификатор студента (первичный ключ).\n",
    "- name — имя студента (не может быть пустым).\n",
    "- age — возраст студента.\n",
    "- course — курс, на котором учится студент."
   ]
  },
  {
   "cell_type": "markdown",
   "id": "f7080ad4-0e84-4aa8-ae70-4875592603c7",
   "metadata": {},
   "source": [
    "Вставка данных  \n",
    "```INSERT INTO students (name, age, course)```  \n",
    "```VALUES ('Иван', 20, 'Python'),```  \n",
    "       ```('Петр', 22, 'JavaScript'),```  \n",
    "       ```('Мария', 21, 'Python');```  "
   ]
  },
  {
   "cell_type": "markdown",
   "id": "98d2ea55-a20e-4298-b1b5-9a3298c2c6eb",
   "metadata": {},
   "source": [
    "Выборка данных  \n",
    "```SELECT column1, column2, ...```  \n",
    "```FROM table_name```  \n",
    "```WHERE condition;```  "
   ]
  },
  {
   "cell_type": "markdown",
   "id": "a5e5f242-fa0f-4306-b8e7-077f811ed7a9",
   "metadata": {},
   "source": [
    "#### Пратика"
   ]
  },
  {
   "cell_type": "markdown",
   "id": "ce597d98-6b14-4927-981e-767b8bbab5d5",
   "metadata": {},
   "source": [
    "Создание таблицы и вставка данных\n",
    "```CREATE TABLE employees (```  \n",
    "    ```id INT PRIMARY KEY AUTO_INCREMENT,```  \n",
    "    ```name VARCHAR(50) NOT NULL,```  \n",
    "    ```position VARCHAR(50),```  \n",
    "    ```salary INT```  \n",
    "```);```  \n",
    "\n",
    "```INSERT INTO employees (name, position, salary)```  \n",
    "```VALUES ('Иван Иванов', 'Разработчик', 100000),```  \n",
    "       ```('Петр Петров', 'Менеджер', 120000),```  \n",
    "       ```('Мария Сидорова', 'Дизайнер', 90000);```  "
   ]
  },
  {
   "cell_type": "markdown",
   "id": "f8601d27-e3f4-4611-b8e8-863f42193a2a",
   "metadata": {},
   "source": [
    "Выборка данных  \n",
    "```SELECT * FROM employees```  \r",
    "```WHERE salary > 95000```  ;"
   ]
  },
  {
   "cell_type": "markdown",
   "id": "614a0716-30cb-42f1-80a8-5b39d10d3138",
   "metadata": {},
   "source": [
    "Выборка определенных колонок  \n",
    "```SELECT name, position FROM employees;```"
   ]
  },
  {
   "cell_type": "markdown",
   "id": "8c9ebac8-df32-4934-80d0-b397d6432328",
   "metadata": {},
   "source": [
    "## 2.1.2.WHERE, ORDER BY, LIMIT."
   ]
  },
  {
   "cell_type": "markdown",
   "id": "1ba70f64-ed3e-4e97-b8b3-0f040866a554",
   "metadata": {},
   "source": [
    "```WHERE``` — фильтрация данных по условию.\n",
    "\n",
    "```ORDER BY``` — сортировка данных.\n",
    "\n",
    "```LIMIT``` — ограничение количества возвращаемых строк."
   ]
  },
  {
   "cell_type": "markdown",
   "id": "6e7ad190-8b99-4139-9c00-fc67e06d3d30",
   "metadata": {},
   "source": [
    "Примеры использования WHERE  \n",
    "```SELECT * FROM students```  \n",
    "```WHERE course = 'Python';```  \n",
    "\n",
    "```SELECT * FROM students```  \n",
    "```WHERE age > 20;```  \n",
    "\n",
    "```SELECT * FROM students```  \n",
    "```WHERE course = 'Python' AND age > 20;```  \n",
    "\n",
    "```SELECT * FROM students```  \n",
    "```WHERE course = 'Python' OR course = 'JavaScript';```"
   ]
  },
  {
   "cell_type": "markdown",
   "id": "9eff867d-3b32-4783-8f10-c90bae1d8aca",
   "metadata": {},
   "source": [
    "Сортировка данных (ORDER BY)\n",
    "```SELECT * FROM students```  \n",
    "```ORDER BY age ASC;```  \n",
    "\n",
    "```SELECT * FROM students```  \n",
    "```ORDER BY age DESC;```  \n",
    "\n",
    "```SELECT * FROM students```  \n",
    "```ORDER BY course ASC, age DESC;```  "
   ]
  },
  {
   "cell_type": "markdown",
   "id": "63d23e40-4023-4883-81c7-7c6d11b37893",
   "metadata": {},
   "source": [
    "Ограничение выборки (LIMIT)\n",
    "```SELECT * FROM students```  \n",
    "```LIMIT 2;```  \n",
    "\n",
    "```SELECT * FROM students```  \n",
    "```LIMIT 2 OFFSET 2;```  "
   ]
  },
  {
   "cell_type": "markdown",
   "id": "b698352b-720f-4d78-a794-d153ddb1840d",
   "metadata": {},
   "source": [
    "#### Практика"
   ]
  },
  {
   "cell_type": "markdown",
   "id": "4ec49fab-def2-4ac7-b14b-810f6ee2f200",
   "metadata": {},
   "source": [
    "Фильтрация данных  \n",
    "```SELECT * FROM employees```  \n",
    "```WHERE salary > 100000;```  "
   ]
  },
  {
   "cell_type": "markdown",
   "id": "94b454d9-0e59-4e47-8252-24ee122e8add",
   "metadata": {},
   "source": [
    "Сортировка данных  \n",
    "```SELECT * FROM books```  \n",
    "```ORDER BY year DESC;```  "
   ]
  },
  {
   "cell_type": "markdown",
   "id": "7894f747-e050-46b5-b8d5-4a06ebb7d486",
   "metadata": {},
   "source": [
    "Ограничение выборки\n",
    "```SELECT * FROM books```  \n",
    "```LIMIT 3;```  "
   ]
  },
  {
   "cell_type": "markdown",
   "id": "9aff2195-0ffa-4b68-b2d2-f78063a55d55",
   "metadata": {},
   "source": [
    "## 2.1.3.JOIN (INNER, LEFT, RIGHT)."
   ]
  },
  {
   "cell_type": "markdown",
   "id": "f37fa303-79e4-46a3-8a51-8a851f0fa30f",
   "metadata": {},
   "source": [
    "```INNER JOIN``` — возвращает только те строки, которые имеют совпадения в обеих таблицах.\n",
    "\n",
    "```LEFT JOIN``` — возвращает все строки из левой таблицы и соответствующие строки из правой таблицы. Если совпадений нет, то в правой таблице будут NULL.\n",
    "\n",
    "```RIGHT JOIN``` — возвращает все строки из правой таблицы и соответствующие строки из левой таблицы. Если совпадений нет, то в левой таблице будут NULL."
   ]
  },
  {
   "cell_type": "markdown",
   "id": "1cd22481-2f88-4857-9186-53a7705cfb77",
   "metadata": {},
   "source": [
    "создадим две таблицы: students и courses\n",
    "--students  \n",
    "```CREATE TABLE students (```  \n",
    "    ```id INT PRIMARY KEY AUTO_INCREMENT,```  \n",
    "    ```name VARCHAR(50) NOT NULL,```  \n",
    "    ```course_id INT```  \n",
    "```);```  \n",
    "\n",
    "```INSERT INTO students (name, course_id)```  \n",
    "```VALUES ('Иван', 1),```  \n",
    "       ```('Петр', 2),```  \n",
    "       ```('Мария', 1),```  \n",
    "       ```('Алексей', NULL);```  \n",
    "\n",
    "--courses  \n",
    "```CREATE TABLE courses (```  \n",
    "    ```id INT PRIMARY KEY AUTO_INCREMENT,```  \n",
    "    ```title VARCHAR(50) NOT NULL```  \n",
    "```);```  \n",
    "\n",
    "```INSERT INTO courses (title)```  \n",
    "```VALUES ('Python'),```  \n",
    "       ```('JavaScript');```  "
   ]
  },
  {
   "cell_type": "markdown",
   "id": "3513d0ef-946f-4e00-9be2-5ce7f4401164",
   "metadata": {},
   "source": [
    "INNER JOIN  \n",
    "```SELECT columns```  \n",
    "```FROM table1```  \n",
    "```INNER JOIN table2```  \n",
    "```ON table1.column = table2.column;```  \n",
    "\n",
    "Пример использования  \n",
    "```SELECT students.name, courses.title```  \n",
    "```FROM students```  \n",
    "```INNER JOIN courses```  \n",
    "```ON students.course_id = courses.id;```  "
   ]
  },
  {
   "cell_type": "markdown",
   "id": "74021f4f-23fe-477a-a724-fa423ad68732",
   "metadata": {},
   "source": [
    "LEFT JOIN  \n",
    "```SELECT columns```  \n",
    "```FROM table1```  \n",
    "```LEFT JOIN table2```  \n",
    "```ON table1.column = table2.column;```  \n",
    "\n",
    "Пример использования  \n",
    "```SELECT students.name, courses.title```  \n",
    "```FROM students```  \n",
    "```LEFT JOIN courses```  \n",
    "```ON students.course_id = courses.id;```  "
   ]
  },
  {
   "cell_type": "markdown",
   "id": "43a19e71-5d03-4a55-97bf-bd6653511fb6",
   "metadata": {},
   "source": [
    "RIGHT JOIN  \n",
    "```SELECT columns```  \n",
    "```FROM table1```  \n",
    "```RIGHT JOIN table2```  \n",
    "```ON table1.column = table2.column;```  \n",
    "\n",
    "Пример использования  \n",
    "```SELECT students.name, courses.title```  \n",
    "```FROM students```  \n",
    "```RIGHT JOIN courses```  \n",
    "```ON students.course_id = courses.id;```  "
   ]
  },
  {
   "cell_type": "markdown",
   "id": "d3f33456-d20e-4ddc-933c-8e87b28bfab5",
   "metadata": {},
   "source": [
    "#### Практика"
   ]
  },
  {
   "cell_type": "markdown",
   "id": "6ab82c6c-c033-44cf-b0fd-0e4a42d97031",
   "metadata": {},
   "source": [
    "```CREATE TABLE departments (```  \n",
    "    ```id INT PRIMARY KEY AUTO_INCREMENT,```  \n",
    "    ```name VARCHAR(50) NOT NULL```  \n",
    "```);```  \n",
    "\n",
    "```INSERT INTO departments (name)```  \n",
    "```VALUES ('IT'),```  \n",
    "       ```('HR');```  \n",
    "\n",
    "```CREATE TABLE employees (```  \n",
    "    ```id INT PRIMARY KEY AUTO_INCREMENT,```  \n",
    "    ```name VARCHAR(50) NOT NULL,```  \n",
    "    ```department_id INT```  \n",
    "```);```  \n",
    "\n",
    "```INSERT INTO employees (name, department_id)```  \n",
    "```VALUES ('Иван Иванов', 1),```  \n",
    "       ```('Петр Петров', 2),```  \n",
    "       ```('Мария Сидорова', 1),```  \n",
    "       ```('Алексей Алексеев', NULL);```  "
   ]
  },
  {
   "cell_type": "markdown",
   "id": "ecef3cad-5342-40e8-9577-0685c5f6c7aa",
   "metadata": {},
   "source": [
    "- INNER JOIN  \n",
    "```SELECT employees.name, departments.name AS department```  \n",
    "```FROM employees```  \n",
    "```INNER JOIN departments```  \n",
    "```ON employees.department_id = departments.id;```  "
   ]
  },
  {
   "cell_type": "markdown",
   "id": "8930cd79-3bdd-41f3-a73b-0ee69ed26c48",
   "metadata": {},
   "source": [
    "- LEFT JOIN  \n",
    "```SELECT employees.name, departments.name AS department```  \r",
    "```\n",
    "FROM employee```  s```\r\n",
    "LEFT JOIN departmen```  t```s\r\n",
    "ON employees.department_id = departments.```  id;"
   ]
  },
  {
   "cell_type": "markdown",
   "id": "d6c16e50-5214-408b-9e54-f6d9f43fbb61",
   "metadata": {},
   "source": [
    "- RIGHT JOIN  \n",
    "```SELECT employees.name, departments.name AS department```  \n",
    "```FROM employees```  \n",
    "```RIGHT JOIN departments```  \n",
    "```ON employees.department_id = departments.id;```  "
   ]
  },
  {
   "cell_type": "markdown",
   "id": "13520900-db98-4570-b64d-3b01f9f3923e",
   "metadata": {},
   "source": [
    "## 2.1.4.GROUP BY, HAVING, агрегатные функции."
   ]
  },
  {
   "cell_type": "markdown",
   "id": "4dcd2e48-6e83-4481-8e9d-0c8161ff3f5b",
   "metadata": {},
   "source": [
    "```COUNT()``` — подсчитывает количество строк.\n",
    "\n",
    "```SUM()``` — вычисляет сумму значений.\n",
    "\n",
    "```AVG()``` — вычисляет среднее значение.\n",
    "\n",
    "```MIN()``` — находит минимальное значение.\n",
    "\n",
    "```MAX()``` — находит максимальное значение."
   ]
  },
  {
   "cell_type": "markdown",
   "id": "0416afec-6857-421f-97d8-20ce091efafa",
   "metadata": {},
   "source": [
    "--Подсчитаем количество студентов в таблице students  \n",
    "```SELECT COUNT(*) AS total_students```  \n",
    "```FROM students;```  \n",
    "\n",
    "--Найдем средний возраст студентов  \n",
    "```SELECT AVG(age) AS average_age```  \n",
    "```FROM students;```  \n",
    "\n",
    "--Найдем максимальную зарплату в таблице employees  \n",
    "```SELECT MAX(salary) AS max_salary```  \n",
    "```FROM employees;```  \n",
    "\n",
    "--Пример использования GROUP BY  \n",
    "```SELECT course, COUNT(*) AS student_count```  \n",
    "```FROM students```  \n",
    "```GROUP BY course;```  \n",
    "\n",
    "--Найдем среднюю зарплату по отделам в таблице employees  \n",
    "```SELECT department, AVG(salary) AS average_salary```  \n",
    "```FROM employees```  \n",
    "```GROUP BY department;```  \n",
    "\n",
    "--Найдем курсы, на которых учится более одного студента.  \n",
    "```SELECT course, COUNT(*) AS student_count```  \n",
    "```FROM students```  \n",
    "```GROUP BY course```  \n",
    "```HAVING student_count > 1;```  \n",
    "\n",
    "--Найдем отделы, где средняя зарплата больше 100000  \n",
    "```SELECT department, AVG(salary) AS average_salary```  \n",
    "```FROM employees```  \n",
    "```GROUP BY department```  \n",
    "```HAVING average_salary > 100000;```  "
   ]
  },
  {
   "cell_type": "markdown",
   "id": "54e9a828-0450-470b-9c70-6d405ee82476",
   "metadata": {},
   "source": [
    "#### Практика"
   ]
  },
  {
   "cell_type": "markdown",
   "id": "a2bb9676-3057-4ea5-a41c-bc9afa84b35a",
   "metadata": {},
   "source": [
    "-- Создание таблицы  \n",
    "```CREATE TABLE customers (```  \n",
    "    ```id INT PRIMARY KEY AUTO_INCREMENT,```  \n",
    "    ```name VARCHAR(50) NOT NULL```  \n",
    "```);```  \n",
    "\n",
    "```CREATE TABLE orders (```  \n",
    "    ```id INT PRIMARY KEY AUTO_INCREMENT,```  \n",
    "    ```customer_id INT,```  \n",
    "    ```amount DECIMAL(10, 2)```  \n",
    "```);```  \n",
    "\n",
    "```INSERT INTO customers (name)```  \n",
    "```VALUES ('Иван Иванов'),```  \n",
    "       ```('Петр Петров'),```  \n",
    "       ```('Мария Сидорова');```  \n",
    "\n",
    "```INSERT INTO orders (customer_id, amount)```  \n",
    "```VALUES (1, 1000.00),```  \n",
    "       ```(1, 1500.00),```  \n",
    "       ```(2, 2000.00),```  \n",
    "       ```(3, 500.00);```  "
   ]
  },
  {
   "cell_type": "markdown",
   "id": "d773ce79-a4b1-4d85-8c04-aa12806d0e85",
   "metadata": {},
   "source": [
    "-- Подсчитайте количество заказов для каждого клиента.  \n",
    "```SELECT customers.name, COUNT(orders.id) AS order_count```  \n",
    "```FROM customers```  \n",
    "```LEFT JOIN orders```  \n",
    "```ON customers.id = orders.customer_id```  \n",
    "```GROUP BY customers.name;```  "
   ]
  },
  {
   "cell_type": "markdown",
   "id": "ed75a075-3975-423f-bbdb-e415e3b54aad",
   "metadata": {},
   "source": [
    "-- Найдите общую сумму заказов для каждого клиента.  \n",
    "```SELECT customers.name, SUM(orders.amount) AS total_amount```  \n",
    "```FROM customers```  \n",
    "```LEFT JOIN orders```  \n",
    "```ON customers.id = orders.customer_id```  \n",
    "```GROUP BY customers.name;```  "
   ]
  },
  {
   "cell_type": "markdown",
   "id": "cb53c117-aebb-4817-90e8-613b871c2c07",
   "metadata": {},
   "source": [
    "-- Найдите клиентов, у которых общая сумма заказов превышает 1000  \n",
    "```SELECT customers.name, SUM(orders.amount) AS total_amount```  \n",
    "```FROM customers```  \n",
    "```LEFT JOIN orders```  \n",
    "```ON customers.id = orders.customer_id```  \n",
    "```GROUP BY customers.name```  \n",
    "```HAVING total_amount > 1000;```  "
   ]
  }
 ],
 "metadata": {
  "kernelspec": {
   "display_name": "Python 3 (ipykernel)",
   "language": "python",
   "name": "python3"
  },
  "language_info": {
   "codemirror_mode": {
    "name": "ipython",
    "version": 3
   },
   "file_extension": ".py",
   "mimetype": "text/x-python",
   "name": "python",
   "nbconvert_exporter": "python",
   "pygments_lexer": "ipython3",
   "version": "3.12.4"
  }
 },
 "nbformat": 4,
 "nbformat_minor": 5
}
