{
 "cells": [
  {
   "cell_type": "markdown",
   "id": "c8b72f89-f953-4425-abb9-25c1edf3ec21",
   "metadata": {
    "jp-MarkdownHeadingCollapsed": true
   },
   "source": [
    "## 2.1.1.ведение в SQL, CREATE, INSERT, SELECT."
   ]
  },
  {
   "cell_type": "markdown",
   "id": "de988054-ecdf-443c-9364-a71803a5949c",
   "metadata": {},
   "source": [
    "**SQL (Structured Query Language)** — это язык программирования, используемый для работы с реляционными базами данных."
   ]
  },
  {
   "cell_type": "markdown",
   "id": "f058d83b-ec2b-44b6-85cf-89bbeab11df1",
   "metadata": {},
   "source": [
    "```CREATE TABLE``` — создает новую таблицу.\n",
    "\n",
    "```INSERT INTO``` — вставляет данные в таблицу.\n",
    "\n",
    "```SELECT``` — выбирает данные из таблицы."
   ]
  },
  {
   "cell_type": "raw",
   "id": "54870e79-16d4-4220-bf75-1b720a5ffea1",
   "metadata": {},
   "source": [
    "# Создание таблицы\n",
    "CREATE TABLE students (\n",
    "    id INT PRIMARY KEY AUTO_INCREMENT,\n",
    "    name VARCHAR(50) NOT NULL,\n",
    "    age INT,\n",
    "    course VARCHAR(50)\n",
    ");\n",
    "\n",
    "# id — уникальный идентификатор студента (первичный ключ).\n",
    "# name — имя студента (не может быть пустым).\n",
    "# age — возраст студента.\n",
    "# course — курс, на котором учится студент."
   ]
  },
  {
   "cell_type": "raw",
   "id": "0ffe5115-1aae-43df-b35d-4e685768b89d",
   "metadata": {},
   "source": [
    "# Вставка данных\n",
    "INSERT INTO students (name, age, course)\n",
    "VALUES ('Иван', 20, 'Python'),\n",
    "       ('Петр', 22, 'JavaScript'),\n",
    "       ('Мария', 21, 'Python');"
   ]
  },
  {
   "cell_type": "raw",
   "id": "20d7c07d-f4c2-4877-a412-25dddcd0095a",
   "metadata": {},
   "source": [
    "# Выборка данных\n",
    "SELECT column1, column2, ...\n",
    "FROM table_name\n",
    "WHERE condition;"
   ]
  },
  {
   "cell_type": "markdown",
   "id": "a5e5f242-fa0f-4306-b8e7-077f811ed7a9",
   "metadata": {
    "jp-MarkdownHeadingCollapsed": true
   },
   "source": [
    "#### Пратика"
   ]
  },
  {
   "cell_type": "raw",
   "id": "8f3f3136-affa-4943-b693-8787ec1cb307",
   "metadata": {},
   "source": [
    "# Создание таблицы и вставка данных\n",
    "CREATE TABLE employees (\n",
    "    id INT PRIMARY KEY AUTO_INCREMENT,\n",
    "    name VARCHAR(50) NOT NULL,\n",
    "    position VARCHAR(50),\n",
    "    salary INT\n",
    ");\n",
    "\n",
    "INSERT INTO employees (name, position, salary)\n",
    "VALUES ('Иван Иванов', 'Разработчик', 100000),\n",
    "       ('Петр Петров', 'Менеджер', 120000),\n",
    "       ('Мария Сидорова', 'Дизайнер', 90000);"
   ]
  },
  {
   "cell_type": "raw",
   "id": "e34cc79a-bd35-4481-a07d-562a1e3b6235",
   "metadata": {},
   "source": [
    "# Выборка данных\n",
    "SELECT * FROM employees\r\n",
    "WHERE salary > 95000;"
   ]
  },
  {
   "cell_type": "raw",
   "id": "49aa8bb9-7337-4d6f-acc3-43899300828c",
   "metadata": {},
   "source": [
    "# Выборка определенных колонок\n",
    "SELECT name, position FROM employees;"
   ]
  },
  {
   "cell_type": "markdown",
   "id": "8c9ebac8-df32-4934-80d0-b397d6432328",
   "metadata": {
    "jp-MarkdownHeadingCollapsed": true
   },
   "source": [
    "## 2.1.2.WHERE, ORDER BY, LIMIT."
   ]
  },
  {
   "cell_type": "markdown",
   "id": "1ba70f64-ed3e-4e97-b8b3-0f040866a554",
   "metadata": {},
   "source": [
    "```WHERE``` — фильтрация данных по условию.\n",
    "\n",
    "```ORDER BY``` — сортировка данных.\n",
    "\n",
    "```LIMIT``` — ограничение количества возвращаемых строк."
   ]
  },
  {
   "cell_type": "raw",
   "id": "45737d4f-da0e-4b0f-bf77-da01ae163a48",
   "metadata": {},
   "source": [
    "# Примеры использования WHERE\n",
    "SELECT * FROM students\n",
    "WHERE course = 'Python';\n",
    "\n",
    "SELECT * FROM students\n",
    "WHERE age > 20;\n",
    "\n",
    "SELECT * FROM students\n",
    "WHERE course = 'Python' AND age > 20;\n",
    "\n",
    "SELECT * FROM students\n",
    "WHERE course = 'Python' OR course = 'JavaScript';"
   ]
  },
  {
   "cell_type": "raw",
   "id": "5c45da86-6066-489f-bedf-47cd444cda87",
   "metadata": {},
   "source": [
    "# Сортировка данных (ORDER BY)\n",
    "SELECT * FROM students\n",
    "ORDER BY age ASC;\n",
    "\n",
    "SELECT * FROM students\n",
    "ORDER BY age DESC;\n",
    "\n",
    "SELECT * FROM students\n",
    "ORDER BY course ASC, age DESC;"
   ]
  },
  {
   "cell_type": "raw",
   "id": "59e8c1d7-7ec8-4a80-9c4d-03571fa6dae3",
   "metadata": {},
   "source": [
    "# Ограничение выборки (LIMIT)\n",
    "SELECT * FROM students\n",
    "LIMIT 2;\n",
    "\n",
    "SELECT * FROM students\n",
    "LIMIT 2 OFFSET 2;"
   ]
  },
  {
   "cell_type": "markdown",
   "id": "b698352b-720f-4d78-a794-d153ddb1840d",
   "metadata": {
    "jp-MarkdownHeadingCollapsed": true
   },
   "source": [
    "#### Практика"
   ]
  },
  {
   "cell_type": "raw",
   "id": "1cb06545-aebd-499b-80db-fd98d578df74",
   "metadata": {},
   "source": [
    "# Фильтрация данных\n",
    "SELECT * FROM employees\n",
    "WHERE salary > 100000;"
   ]
  },
  {
   "cell_type": "raw",
   "id": "54769162-b5bb-4011-88d0-aae18471e4fb",
   "metadata": {},
   "source": [
    "# Сортировка данных\n",
    "SELECT * FROM books\n",
    "ORDER BY year DESC;"
   ]
  },
  {
   "cell_type": "raw",
   "id": "c0fe81a2-7a6a-4aff-82dd-7f9836f5c23e",
   "metadata": {},
   "source": [
    "# Ограничение выборки\n",
    "SELECT * FROM books\n",
    "LIMIT 3;"
   ]
  },
  {
   "cell_type": "markdown",
   "id": "9aff2195-0ffa-4b68-b2d2-f78063a55d55",
   "metadata": {
    "jp-MarkdownHeadingCollapsed": true
   },
   "source": [
    "## 2.1.3.JOIN (INNER, LEFT, RIGHT)."
   ]
  },
  {
   "cell_type": "markdown",
   "id": "f37fa303-79e4-46a3-8a51-8a851f0fa30f",
   "metadata": {},
   "source": [
    "```INNER JOIN``` — возвращает только те строки, которые имеют совпадения в обеих таблицах.\n",
    "\n",
    "```LEFT JOIN``` — возвращает все строки из левой таблицы и соответствующие строки из правой таблицы. Если совпадений нет, то в правой таблице будут NULL.\n",
    "\n",
    "```RIGHT JOIN``` — возвращает все строки из правой таблицы и соответствующие строки из левой таблицы. Если совпадений нет, то в левой таблице будут NULL."
   ]
  },
  {
   "cell_type": "raw",
   "id": "da6585fe-9ae7-47da-884f-1fd7bb5c22e6",
   "metadata": {},
   "source": [
    "#  создадим две таблицы: students и courses\n",
    "--students\n",
    "CREATE TABLE students (\n",
    "    id INT PRIMARY KEY AUTO_INCREMENT,\n",
    "    name VARCHAR(50) NOT NULL,\n",
    "    course_id INT\n",
    ");\n",
    "\n",
    "INSERT INTO students (name, course_id)\n",
    "VALUES ('Иван', 1),\n",
    "       ('Петр', 2),\n",
    "       ('Мария', 1),\n",
    "       ('Алексей', NULL);\n",
    "\n",
    "--courses\n",
    "CREATE TABLE courses (\n",
    "    id INT PRIMARY KEY AUTO_INCREMENT,\n",
    "    title VARCHAR(50) NOT NULL\n",
    ");\n",
    "\n",
    "INSERT INTO courses (title)\n",
    "VALUES ('Python'),\n",
    "       ('JavaScript');"
   ]
  },
  {
   "cell_type": "raw",
   "id": "f247a6ca-ad09-4883-a28a-162e1cae053e",
   "metadata": {},
   "source": [
    "# INNER JOIN\n",
    "SELECT columns\n",
    "FROM table1\n",
    "INNER JOIN table2\n",
    "ON table1.column = table2.column;\n",
    "\n",
    "--Пример использования\n",
    "SELECT students.name, courses.title\n",
    "FROM students\n",
    "INNER JOIN courses\n",
    "ON students.course_id = courses.id;"
   ]
  },
  {
   "cell_type": "raw",
   "id": "7782a470-72c9-47ba-b023-6c48a9c29b82",
   "metadata": {},
   "source": [
    "# LEFT JOIN\n",
    "SELECT columns\n",
    "FROM table1\n",
    "LEFT JOIN table2\n",
    "ON table1.column = table2.column;\n",
    "\n",
    "--Пример использования\n",
    "SELECT students.name, courses.title\n",
    "FROM students\n",
    "LEFT JOIN courses\n",
    "ON students.course_id = courses.id;"
   ]
  },
  {
   "cell_type": "raw",
   "id": "adef52d5-6e6d-4036-832e-2aec9ffbf64f",
   "metadata": {},
   "source": [
    "# RIGHT JOIN\n",
    "SELECT columns\n",
    "FROM table1\n",
    "RIGHT JOIN table2\n",
    "ON table1.column = table2.column;\n",
    "\n",
    "--Пример использования\n",
    "SELECT students.name, courses.title\n",
    "FROM students\n",
    "RIGHT JOIN courses\n",
    "ON students.course_id = courses.id;"
   ]
  },
  {
   "cell_type": "markdown",
   "id": "d3f33456-d20e-4ddc-933c-8e87b28bfab5",
   "metadata": {
    "jp-MarkdownHeadingCollapsed": true
   },
   "source": [
    "#### Практика"
   ]
  },
  {
   "cell_type": "raw",
   "id": "fa00f8d3-9797-4636-92d3-b0efc292749a",
   "metadata": {},
   "source": [
    "CREATE TABLE departments (\n",
    "    id INT PRIMARY KEY AUTO_INCREMENT,\n",
    "    name VARCHAR(50) NOT NULL\n",
    ");\n",
    "\n",
    "INSERT INTO departments (name)\n",
    "VALUES ('IT'),\n",
    "       ('HR');\n",
    "\n",
    "CREATE TABLE employees (\n",
    "    id INT PRIMARY KEY AUTO_INCREMENT,\n",
    "    name VARCHAR(50) NOT NULL,\n",
    "    department_id INT\n",
    ");\n",
    "\n",
    "INSERT INTO employees (name, department_id)\n",
    "VALUES ('Иван Иванов', 1),\n",
    "       ('Петр Петров', 2),\n",
    "       ('Мария Сидорова', 1),\n",
    "       ('Алексей Алексеев', NULL);"
   ]
  },
  {
   "cell_type": "raw",
   "id": "ce8d62d9-8dbe-4b9f-b6a3-6ca60dc2603a",
   "metadata": {},
   "source": [
    "-- INNER JOIN\n",
    "SELECT employees.name, departments.name AS department\n",
    "FROM employees\n",
    "INNER JOIN departments\n",
    "ON employees.department_id = departments.id;"
   ]
  },
  {
   "cell_type": "raw",
   "id": "e15788d1-47e3-4d47-beb7-8f1804204194",
   "metadata": {},
   "source": [
    "-- LEFT JOIN\n",
    "SELECT employees.name, departments.name AS department\r\n",
    "FROM employees\r\n",
    "LEFT JOIN departments\r\n",
    "ON employees.department_id = departments.id;"
   ]
  },
  {
   "cell_type": "raw",
   "id": "980466c0-f5bc-4caf-aa40-4f4102b58b98",
   "metadata": {},
   "source": [
    "-- RIGHT JOIN\n",
    "SELECT employees.name, departments.name AS department\n",
    "FROM employees\n",
    "RIGHT JOIN departments\n",
    "ON employees.department_id = departments.id;"
   ]
  },
  {
   "cell_type": "markdown",
   "id": "13520900-db98-4570-b64d-3b01f9f3923e",
   "metadata": {},
   "source": [
    "## 2.1.4.GROUP BY, HAVING, агрегатные функции."
   ]
  },
  {
   "cell_type": "markdown",
   "id": "4dcd2e48-6e83-4481-8e9d-0c8161ff3f5b",
   "metadata": {},
   "source": [
    "```COUNT()``` — подсчитывает количество строк.\n",
    "\n",
    "```SUM()``` — вычисляет сумму значений.\n",
    "\n",
    "```AVG()``` — вычисляет среднее значение.\n",
    "\n",
    "```MIN()``` — находит минимальное значение.\n",
    "\n",
    "```MAX()``` — находит максимальное значение."
   ]
  },
  {
   "cell_type": "raw",
   "id": "32e305c2-2a52-4d0a-a9de-338b34988594",
   "metadata": {},
   "source": [
    "--Подсчитаем количество студентов в таблице students\n",
    "SELECT COUNT(*) AS total_students\n",
    "FROM students;\n",
    "\n",
    "--Найдем средний возраст студентов\n",
    "SELECT AVG(age) AS average_age\n",
    "FROM students;\n",
    "\n",
    "--Найдем максимальную зарплату в таблице employees\n",
    "SELECT MAX(salary) AS max_salary\n",
    "FROM employees;\n",
    "\n",
    "--Пример использования GROUP BY\n",
    "SELECT course, COUNT(*) AS student_count\n",
    "FROM students\n",
    "GROUP BY course;\n",
    "\n",
    "--Найдем среднюю зарплату по отделам в таблице employees\n",
    "SELECT department, AVG(salary) AS average_salary\n",
    "FROM employees\n",
    "GROUP BY department;\n",
    "\n",
    "--Найдем курсы, на которых учится более одного студента.\n",
    "SELECT course, COUNT(*) AS student_count\n",
    "FROM students\n",
    "GROUP BY course\n",
    "HAVING student_count > 1;\n",
    "\n",
    "--Найдем отделы, где средняя зарплата больше 100000\n",
    "SELECT department, AVG(salary) AS average_salary\n",
    "FROM employees\n",
    "GROUP BY department\n",
    "HAVING average_salary > 100000;"
   ]
  },
  {
   "cell_type": "markdown",
   "id": "54e9a828-0450-470b-9c70-6d405ee82476",
   "metadata": {},
   "source": [
    "#### Практика"
   ]
  },
  {
   "cell_type": "raw",
   "id": "70f81261-9b1e-4fa2-934f-54bcd09c04c9",
   "metadata": {},
   "source": [
    "-- Создание таблицы\n",
    "CREATE TABLE customers (\n",
    "    id INT PRIMARY KEY AUTO_INCREMENT,\n",
    "    name VARCHAR(50) NOT NULL\n",
    ");\n",
    "\n",
    "CREATE TABLE orders (\n",
    "    id INT PRIMARY KEY AUTO_INCREMENT,\n",
    "    customer_id INT,\n",
    "    amount DECIMAL(10, 2)\n",
    ");\n",
    "\n",
    "INSERT INTO customers (name)\n",
    "VALUES ('Иван Иванов'),\n",
    "       ('Петр Петров'),\n",
    "       ('Мария Сидорова');\n",
    "\n",
    "INSERT INTO orders (customer_id, amount)\n",
    "VALUES (1, 1000.00),\n",
    "       (1, 1500.00),\n",
    "       (2, 2000.00),\n",
    "       (3, 500.00);"
   ]
  },
  {
   "cell_type": "raw",
   "id": "e48dedd1-191a-4b79-a0cd-a0d58b2ea8bc",
   "metadata": {},
   "source": [
    "-- Подсчитайте количество заказов для каждого клиента.\n",
    "SELECT customers.name, COUNT(orders.id) AS order_count\n",
    "FROM customers\n",
    "LEFT JOIN orders\n",
    "ON customers.id = orders.customer_id\n",
    "GROUP BY customers.name;"
   ]
  },
  {
   "cell_type": "raw",
   "id": "9880252c-ada9-41b0-83a6-ec0a57567c90",
   "metadata": {},
   "source": [
    "-- Найдите общую сумму заказов для каждого клиента.\n",
    "SELECT customers.name, SUM(orders.amount) AS total_amount\n",
    "FROM customers\n",
    "LEFT JOIN orders\n",
    "ON customers.id = orders.customer_id\n",
    "GROUP BY customers.name;"
   ]
  },
  {
   "cell_type": "raw",
   "id": "54a1c9bc-7178-4278-95ed-063e28f72729",
   "metadata": {},
   "source": [
    "-- Найдите клиентов, у которых общая сумма заказов превышает 1000\n",
    "SELECT customers.name, SUM(orders.amount) AS total_amount\n",
    "FROM customers\n",
    "LEFT JOIN orders\n",
    "ON customers.id = orders.customer_id\n",
    "GROUP BY customers.name\n",
    "HAVING total_amount > 1000;"
   ]
  }
 ],
 "metadata": {
  "kernelspec": {
   "display_name": "Python 3 (ipykernel)",
   "language": "python",
   "name": "python3"
  },
  "language_info": {
   "codemirror_mode": {
    "name": "ipython",
    "version": 3
   },
   "file_extension": ".py",
   "mimetype": "text/x-python",
   "name": "python",
   "nbconvert_exporter": "python",
   "pygments_lexer": "ipython3",
   "version": "3.12.4"
  }
 },
 "nbformat": 4,
 "nbformat_minor": 5
}
