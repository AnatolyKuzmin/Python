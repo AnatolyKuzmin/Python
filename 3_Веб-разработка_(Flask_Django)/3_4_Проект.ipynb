{
 "cells": [
  {
   "cell_type": "markdown",
   "metadata": {},
   "source": [
    "### 3.4.1.Разработка веб-приложения для управления проектами (Project Manager) с использованием Flask или Django."
   ]
  },
  {
   "cell_type": "markdown",
   "metadata": {},
   "source": [
    "### 3.4.2.Разработка веб-приложения для управления проектами (Project Manager) с использованием Flask или Django."
   ]
  },
  {
   "cell_type": "markdown",
   "metadata": {},
   "source": [
    "### 3.4.3.Разработка веб-приложения для управления проектами (Project Manager) с использованием Flask или Django."
   ]
  },
  {
   "cell_type": "markdown",
   "metadata": {},
   "source": [
    "### 3.4.4.Разработка веб-приложения для управления проектами (Project Manager) с использованием Flask или Django."
   ]
  }
 ],
 "metadata": {
  "language_info": {
   "name": "python"
  }
 },
 "nbformat": 4,
 "nbformat_minor": 2
}
