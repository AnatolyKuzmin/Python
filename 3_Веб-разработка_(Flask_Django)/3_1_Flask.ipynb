{
 "cells": [
  {
   "cell_type": "markdown",
   "metadata": {},
   "source": [
    "### 3.1.1.Установка Flask, создание первого приложения."
   ]
  },
  {
   "cell_type": "markdown",
   "metadata": {},
   "source": [
    "**Flask** - это микрофреймворк для создания веб-приложений на Python.\n",
    "\n",
    "- Простой: легко изучить и испльзовать\n",
    "- Гибкий: добавлять только нужные функции\n",
    "- Расширяемый: множество расширений для дополнительной функциональности"
   ]
  },
  {
   "cell_type": "code",
   "execution_count": null,
   "metadata": {},
   "outputs": [],
   "source": [
    "# Установим Flask с помощью pip\n",
    "#pip install Flask"
   ]
  },
  {
   "cell_type": "markdown",
   "metadata": {},
   "source": [
    "Структура проекта\n",
    "\n",
    "[my_flask_app](https://github.com/AnatolyKuzmin/Python/tree/main/3_Веб-разработка_(Flask_Django)/my_flask_app)/  \n",
    "│  \n",
    "├── app.py               # Основной файл приложения  \n",
    "└── requirements.txt     # Список зависимостей  "
   ]
  },
  {
   "cell_type": "markdown",
   "metadata": {},
   "source": [
    "[Файл app.py](https://github.com/AnatolyKuzmin/Python/blob/main/3_Веб-разработка_(Flask_Django)/my_flask_app/app.py)"
   ]
  },
  {
   "cell_type": "markdown",
   "metadata": {},
   "source": [
    "[Файл requirements.txt](https://github.com/AnatolyKuzmin/Python/blob/main/3_Веб-разработка_(Flask_Django)/my_flask_app/requirements.txt)"
   ]
  },
  {
   "cell_type": "markdown",
   "metadata": {},
   "source": [
    "Запустим приложение с помощью команды в командной строке  \n",
    "`python app.py`"
   ]
  },
  {
   "cell_type": "markdown",
   "metadata": {},
   "source": [
    "На странице `http://127.0.0.1:5000/` можно посмотреть результат"
   ]
  },
  {
   "cell_type": "markdown",
   "metadata": {},
   "source": [
    "### 3.1.2.Маршруты и представления."
   ]
  },
  {
   "cell_type": "markdown",
   "metadata": {},
   "source": [
    "**Маршруты (Routes)** - определяют как приложение обрабатывает запросы к определенным URL. Каждый маршрут связывает URL с функцией (представлением), которая обрабатывает запрос и возвращает ответ.  \n",
    "**Представления (Views)** - это функции, которые обрабатывают запросы и возвращают ответ. Во Flask представления могут возвращать строки, HTML-код, JSON и другие типы данных.  \n",
    "**HTTP-методы** - Flask поддерживает различные HTTP-методы, такие как GET, POST, PUT, DELETE и другие."
   ]
  },
  {
   "cell_type": "markdown",
   "metadata": {},
   "source": [
    "Добавим маршрут, который принимает имя пользователя и возвращает персонализированное приветствие. \n",
    "[Файл app.py](https://github.com/AnatolyKuzmin/Python/blob/main/3_Веб-разработка_(Flask_Django)/my_flask_app/app.py)  \n",
    "\n",
    "```@app.route(\"/user/<name>\")\n",
    "def greet_user(name):\n",
    "    return f\"Привет, {name}!\""
   ]
  },
  {
   "cell_type": "markdown",
   "metadata": {},
   "source": [
    "Пример можно посмотреть после запуска приложение по адресу `http://127.0.0.1:5000/user/Иван`"
   ]
  },
  {
   "cell_type": "markdown",
   "metadata": {},
   "source": [
    "Добавим маршрут, который обрабатывает GET и POST-запросы.  \n",
    "\n",
    "```@app.route(\"/form\", methods=[\"GET\", \"POST\"])\n",
    "def form():\n",
    "    if request.method == \"POST\":\n",
    "        name = request.form.get(\"name\")\n",
    "        return f\"Привет, {name} (POST)!\"\n",
    "    return \"\"\"\n",
    "        <form method=\"post\">\n",
    "            <label for=\"name\">Имя:</label>\n",
    "            <input type=\"text\" id=\"name\" name=\"name\">\n",
    "            <button type=\"submit\">Отправить</button>\n",
    "        </form>\n",
    "    \"\"\""
   ]
  },
  {
   "cell_type": "markdown",
   "metadata": {},
   "source": [
    "### 3.1.3.Шаблоны Jinja2."
   ]
  },
  {
   "cell_type": "markdown",
   "metadata": {},
   "source": [
    "### 3.1.4.Формы и обработка данных."
   ]
  },
  {
   "cell_type": "markdown",
   "metadata": {},
   "source": [
    "### 3.1.5.Практика: создание простого блога."
   ]
  }
 ],
 "metadata": {
  "kernelspec": {
   "display_name": "Python 3 (ipykernel)",
   "language": "python",
   "name": "python3"
  },
  "language_info": {
   "codemirror_mode": {
    "name": "ipython",
    "version": 3
   },
   "file_extension": ".py",
   "mimetype": "text/x-python",
   "name": "python",
   "nbconvert_exporter": "python",
   "pygments_lexer": "ipython3",
   "version": "3.12.4"
  }
 },
 "nbformat": 4,
 "nbformat_minor": 4
}
