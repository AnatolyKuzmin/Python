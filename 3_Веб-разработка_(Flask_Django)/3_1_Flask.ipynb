{
 "cells": [
  {
   "cell_type": "markdown",
   "metadata": {},
   "source": [
    "### 3.1.1.Установка Flask, создание первого приложения."
   ]
  },
  {
   "cell_type": "markdown",
   "metadata": {},
   "source": [
    "**Flask** - это микрофреймворк для создания веб-приложений на Python.\n",
    "\n",
    "- Простой: легко изучить и испльзовать\n",
    "- Гибкий: добавлять только нужные функции\n",
    "- Расширяемый: множество расширений для дополнительной функциональности"
   ]
  },
  {
   "cell_type": "markdown",
   "metadata": {},
   "source": [
    "Установим Flask с помощью pip  \n",
    "`pip install Flask`"
   ]
  },
  {
   "cell_type": "markdown",
   "metadata": {},
   "source": [
    "Структура проекта\n",
    "\n",
    "[my_flask_app](https://github.com/AnatolyKuzmin/Python/tree/main/3_Веб-разработка_(Flask_Django)/my_flask_app)/  \n",
    "│  \n",
    "├── app.py               # Основной файл приложения  \n",
    "└── requirements.txt     # Список зависимостей  "
   ]
  },
  {
   "cell_type": "markdown",
   "metadata": {},
   "source": [
    "[Файл app.py](https://github.com/AnatolyKuzmin/Python/blob/main/3_Веб-разработка_(Flask_Django)/my_flask_app/app.py)"
   ]
  },
  {
   "cell_type": "markdown",
   "metadata": {},
   "source": [
    "[Файл requirements.txt](https://github.com/AnatolyKuzmin/Python/blob/main/3_Веб-разработка_(Flask_Django)/my_flask_app/requirements.txt)"
   ]
  },
  {
   "cell_type": "markdown",
   "metadata": {},
   "source": [
    "Запустим приложение с помощью команды в командной строке  \n",
    "`python app.py`"
   ]
  },
  {
   "cell_type": "markdown",
   "metadata": {},
   "source": [
    "На странице `http://127.0.0.1:5000/` можно посмотреть результат"
   ]
  },
  {
   "cell_type": "markdown",
   "metadata": {},
   "source": [
    "### 3.1.2.Маршруты и представления."
   ]
  },
  {
   "cell_type": "markdown",
   "metadata": {},
   "source": [
    "**Маршруты (Routes)** - определяют как приложение обрабатывает запросы к определенным URL. Каждый маршрут связывает URL с функцией (представлением), которая обрабатывает запрос и возвращает ответ.  \n",
    "**Представления (Views)** - это функции, которые обрабатывают запросы и возвращают ответ. Во Flask представления могут возвращать строки, HTML-код, JSON и другие типы данных.  \n",
    "**HTTP-методы** - Flask поддерживает различные HTTP-методы, такие как GET, POST, PUT, DELETE и другие."
   ]
  },
  {
   "cell_type": "markdown",
   "metadata": {},
   "source": [
    "Добавим маршрут, который принимает имя пользователя и возвращает персонализированное приветствие. \n",
    "[Файл app.py](https://github.com/AnatolyKuzmin/Python/blob/main/3_Веб-разработка_(Flask_Django)/my_flask_app/app.py)  \n",
    "\n",
    "```@app.route(\"/user/<name>\")\n",
    "def greet_user(name):\n",
    "    return f\"Привет, {name}!\""
   ]
  },
  {
   "cell_type": "markdown",
   "metadata": {},
   "source": [
    "Пример можно посмотреть после запуска приложение по адресу `http://127.0.0.1:5000/user/Иван`"
   ]
  },
  {
   "cell_type": "markdown",
   "metadata": {},
   "source": [
    "Добавим маршрут, который обрабатывает GET и POST-запросы.  \n",
    "\n",
    "```@app.route(\"/form\", methods=[\"GET\", \"POST\"])\n",
    "def form():\n",
    "    if request.method == \"POST\":\n",
    "        name = request.form.get(\"name\")\n",
    "        return f\"Привет, {name} (POST)!\"\n",
    "    return \"\"\"\n",
    "        <form method=\"post\">\n",
    "            <label for=\"name\">Имя:</label>\n",
    "            <input type=\"text\" id=\"name\" name=\"name\">\n",
    "            <button type=\"submit\">Отправить</button>\n",
    "        </form>\n",
    "    \"\"\""
   ]
  },
  {
   "cell_type": "markdown",
   "metadata": {},
   "source": [
    "`http://127.0.0.1:5000/form`. Будет форма для ввода имени"
   ]
  },
  {
   "cell_type": "markdown",
   "metadata": {},
   "source": [
    "Добавим маршрут, который принимает числовой идентификатор и возвращает информацию о пользователе.\n",
    "\n",
    "```# Пример данных о пользователях\n",
    "users = {\n",
    "    1: {\"name\": \"Иван\", \"age\": 25},\n",
    "    2: {\"name\": \"Мария\", \"age\": 30}\n",
    "}\n",
    "\n",
    "@app.route(\"/user/<int:user_id>\")\n",
    "def get_user(user_id):\n",
    "    user = users.get(user_id)\n",
    "    if user:\n",
    "        return f\"Пользователь: {user['name']}, Возраст: {user['age']}\"\n",
    "    return \"Пользователь не найден\", 404"
   ]
  },
  {
   "cell_type": "markdown",
   "metadata": {},
   "source": [
    "`http://127.0.0.1:5000/user/1`. Можно увидить информацию о пользователе с ID 1"
   ]
  },
  {
   "cell_type": "markdown",
   "metadata": {},
   "source": [
    "### 3.1.3.Шаблоны Jinja2."
   ]
  },
  {
   "cell_type": "markdown",
   "metadata": {},
   "source": [
    "**Jinja2** — это мощный и гибкий шаблонизатор для Python. Он позволяет создавать динамические HTML-страницы, используя специальный синтаксис для вставки переменных, условий, циклов и других конструкций.  \n",
    "- Отделение логики от представления: Шаблоны позволяют отделить HTML-код от Python-кода.\n",
    "- Гибкость: Jinja2 поддерживает множество конструкций, таких как условия, циклы, макросы и фильтры.\n",
    "- Безопасность: Jinja2 автоматически экранирует HTML-код, что помогает предотвратить XSS-атаки."
   ]
  },
  {
   "cell_type": "markdown",
   "metadata": {},
   "source": [
    "Создадим папку templates в корне проекта и добавим туда шаблон index.html.\n",
    "\n",
    "[my_flask_app](https://github.com/AnatolyKuzmin/Python/tree/main/3_Веб-разработка_(Flask_Django)/my_flask_app)/  \n",
    "│  \n",
    "├── app.py  \n",
    "├── templates/  \n",
    "│   └── index.html  \n",
    "└── requirements.txt  "
   ]
  },
  {
   "cell_type": "markdown",
   "metadata": {},
   "source": [
    "Создадим index.html  \n",
    "\n",
    "```<!DOCTYPE html>\n",
    "<html lang=\"ru\">\n",
    "<head>\n",
    "    <meta charset=\"UTF-8\">\n",
    "    <meta name=\"viewport\" content=\"width=device-width, initial-scale=1.0\">\n",
    "    <title>Главная страница</title>\n",
    "</head>\n",
    "<body>\n",
    "    <h1>Привет, {{ name }}!</h1>\n",
    "    <p>Добро пожаловать на наш сайт.</p>\n",
    "</body>\n",
    "</html>"
   ]
  },
  {
   "cell_type": "markdown",
   "metadata": {},
   "source": [
    "Изменим app.py, чтобы использовать шаблон index.html.\n",
    "\n",
    "```from flask import Flask, render_template\n",
    "\n",
    "app = Flask(__name__)\n",
    "\n",
    "@app.route(\"/\")\n",
    "def home():\n",
    "    return render_template(\"index.html\", name=\"Иван\")\n",
    "\n",
    "if __name__ == \"__main__\":\n",
    "    app.run(debug=True)"
   ]
  },
  {
   "cell_type": "markdown",
   "metadata": {},
   "source": [
    "Добавим маршрут, который передает список пользователей в шаблон.\n",
    "\n",
    "```from flask import Flask, render_template\n",
    "\n",
    "app = Flask(__name__)\n",
    "\n",
    "@app.route(\"/\")\n",
    "def home():\n",
    "    return render_template(\"index.html\", name=\"Иван\")\n",
    "\n",
    "@app.route(\"/users\")\n",
    "def users():\n",
    "    users_list = [\n",
    "        {\"name\": \"Иван\", \"age\": 25},\n",
    "        {\"name\": \"Мария\", \"age\": 30},\n",
    "        {\"name\": \"Петр\", \"age\": 35}\n",
    "    ]\n",
    "    return render_template(\"users.html\", users=users_list)\n",
    "\n",
    "if __name__ == \"__main__\":\n",
    "    app.run(debug=True)"
   ]
  },
  {
   "cell_type": "markdown",
   "metadata": {},
   "source": [
    "Файл templates/users.html\n",
    "\n",
    "```<!DOCTYPE html>\n",
    "<html lang=\"ru\">\n",
    "<head>\n",
    "    <meta charset=\"UTF-8\">\n",
    "    <meta name=\"viewport\" content=\"width=device-width, initial-scale=1.0\">\n",
    "    <title>Пользователи</title>\n",
    "</head>\n",
    "<body>\n",
    "    <h1>Список пользователей</h1>\n",
    "    <ul>\n",
    "        {% for user in users %}\n",
    "            <li>{{ user.name }} ({{ user.age }} лет)</li>\n",
    "        {% endfor %}\n",
    "    </ul>\n",
    "</body>\n",
    "</html>"
   ]
  },
  {
   "cell_type": "markdown",
   "metadata": {},
   "source": [
    "`http://127.0.0.1:5000/users`. Вы увидите список пользователей."
   ]
  },
  {
   "cell_type": "markdown",
   "metadata": {},
   "source": [
    "Добавим условие в шаблон, чтобы выделить пользователей старше 30 лет.\n",
    "\n",
    "```<!DOCTYPE html>\n",
    "<html lang=\"ru\">\n",
    "<head>\n",
    "    <meta charset=\"UTF-8\">\n",
    "    <meta name=\"viewport\" content=\"width=device-width, initial-scale=1.0\">\n",
    "    <title>Пользователи</title>\n",
    "</head>\n",
    "<body>\n",
    "    <h1>Список пользователей</h1>\n",
    "    <ul>\n",
    "        {% for user in users %}\n",
    "            <li>\n",
    "                {{ user.name }} ({{ user.age }} лет)\n",
    "                {% if user.age > 30 %}\n",
    "                    <strong>(старше 30)</strong>\n",
    "                {% endif %}\n",
    "            </li>\n",
    "        {% endfor %}\n",
    "    </ul>\n",
    "</body>\n",
    "</html>"
   ]
  },
  {
   "cell_type": "markdown",
   "metadata": {},
   "source": [
    "### 3.1.4.Формы и обработка данных."
   ]
  },
  {
   "cell_type": "markdown",
   "metadata": {},
   "source": [
    "Формы позволяют пользователям вводить данные, которые затем отправляются на сервер для обработки. Во Flask данные формы можно получить через объект `request`.\n",
    "\n",
    "Методы HTTP-запросов:\n",
    "- GET используется для получения данных.\n",
    "- POST используется для отправки данных."
   ]
  },
  {
   "cell_type": "markdown",
   "metadata": {},
   "source": [
    "Валидация данных — это процесс проверки корректности введенных пользователем данных. Это важно для безопасности и правильной работы приложения."
   ]
  },
  {
   "cell_type": "markdown",
   "metadata": {},
   "source": [
    "Создание HTML-формы [register.html](https://github.com/AnatolyKuzmin/Python/blob/main/3_Веб-разработка_(Flask_Django)/my_flask_app/templates/register.html)\n",
    "\n",
    "```<!DOCTYPE html>\n",
    "<html lang=\"ru\">\n",
    "<head>\n",
    "    <meta charset=\"UTF-8\">\n",
    "    <meta name=\"viewport\" content=\"width=device-width, initial-scale=1.0\">\n",
    "    <title>Регистрация</title>\n",
    "</head>\n",
    "<body>\n",
    "    <h1>Регистрация</h1>\n",
    "    <form method=\"POST\" action=\"{{ url_for('register') }}\">\n",
    "        <label for=\"username\">Имя пользователя:</label>\n",
    "        <input type=\"text\" id=\"username\" name=\"username\" required>\n",
    "        <br>\n",
    "        <label for=\"email\">Email:</label>\n",
    "        <input type=\"email\" id=\"email\" name=\"email\" required>\n",
    "        <br>\n",
    "        <label for=\"password\">Пароль:</label>\n",
    "        <input type=\"password\" id=\"password\" name=\"password\" required>\n",
    "        <br>\n",
    "        <button type=\"submit\">Зарегистрироваться</button>\n",
    "    </form>\n",
    "</body>\n",
    "</html>"
   ]
  },
  {
   "cell_type": "markdown",
   "metadata": {},
   "source": [
    "Добавим обработку данных формы [app.py](https://github.com/AnatolyKuzmin/Python/blob/main/3_Веб-разработка_(Flask_Django)/my_flask_app/app.py)  \n",
    "\n",
    "```from flask import Flask, render_template, request, redirect, url_for\n",
    "\n",
    "@app.route(\"/register\", methods=[\"GET\", \"POST\"])\n",
    "def register():\n",
    "    if request.method == \"POST\":\n",
    "        username = request.form.get(\"username\")\n",
    "        email = request.form.get(\"email\")\n",
    "        password = request.form.get(\"password\")\n",
    "\n",
    "        # Простая валидация\n",
    "        if not username or not email or not password:\n",
    "            return \"Все поля обязательны для заполнения!\", 400\n",
    "\n",
    "        # Здесь можно добавить логику для сохранения пользователя в базу данных\n",
    "        return f\"Пользователь {username} успешно зарегистрирован!\"\n",
    "\n",
    "    return render_template(\"register.html\")"
   ]
  },
  {
   "cell_type": "markdown",
   "metadata": {},
   "source": [
    "Добавим более сложную валидацию данных.\n",
    "\n",
    "```\n",
    "def register():\n",
    "    if request.method == \"POST\":\n",
    "        username = request.form.get(\"username\")\n",
    "        email = request.form.get(\"email\")\n",
    "        password = request.form.get(\"password\")\n",
    "\n",
    "        # Валидация данных\n",
    "        errors = []\n",
    "        if not username:\n",
    "            errors.append(\"Имя пользователя обязательно.\")\n",
    "        if not email or \"@\" not in email:\n",
    "            errors.append(\"Введите корректный email.\")\n",
    "        if not password or len(password) < 6:\n",
    "            errors.append(\"Пароль должен содержать не менее 6 символов.\")\n",
    "\n",
    "        if errors:\n",
    "            for error in errors:\n",
    "                flash(error)\n",
    "            return redirect(url_for(\"register\"))\n",
    "\n",
    "        # Здесь можно добавить логику для сохранения пользователя в базу данных\n",
    "        flash(f\"Пользователь {username} успешно зарегистрирован!\")\n",
    "        return redirect(url_for(\"home\"))"
   ]
  },
  {
   "cell_type": "markdown",
   "metadata": {},
   "source": [
    "Добавим отображение flash-сообщений templates/register.html\n",
    "\n",
    "```\n",
    "    <h1>Регистрация</h1>\n",
    "    {% with messages = get_flashed_messages() %}\n",
    "        {% if messages %}\n",
    "            <ul>\n",
    "                {% for message in messages %}\n",
    "                    <li>{{ message }}</li>\n",
    "                {% endfor %}\n",
    "            </ul>\n",
    "        {% endif %}\n",
    "    {% endwith %}"
   ]
  },
  {
   "cell_type": "markdown",
   "metadata": {},
   "source": [
    "### 3.1.5.Практика: создание простого блога."
   ]
  }
 ],
 "metadata": {
  "kernelspec": {
   "display_name": "Python 3 (ipykernel)",
   "language": "python",
   "name": "python3"
  },
  "language_info": {
   "codemirror_mode": {
    "name": "ipython",
    "version": 3
   },
   "file_extension": ".py",
   "mimetype": "text/x-python",
   "name": "python",
   "nbconvert_exporter": "python",
   "pygments_lexer": "ipython3",
   "version": "3.12.4"
  }
 },
 "nbformat": 4,
 "nbformat_minor": 4
}
