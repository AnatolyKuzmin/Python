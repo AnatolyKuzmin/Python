{
 "cells": [
  {
   "cell_type": "markdown",
   "metadata": {},
   "source": [
    "### 3.2.1.Интеграция SQLAlchemy с Flask."
   ]
  },
  {
   "cell_type": "markdown",
   "metadata": {},
   "source": [
    "Flask не имеет встроенного ORM.  \n",
    "SQLAlchemy — самая популярная ORM для Python. Позволяет работать с БД через Python-объекты. Автоматизирует создание/изменение таблиц. Обеспечивает безопасность (защита от SQL-инъекций). Поддерживает PostgreSQL, MySQL, SQLite и другие СУБД. Flask-SQLAlchemy — официальное расширение Flask для работы с SQLAlchemy. Alembic (опционально) — для миграций базы данных.\n",
    "\n",
    "**Модель** — Python-класс, который представляет таблицу в БД  \n",
    "**Сессия** — область взаимодействия с БД (аналог транзакции)  \n",
    "**Запрос** (Query) — объект для выборки данных"
   ]
  },
  {
   "cell_type": "markdown",
   "metadata": {},
   "source": [
    "Структура проекта\n",
    "\n",
    "[myblog/](https://github.com/AnatolyKuzmin/Python/blob/main/3_Веб-разработка_(Flask_Django)/myblog_SQLAlchemy)  \n",
    "├── app.py          # Основное приложение  \n",
    "├── models.py       # Модели данных  \n",
    "├── config.py       # Конфигурация  \n",
    "└── templates/      # Шаблоны (если нужно)  "
   ]
  },
  {
   "cell_type": "markdown",
   "metadata": {},
   "source": [
    "Примеры:  \n",
    "Создание записи  \n",
    "```\n",
    "from models import User, Post\n",
    "from app import create_app\n",
    "\n",
    "app = create_app()\n",
    "\n",
    "with app.app_context():\n",
    "    # Создаём пользователя\n",
    "    new_user = User(username='john_doe', email='john@example.com')\n",
    "    db.session.add(new_user)\n",
    "    \n",
    "    # Создаём пост\n",
    "    new_post = Post(title='First Post', content='Hello World!', author=new_user)\n",
    "    db.session.add(new_post)\n",
    "    \n",
    "    # Фиксируем изменения\n",
    "    db.session.commit()\n",
    "```\n",
    "Чтение данных  \n",
    "```\n",
    "with app.app_context():\n",
    "    # Получаем всех пользователей\n",
    "    users = User.query.all()\n",
    "    \n",
    "    # Получаем пользователя по username\n",
    "    user = User.query.filter_by(username='john_doe').first()\n",
    "    \n",
    "    # Получаем все посты пользователя\n",
    "    posts = Post.query.filter_by(user_id=user.id).all()\n",
    "```\n",
    "Обновление записи  \n",
    "```\n",
    "with app.app_context():\n",
    "    user = User.query.get(1)  # Получаем пользователя с id=1\n",
    "    user.email = 'new_email@example.com'\n",
    "    db.session.commit()\n",
    "```\n",
    "Удаление записи  \n",
    "```\n",
    "with app.app_context():\n",
    "    post = Post.query.get(1)  # Получаем пост с id=1\n",
    "    db.session.delete(post)\n",
    "    db.session.commit()\n",
    "```"
   ]
  },
  {
   "cell_type": "markdown",
   "metadata": {},
   "source": [
    "!!! Важные замечания:  \n",
    "- Все изменения должны завершаться db.session.commit()  \n",
    "- При ошибках используйте db.session.rollback()  \n",
    "- Все операции с БД должны выполняться в контексте приложения  \n",
    "- Используйте with app.app_context(): если вне route-функций"
   ]
  },
  {
   "cell_type": "markdown",
   "metadata": {},
   "source": [
    "### 3.2.2.Создание моделей и миграции."
   ]
  },
  {
   "cell_type": "markdown",
   "metadata": {},
   "source": [
    "### 3.2.3.CRUD операции."
   ]
  },
  {
   "cell_type": "markdown",
   "metadata": {},
   "source": [
    "### 3.2.4.Практика: расширение блога с базой данных."
   ]
  }
 ],
 "metadata": {
  "language_info": {
   "name": "python"
  }
 },
 "nbformat": 4,
 "nbformat_minor": 2
}
