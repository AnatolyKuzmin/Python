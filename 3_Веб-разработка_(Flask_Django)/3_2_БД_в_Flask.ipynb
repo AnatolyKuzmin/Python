{
 "cells": [
  {
   "cell_type": "markdown",
   "metadata": {},
   "source": [
    "### 3.2.1.Интеграция SQLAlchemy с Flask."
   ]
  },
  {
   "cell_type": "markdown",
   "metadata": {},
   "source": [
    "Flask не имеет встроенного ORM.  \n",
    "SQLAlchemy — самая популярная ORM для Python. Позволяет работать с БД через Python-объекты. Автоматизирует создание/изменение таблиц. Обеспечивает безопасность (защита от SQL-инъекций). Поддерживает PostgreSQL, MySQL, SQLite и другие СУБД. Flask-SQLAlchemy — официальное расширение Flask для работы с SQLAlchemy. Alembic (опционально) — для миграций базы данных.\n",
    "\n",
    "**Модель** — Python-класс, который представляет таблицу в БД  \n",
    "**Сессия** — область взаимодействия с БД (аналог транзакции)  \n",
    "**Запрос** (Query) — объект для выборки данных"
   ]
  },
  {
   "cell_type": "markdown",
   "metadata": {},
   "source": [
    "Структура проекта\n",
    "\n",
    "[myblog/](https://github.com/AnatolyKuzmin/Python/blob/main/3_Веб-разработка_(Flask_Django)/myblog_SQLAlchemy)  \n",
    "├── app.py          # Основное приложение  \n",
    "├── models.py       # Модели данных  \n",
    "├── config.py       # Конфигурация  \n",
    "└── templates/      # Шаблоны (если нужно)  "
   ]
  },
  {
   "cell_type": "markdown",
   "metadata": {},
   "source": [
    "Примеры:  \n",
    "Создание записи  \n",
    "```\n",
    "from models import User, Post\n",
    "from app import create_app\n",
    "\n",
    "app = create_app()\n",
    "\n",
    "with app.app_context():\n",
    "    # Создаём пользователя\n",
    "    new_user = User(username='john_doe', email='john@example.com')\n",
    "    db.session.add(new_user)\n",
    "    \n",
    "    # Создаём пост\n",
    "    new_post = Post(title='First Post', content='Hello World!', author=new_user)\n",
    "    db.session.add(new_post)\n",
    "    \n",
    "    # Фиксируем изменения\n",
    "    db.session.commit()\n",
    "```\n",
    "Чтение данных  \n",
    "```\n",
    "with app.app_context():\n",
    "    # Получаем всех пользователей\n",
    "    users = User.query.all()\n",
    "    \n",
    "    # Получаем пользователя по username\n",
    "    user = User.query.filter_by(username='john_doe').first()\n",
    "    \n",
    "    # Получаем все посты пользователя\n",
    "    posts = Post.query.filter_by(user_id=user.id).all()\n",
    "```\n",
    "Обновление записи  \n",
    "```\n",
    "with app.app_context():\n",
    "    user = User.query.get(1)  # Получаем пользователя с id=1\n",
    "    user.email = 'new_email@example.com'\n",
    "    db.session.commit()\n",
    "```\n",
    "Удаление записи  \n",
    "```\n",
    "with app.app_context():\n",
    "    post = Post.query.get(1)  # Получаем пост с id=1\n",
    "    db.session.delete(post)\n",
    "    db.session.commit()\n",
    "```"
   ]
  },
  {
   "cell_type": "markdown",
   "metadata": {},
   "source": [
    "!!! Важные замечания:  \n",
    "- Все изменения должны завершаться db.session.commit()  \n",
    "- При ошибках используйте db.session.rollback()  \n",
    "- Все операции с БД должны выполняться в контексте приложения  \n",
    "- Используйте with app.app_context(): если вне route-функций"
   ]
  },
  {
   "cell_type": "markdown",
   "metadata": {},
   "source": [
    "### 3.2.2.Создание моделей и миграции."
   ]
  },
  {
   "cell_type": "markdown",
   "metadata": {},
   "source": [
    "Для чего нужная миграция? При изменении моделей SQLAlchemy не обновляет автоматически структуру БД.  \n",
    "Значит решение. Alembic — система миграций, которая: Отслеживает изменения моделей; Генерирует SQL-скрипты для обновления БД; Позволяет откатывать изменения. \n",
    "\n",
    "Миграция — файл с SQL-инструкциями для изменения структуры БД\n",
    "Ревизия (Revision) — версия миграции\n",
    "Upgrade/Downgrade — применение/откат изменений"
   ]
  },
  {
   "cell_type": "markdown",
   "metadata": {},
   "source": [
    "Установка пакетов `pip install alembic`  \n",
    "Инициализация миграций `flask db init`  \n",
    "Создаст папку migrations с структурой  \n",
    "migrations/  \n",
    "├── versions/       # Здесь будут храниться файлы миграций  \n",
    "├── env.py          # Конфигурация Alembic  \n",
    "└── script.py.mako  # Шаблон для миграций  \n",
    "Важно проверить настройки в migrations/env.py  \n",
    "```\n",
    "from models import db\n",
    "target_metadata = db.metadata  # Указываем метаданные моделей\n",
    "```"
   ]
  },
  {
   "cell_type": "markdown",
   "metadata": {},
   "source": [
    "Создание моделей  \n",
    "```\n",
    "from flask_sqlalchemy import SQLAlchemy\n",
    "\n",
    "db = SQLAlchemy()\n",
    "\n",
    "class User(db.Model):\n",
    "    __tablename__ = 'users'\n",
    "    \n",
    "    id = db.Column(db.Integer, primary_key=True)\n",
    "    username = db.Column(db.String(80), unique=True, nullable=False)\n",
    "    email = db.Column(db.String(120), unique=True, nullable=False)\n",
    "    created_at = db.Column(db.DateTime, server_default=db.func.now())\n",
    "    \n",
    "    posts = db.relationship('Post', backref='author', lazy=True)\n",
    "\n",
    "class Post(db.Model):\n",
    "    __tablename__ = 'posts'\n",
    "    \n",
    "    id = db.Column(db.Integer, primary_key=True)\n",
    "    title = db.Column(db.String(100), nullable=False)\n",
    "    content = db.Column(db.Text, nullable=False)\n",
    "    user_id = db.Column(db.Integer, db.ForeignKey('users.id'))\n",
    "```"
   ]
  },
  {
   "cell_type": "markdown",
   "metadata": {},
   "source": [
    "Создание первой миграции  \n",
    "Генерация миграции  \n",
    "```\n",
    "flask db migrate -m \"Initial migration\"\n",
    "```\n",
    "Пример сгенерированной миграции  \n",
    "```\n",
    "def upgrade():\n",
    "    op.create_table('users',\n",
    "        sa.Column('id', sa.Integer(), nullable=False),\n",
    "        sa.Column('username', sa.String(length=80), nullable=False),\n",
    "        ...\n",
    "    )\n",
    "    op.create_table('posts',\n",
    "        ...\n",
    "    )\n",
    "\n",
    "def downgrade():\n",
    "    op.drop_table('posts')\n",
    "    op.drop_table('users')\n",
    "```\n",
    "Применение миграции  \n",
    "```\n",
    "flask db upgrade\n",
    "```"
   ]
  },
  {
   "cell_type": "markdown",
   "metadata": {},
   "source": [
    "Изменение моделей и создание новых миграций   \n",
    "Добавим новое поле в User  \n",
    "```\n",
    "class User(db.Model):\n",
    "    # ... предыдущие поля ...\n",
    "    is_active = db.Column(db.Boolean, default=True)  # Новое поле\n",
    "```\n",
    "Создаём миграцию  \n",
    "```\n",
    "flask db migrate -m \"Add is_active to User\"\n",
    "```\n",
    "Проверяем сгенерированный SQL  \n",
    "```\n",
    "def upgrade():\n",
    "    op.add_column('users', sa.Column('is_active', sa.Boolean(), nullable=True))\n",
    "    op.execute(\"UPDATE users SET is_active = True\")  # Заполняем существующие записи\n",
    "    op.alter_column('users', 'is_active', nullable=False)\n",
    "\n",
    "def downgrade():\n",
    "    op.drop_column('users', 'is_active')\n",
    "```\n",
    "Применяем изменения  \n",
    "```\n",
    "flask db upgrade\n",
    "```\n",
    "\n",
    "\n"
   ]
  },
  {
   "cell_type": "markdown",
   "metadata": {},
   "source": [
    "### 3.2.3.CRUD операции."
   ]
  },
  {
   "cell_type": "markdown",
   "metadata": {},
   "source": [
    "### 3.2.4.Практика: расширение блога с базой данных."
   ]
  }
 ],
 "metadata": {
  "language_info": {
   "name": "python"
  }
 },
 "nbformat": 4,
 "nbformat_minor": 2
}
